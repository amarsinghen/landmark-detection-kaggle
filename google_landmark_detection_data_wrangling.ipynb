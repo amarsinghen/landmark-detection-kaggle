{
  "nbformat": 4,
  "nbformat_minor": 0,
  "metadata": {
    "colab": {
      "name": "google_landmark_detection_data_wrangling.ipynb",
      "provenance": [],
      "include_colab_link": true
    },
    "kernelspec": {
      "name": "python3",
      "display_name": "Python 3"
    },
    "accelerator": "GPU"
  },
  "cells": [
    {
      "cell_type": "markdown",
      "metadata": {
        "id": "view-in-github",
        "colab_type": "text"
      },
      "source": [
        "<a href=\"https://colab.research.google.com/github/amarsinghen/landmark-detection-kaggle/blob/unit5_2_and_5_10/google_landmark_detection_data_wrangling.ipynb\" target=\"_parent\"><img src=\"https://colab.research.google.com/assets/colab-badge.svg\" alt=\"Open In Colab\"/></a>"
      ]
    },
    {
      "cell_type": "markdown",
      "metadata": {
        "id": "hqpdjDKRxTvw",
        "colab_type": "text"
      },
      "source": [
        "Setting the tensorflow to version 2.0"
      ]
    },
    {
      "cell_type": "code",
      "metadata": {
        "id": "5sS4q7b3EDtN",
        "colab_type": "code",
        "outputId": "60fea8c0-eff5-4c9d-e9f5-4082417f6707",
        "colab": {
          "base_uri": "https://localhost:8080/",
          "height": 34
        }
      },
      "source": [
        "try:\n",
        "  # %tensorflow_version only exists in Colab.\n",
        "  %tensorflow_version 2.x\n",
        "except Exception:\n",
        "  pass"
      ],
      "execution_count": 1,
      "outputs": [
        {
          "output_type": "stream",
          "text": [
            "TensorFlow 2.x selected.\n"
          ],
          "name": "stdout"
        }
      ]
    },
    {
      "cell_type": "markdown",
      "metadata": {
        "id": "n7An0k33xaku",
        "colab_type": "text"
      },
      "source": [
        "### Imports\n",
        "All the imports for the project"
      ]
    },
    {
      "cell_type": "code",
      "metadata": {
        "id": "AoRwAqH-EtTC",
        "colab_type": "code",
        "colab": {}
      },
      "source": [
        "from __future__ import absolute_import, division, print_function, unicode_literals\n",
        "import functools\n",
        "import numpy as np\n",
        "import pandas as pd\n",
        "import pathlib\n",
        "import tensorflow as tf\n",
        "from PIL import Image\n",
        "import imageio\n",
        "import logging as log"
      ],
      "execution_count": 0,
      "outputs": []
    },
    {
      "cell_type": "code",
      "metadata": {
        "id": "aBsYs-mKEPc6",
        "colab_type": "code",
        "outputId": "615f91ef-2380-4ada-b8fb-190728f8074c",
        "colab": {
          "base_uri": "https://localhost:8080/",
          "height": 34
        }
      },
      "source": [
        "tf.__version__"
      ],
      "execution_count": 3,
      "outputs": [
        {
          "output_type": "execute_result",
          "data": {
            "text/plain": [
              "'2.0.0-rc2'"
            ]
          },
          "metadata": {
            "tags": []
          },
          "execution_count": 3
        }
      ]
    },
    {
      "cell_type": "markdown",
      "metadata": {
        "id": "kBH3KURG0ul0",
        "colab_type": "text"
      },
      "source": [
        "Setting the log level"
      ]
    },
    {
      "cell_type": "code",
      "metadata": {
        "id": "5x6ZBt5o0hgd",
        "colab_type": "code",
        "colab": {}
      },
      "source": [
        "log.basicConfig(level=log.DEBUG)"
      ],
      "execution_count": 0,
      "outputs": []
    },
    {
      "cell_type": "markdown",
      "metadata": {
        "id": "uTKg-K9wxi_2",
        "colab_type": "text"
      },
      "source": [
        "### Data Download\n",
        "Assigning Training and Test Data file URLS to variables"
      ]
    },
    {
      "cell_type": "code",
      "metadata": {
        "id": "ebPccIH8OU3U",
        "colab_type": "code",
        "colab": {}
      },
      "source": [
        "TRAIN_DATA_URL = \"https://s3.amazonaws.com/google-landmark/metadata/train.csv\"\n",
        "TRAIN_ATTRIBUTION_DATA_URL = \"https://s3.amazonaws.com/google-landmark/metadata/train_attribution.csv\"\n",
        "TRAIN_LABEL_TO_CATEGORY_DATA_URL = \"https://s3.amazonaws.com/google-landmark/metadata/train_label_to_category.csv\"\n",
        "TRAIN_IMAGES_DATA_TAR_URL = \"https://s3.amazonaws.com/google-landmark/train/images_001.tar\"\n",
        "\n",
        "TEST_DATA_CSV_URL = \"https://s3.amazonaws.com/google-landmark/metadata/test.csv\"\n",
        "TEST_DATA_RECOGNITION_SOLUTION_V2_URL = \"https://s3.amazonaws.com/google-landmark/ground_truth/recognition_solution_v2.1.csv\"\n",
        "TEST_DATA_RETRIEVAL_SOLUTION_V2_URL = \"https://s3.amazonaws.com/google-landmark/ground_truth/retrieval_solution_v2.1.csv\"\n",
        "TEST_IMAGES_DATA_TAR_URL = \"https://s3.amazonaws.com/google-landmark/test/images_000.tar\""
      ],
      "execution_count": 0,
      "outputs": []
    },
    {
      "cell_type": "markdown",
      "metadata": {
        "id": "O9dnZNNUxtL4",
        "colab_type": "text"
      },
      "source": [
        "Downloading the test and training data (csv) files. These csv files contain the urls and landmark classification information. The variables below are of type string that holds the file locations on local server. The overall image dataset is very large, ~4 million images for training and ~200k for test"
      ]
    },
    {
      "cell_type": "code",
      "metadata": {
        "id": "ijR2OVInE05O",
        "colab_type": "code",
        "outputId": "54f7027e-51c9-43d6-a2d0-1caa39b8fa31",
        "colab": {
          "base_uri": "https://localhost:8080/",
          "height": 119
        }
      },
      "source": [
        "train_file_csv = tf.keras.utils.get_file(\"train.csv\", TRAIN_DATA_URL)\n",
        "train_attribution_csv= tf.keras.utils.get_file(\"train_attribution.csv\", TRAIN_ATTRIBUTION_DATA_URL)\n",
        "train_label_to_category_csv = tf.keras.utils.get_file(\"train_label_to_category.csv\",TRAIN_LABEL_TO_CATEGORY_DATA_URL)"
      ],
      "execution_count": 6,
      "outputs": [
        {
          "output_type": "stream",
          "text": [
            "Downloading data from https://s3.amazonaws.com/google-landmark/metadata/train.csv\n",
            "525836288/525832518 [==============================] - 9s 0us/step\n",
            "Downloading data from https://s3.amazonaws.com/google-landmark/metadata/train_attribution.csv\n",
            "1011458048/1011452758 [==============================] - 19s 0us/step\n",
            "Downloading data from https://s3.amazonaws.com/google-landmark/metadata/train_label_to_category.csv\n",
            "15155200/15153105 [==============================] - 0s 0us/step\n"
          ],
          "name": "stdout"
        }
      ]
    },
    {
      "cell_type": "code",
      "metadata": {
        "id": "dznzKZSpzE5r",
        "colab_type": "code",
        "colab": {
          "base_uri": "https://localhost:8080/",
          "height": 34
        },
        "outputId": "af194d18-d9ef-453f-c6cc-10f803d8bb36"
      },
      "source": [
        "log.debug(\"The type of variables is : \" + str(type(train_file_csv)))"
      ],
      "execution_count": 7,
      "outputs": [
        {
          "output_type": "stream",
          "text": [
            "DEBUG:root:The type of variables is : <class 'str'>\n"
          ],
          "name": "stderr"
        }
      ]
    },
    {
      "cell_type": "code",
      "metadata": {
        "id": "12Vgo8-MPFiY",
        "colab_type": "code",
        "colab": {
          "base_uri": "https://localhost:8080/",
          "height": 119
        },
        "outputId": "66d355ba-f303-4c17-c493-b0be20a1ef10"
      },
      "source": [
        "test_file_csv = tf.keras.utils.get_file(\"test.csv\", TEST_DATA_CSV_URL)\n",
        "test_image_recognition_solution_csv= tf.keras.utils.get_file(\"test_images_recognition_solution.csv\", TEST_DATA_RECOGNITION_SOLUTION_V2_URL)\n",
        "test_image_retrieval_solution_csv = tf.keras.utils.get_file(\"test_images_retrieval_solution.csv\",TEST_DATA_RETRIEVAL_SOLUTION_V2_URL)"
      ],
      "execution_count": 8,
      "outputs": [
        {
          "output_type": "stream",
          "text": [
            "Downloading data from https://s3.amazonaws.com/google-landmark/metadata/test.csv\n",
            "1998848/1998812 [==============================] - 0s 0us/step\n",
            "Downloading data from https://s3.amazonaws.com/google-landmark/ground_truth/recognition_solution_v2.1.csv\n",
            "3031040/3029774 [==============================] - 0s 0us/step\n",
            "Downloading data from https://s3.amazonaws.com/google-landmark/ground_truth/retrieval_solution_v2.1.csv\n",
            "3784704/3780702 [==============================] - 0s 0us/step\n"
          ],
          "name": "stdout"
        }
      ]
    },
    {
      "cell_type": "markdown",
      "metadata": {
        "id": "LUlY6NtaNf0u",
        "colab_type": "text"
      },
      "source": [
        "### Converting to pandas data frame\n",
        "Loading training and test data from csv files and converting to pandas dataframe"
      ]
    },
    {
      "cell_type": "code",
      "metadata": {
        "id": "lHwXmehgEUQm",
        "colab_type": "code",
        "colab": {}
      },
      "source": [
        "train_file_csv_df = pd.read_csv(train_file_csv)\n",
        "train_attribution_csv_df = pd.read_csv(train_attribution_csv)\n",
        "train_label_to_category_csv_df = pd.read_csv(train_label_to_category_csv)"
      ],
      "execution_count": 0,
      "outputs": []
    },
    {
      "cell_type": "code",
      "metadata": {
        "id": "l3l3_fawSir5",
        "colab_type": "code",
        "colab": {}
      },
      "source": [
        "test_file_csv_df = pd.read_csv(test_file_csv)\n",
        "test_image_recognition_solution_csv_df = pd.read_csv(test_image_recognition_solution_csv)\n",
        "test_image_retrieval_solution_csv_csv_df = pd.read_csv(test_image_retrieval_solution_csv)"
      ],
      "execution_count": 0,
      "outputs": []
    },
    {
      "cell_type": "markdown",
      "metadata": {
        "id": "7zrCpfBJaSk_",
        "colab_type": "text"
      },
      "source": [
        "- Checking for **null values**"
      ]
    },
    {
      "cell_type": "code",
      "metadata": {
        "id": "ylvhgCwCTZsf",
        "colab_type": "code",
        "outputId": "31d1988f-b6cd-450e-b098-dd770495e6a9",
        "colab": {
          "base_uri": "https://localhost:8080/",
          "height": 85
        }
      },
      "source": [
        "train_file_csv_df[train_file_csv_df.id.isnull() | train_file_csv_df.url.isnull() | train_file_csv_df.landmark_id.isnull()].count()"
      ],
      "execution_count": 54,
      "outputs": [
        {
          "output_type": "execute_result",
          "data": {
            "text/plain": [
              "id             0\n",
              "url            0\n",
              "landmark_id    0\n",
              "dtype: int64"
            ]
          },
          "metadata": {
            "tags": []
          },
          "execution_count": 54
        }
      ]
    },
    {
      "cell_type": "markdown",
      "metadata": {
        "id": "xpQpwwOmg0XQ",
        "colab_type": "text"
      },
      "source": [
        "* The **top 20** landmarks with highest number of images in the training set"
      ]
    },
    {
      "cell_type": "code",
      "metadata": {
        "id": "fHGRLMyWgv_D",
        "colab_type": "code",
        "colab": {
          "base_uri": "https://localhost:8080/",
          "height": 374
        },
        "outputId": "afa436f8-75ae-4c89-9a89-170d463143c9"
      },
      "source": [
        "train_file_csv_df.landmark_id.value_counts()[:20]"
      ],
      "execution_count": 50,
      "outputs": [
        {
          "output_type": "execute_result",
          "data": {
            "text/plain": [
              "138982    10247\n",
              "62798      4333\n",
              "177870     3327\n",
              "176528     3243\n",
              "192931     2627\n",
              "126637     2589\n",
              "83144      2351\n",
              "171772     2268\n",
              "20409      2248\n",
              "151942     1727\n",
              "84689      1721\n",
              "139894     1717\n",
              "62074      1637\n",
              "10618      1539\n",
              "45428      1513\n",
              "41808      1509\n",
              "139706     1509\n",
              "60532      1447\n",
              "161902     1424\n",
              "194914     1399\n",
              "Name: landmark_id, dtype: int64"
            ]
          },
          "metadata": {
            "tags": []
          },
          "execution_count": 50
        }
      ]
    },
    {
      "cell_type": "code",
      "metadata": {
        "id": "XDosciVWHlaD",
        "colab_type": "code",
        "outputId": "93dcf028-baab-414a-c5ac-9f69d3514c20",
        "colab": {
          "base_uri": "https://localhost:8080/",
          "height": 153
        }
      },
      "source": [
        "landmarks_less_than_10_df = train_file_csv_df.landmark_id.value_counts().reset_index(name=\"count\").query(\"count<10\")\n",
        "log.debug(\"Sample of record in the train_file_csv_df dataframe : \\n\" + str(train_file_csv_df.head(1)))\n",
        "log.debug(\"Total number of images in the training set : \" + str(train_file_csv_df['url'].count()))\n",
        "log.debug(\"Total number of unique landmark_ids in the training dataset : \" + str(train_file_csv_df.landmark_id.value_counts()\n",
        "                                                                                 .reset_index(name=\"count\")[\"index\"].count()))\n",
        "log.debug(\"Total number of landmarks with less than 10 images in the dataset : \" + str(landmarks_less_than_10_df[\"index\"].count()))"
      ],
      "execution_count": 56,
      "outputs": [
        {
          "output_type": "stream",
          "text": [
            "DEBUG:root:Sample of record in the train_file_csv_df dataframe : \n",
            "                 id  ... landmark_id\n",
            "0  6e158a47eb2ca3f6  ...      142820\n",
            "\n",
            "[1 rows x 3 columns]\n",
            "DEBUG:root:Total number of images in the training set : 4132914\n",
            "DEBUG:root:Total number of unique landmark_ids in the training dataset : 203094\n",
            "DEBUG:root:Total number of landmarks with less than 10 images in the dataset : 110354\n"
          ],
          "name": "stderr"
        }
      ]
    },
    {
      "cell_type": "code",
      "metadata": {
        "id": "ob_rvgo7mS4X",
        "colab_type": "code",
        "colab": {
          "base_uri": "https://localhost:8080/",
          "height": 102
        },
        "outputId": "1ef7fb08-0338-45c3-f8f5-f238542f4b40"
      },
      "source": [
        "log.debug(\"Sample of record in the test_file_csv_df dataframe : \\n\" + str(test_file_csv_df.head(1)))\n",
        "log.debug(\"Total number of images in the test set : \" + str(test_file_csv_df['id'].count()))\n",
        "log.debug(\"Total number of unique landmark_ids in the test dataset : \" + str(test_file_csv_df.id.value_counts()\n",
        "                                                                                 .reset_index(name=\"count\")[\"index\"].count()))"
      ],
      "execution_count": 52,
      "outputs": [
        {
          "output_type": "stream",
          "text": [
            "DEBUG:root:Sample of record in the test_file_csv_df dataframe : \n",
            "                 id\n",
            "0  00016575233bc956\n",
            "DEBUG:root:Total number of images in the test set : 117577\n",
            "DEBUG:root:Total number of unique landmark_ids in the test dataset : 117577\n"
          ],
          "name": "stderr"
        }
      ]
    },
    {
      "cell_type": "markdown",
      "metadata": {
        "id": "pIIg8pSqhPZy",
        "colab_type": "text"
      },
      "source": [
        "* Filtering training set if there are less than 10 images for a landmark"
      ]
    },
    {
      "cell_type": "code",
      "metadata": {
        "id": "sV5ph0cGm9nd",
        "colab_type": "code",
        "colab": {}
      },
      "source": [
        "filtered_train_df = train_file_csv_df[~train_file_csv_df.landmark_id.isin(landmarks_less_than_10_df['index'])]"
      ],
      "execution_count": 0,
      "outputs": []
    },
    {
      "cell_type": "code",
      "metadata": {
        "id": "1U9yFejnsCAi",
        "colab_type": "code",
        "colab": {
          "base_uri": "https://localhost:8080/",
          "height": 297
        },
        "outputId": "7d5a79d8-836b-4605-cc7a-9c4932cd416a"
      },
      "source": [
        "train_file_csv_df.landmark_id.value_counts().reset_index(name=\"count\").describe()"
      ],
      "execution_count": 64,
      "outputs": [
        {
          "output_type": "execute_result",
          "data": {
            "text/html": [
              "<div>\n",
              "<style scoped>\n",
              "    .dataframe tbody tr th:only-of-type {\n",
              "        vertical-align: middle;\n",
              "    }\n",
              "\n",
              "    .dataframe tbody tr th {\n",
              "        vertical-align: top;\n",
              "    }\n",
              "\n",
              "    .dataframe thead th {\n",
              "        text-align: right;\n",
              "    }\n",
              "</style>\n",
              "<table border=\"1\" class=\"dataframe\">\n",
              "  <thead>\n",
              "    <tr style=\"text-align: right;\">\n",
              "      <th></th>\n",
              "      <th>index</th>\n",
              "      <th>count</th>\n",
              "    </tr>\n",
              "  </thead>\n",
              "  <tbody>\n",
              "    <tr>\n",
              "      <th>count</th>\n",
              "      <td>203094.000000</td>\n",
              "      <td>203094.000000</td>\n",
              "    </tr>\n",
              "    <tr>\n",
              "      <th>mean</th>\n",
              "      <td>101546.500000</td>\n",
              "      <td>20.349759</td>\n",
              "    </tr>\n",
              "    <tr>\n",
              "      <th>std</th>\n",
              "      <td>58628.332123</td>\n",
              "      <td>52.366016</td>\n",
              "    </tr>\n",
              "    <tr>\n",
              "      <th>min</th>\n",
              "      <td>0.000000</td>\n",
              "      <td>1.000000</td>\n",
              "    </tr>\n",
              "    <tr>\n",
              "      <th>25%</th>\n",
              "      <td>50773.250000</td>\n",
              "      <td>3.000000</td>\n",
              "    </tr>\n",
              "    <tr>\n",
              "      <th>50%</th>\n",
              "      <td>101546.500000</td>\n",
              "      <td>8.000000</td>\n",
              "    </tr>\n",
              "    <tr>\n",
              "      <th>75%</th>\n",
              "      <td>152319.750000</td>\n",
              "      <td>20.000000</td>\n",
              "    </tr>\n",
              "    <tr>\n",
              "      <th>max</th>\n",
              "      <td>203093.000000</td>\n",
              "      <td>10247.000000</td>\n",
              "    </tr>\n",
              "  </tbody>\n",
              "</table>\n",
              "</div>"
            ],
            "text/plain": [
              "               index          count\n",
              "count  203094.000000  203094.000000\n",
              "mean   101546.500000      20.349759\n",
              "std     58628.332123      52.366016\n",
              "min         0.000000       1.000000\n",
              "25%     50773.250000       3.000000\n",
              "50%    101546.500000       8.000000\n",
              "75%    152319.750000      20.000000\n",
              "max    203093.000000   10247.000000"
            ]
          },
          "metadata": {
            "tags": []
          },
          "execution_count": 64
        }
      ]
    },
    {
      "cell_type": "code",
      "metadata": {
        "id": "_Vx6Io1isYaS",
        "colab_type": "code",
        "colab": {
          "base_uri": "https://localhost:8080/",
          "height": 297
        },
        "outputId": "a528a0ee-dd7a-43a0-82db-913b98290bcb"
      },
      "source": [
        "landmarks_more_than_10_df = train_file_csv_df.landmark_id.value_counts().reset_index(name=\"count\").query(\"count>=10\")\n",
        "landmarks_more_than_10_df.describe()"
      ],
      "execution_count": 62,
      "outputs": [
        {
          "output_type": "execute_result",
          "data": {
            "text/html": [
              "<div>\n",
              "<style scoped>\n",
              "    .dataframe tbody tr th:only-of-type {\n",
              "        vertical-align: middle;\n",
              "    }\n",
              "\n",
              "    .dataframe tbody tr th {\n",
              "        vertical-align: top;\n",
              "    }\n",
              "\n",
              "    .dataframe thead th {\n",
              "        text-align: right;\n",
              "    }\n",
              "</style>\n",
              "<table border=\"1\" class=\"dataframe\">\n",
              "  <thead>\n",
              "    <tr style=\"text-align: right;\">\n",
              "      <th></th>\n",
              "      <th>index</th>\n",
              "      <th>count</th>\n",
              "    </tr>\n",
              "  </thead>\n",
              "  <tbody>\n",
              "    <tr>\n",
              "      <th>count</th>\n",
              "      <td>92740.000000</td>\n",
              "      <td>92740.000000</td>\n",
              "    </tr>\n",
              "    <tr>\n",
              "      <th>mean</th>\n",
              "      <td>101346.561300</td>\n",
              "      <td>39.661430</td>\n",
              "    </tr>\n",
              "    <tr>\n",
              "      <th>std</th>\n",
              "      <td>58807.538571</td>\n",
              "      <td>72.880997</td>\n",
              "    </tr>\n",
              "    <tr>\n",
              "      <th>min</th>\n",
              "      <td>0.000000</td>\n",
              "      <td>10.000000</td>\n",
              "    </tr>\n",
              "    <tr>\n",
              "      <th>25%</th>\n",
              "      <td>50116.000000</td>\n",
              "      <td>14.000000</td>\n",
              "    </tr>\n",
              "    <tr>\n",
              "      <th>50%</th>\n",
              "      <td>101362.000000</td>\n",
              "      <td>22.000000</td>\n",
              "    </tr>\n",
              "    <tr>\n",
              "      <th>75%</th>\n",
              "      <td>152211.250000</td>\n",
              "      <td>42.000000</td>\n",
              "    </tr>\n",
              "    <tr>\n",
              "      <th>max</th>\n",
              "      <td>203093.000000</td>\n",
              "      <td>10247.000000</td>\n",
              "    </tr>\n",
              "  </tbody>\n",
              "</table>\n",
              "</div>"
            ],
            "text/plain": [
              "               index         count\n",
              "count   92740.000000  92740.000000\n",
              "mean   101346.561300     39.661430\n",
              "std     58807.538571     72.880997\n",
              "min         0.000000     10.000000\n",
              "25%     50116.000000     14.000000\n",
              "50%    101362.000000     22.000000\n",
              "75%    152211.250000     42.000000\n",
              "max    203093.000000  10247.000000"
            ]
          },
          "metadata": {
            "tags": []
          },
          "execution_count": 62
        }
      ]
    },
    {
      "cell_type": "code",
      "metadata": {
        "id": "EZeD8HI-TZ0b",
        "colab_type": "code",
        "colab": {}
      },
      "source": [
        "# test_file_csv_df.head(1)"
      ],
      "execution_count": 0,
      "outputs": []
    },
    {
      "cell_type": "code",
      "metadata": {
        "id": "69H2pUR4TeEp",
        "colab_type": "code",
        "colab": {}
      },
      "source": [
        "# test_image_recognition_solution_csv_df.head(1)"
      ],
      "execution_count": 0,
      "outputs": []
    },
    {
      "cell_type": "code",
      "metadata": {
        "id": "vuCkYQ4LTki3",
        "colab_type": "code",
        "colab": {}
      },
      "source": [
        "# test_image_retrieval_solution_csv_csv_df.head(1)"
      ],
      "execution_count": 0,
      "outputs": []
    },
    {
      "cell_type": "code",
      "metadata": {
        "id": "6K904CyLH_l1",
        "colab_type": "code",
        "colab": {}
      },
      "source": [
        "train_image_count = len(list(train_images_data_dir.glob('**/*.jpg')))\n",
        "print(train_image_count)"
      ],
      "execution_count": 0,
      "outputs": []
    },
    {
      "cell_type": "code",
      "metadata": {
        "id": "d__xZ4cqnxWl",
        "colab_type": "code",
        "colab": {}
      },
      "source": [
        "counter = 0\n",
        "imagesSizes = []\n",
        "for image in train_images_data_dir.glob('**/*.jpg'):\n",
        "#   print(image)\n",
        "  with Image.open(str(image)) as img:\n",
        "    imagesSizes.append(img.size)\n",
        "    counter = counter + 1\n",
        "print(counter)\n",
        "print(len(imagesSizes))"
      ],
      "execution_count": 0,
      "outputs": []
    },
    {
      "cell_type": "code",
      "metadata": {
        "id": "tIn7vMrvNDpW",
        "colab_type": "code",
        "colab": {}
      },
      "source": [
        ""
      ],
      "execution_count": 0,
      "outputs": []
    }
  ]
}