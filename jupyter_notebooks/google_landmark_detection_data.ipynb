{
  "nbformat": 4,
  "nbformat_minor": 0,
  "metadata": {
    "colab": {
      "name": "google_landmark_detection_data.ipynb",
      "provenance": [],
      "collapsed_sections": [],
      "include_colab_link": true
    },
    "kernelspec": {
      "name": "python3",
      "display_name": "Python 3"
    },
    "accelerator": "GPU"
  },
  "cells": [
    {
      "cell_type": "markdown",
      "metadata": {
        "id": "view-in-github",
        "colab_type": "text"
      },
      "source": [
        "<a href=\"https://colab.research.google.com/github/amarsinghen/landmark-detection-kaggle/blob/master/google_landmark_detection_data.ipynb\" target=\"_parent\"><img src=\"https://colab.research.google.com/assets/colab-badge.svg\" alt=\"Open In Colab\"/></a>"
      ]
    },
    {
      "cell_type": "code",
      "metadata": {
        "id": "5sS4q7b3EDtN",
        "colab_type": "code",
        "colab": {
          "base_uri": "https://localhost:8080/",
          "height": 34
        },
        "outputId": "34fb92b5-5781-4350-c351-ccb8c71fd64c"
      },
      "source": [
        "try:\n",
        "  # %tensorflow_version only exists in Colab.\n",
        "  %tensorflow_version 2.x\n",
        "except Exception:\n",
        "  pass"
      ],
      "execution_count": 2,
      "outputs": [
        {
          "output_type": "stream",
          "text": [
            "TensorFlow 2.x selected.\n"
          ],
          "name": "stdout"
        }
      ]
    },
    {
      "cell_type": "code",
      "metadata": {
        "id": "AoRwAqH-EtTC",
        "colab_type": "code",
        "colab": {}
      },
      "source": [
        "from __future__ import absolute_import, division, print_function, unicode_literals\n",
        "import functools"
      ],
      "execution_count": 0,
      "outputs": []
    },
    {
      "cell_type": "code",
      "metadata": {
        "id": "5J_z9SCiEF61",
        "colab_type": "code",
        "colab": {}
      },
      "source": [
        "import numpy as np\n",
        "import pandas as pd\n",
        "import pathlib\n",
        "import tensorflow as tf"
      ],
      "execution_count": 0,
      "outputs": []
    },
    {
      "cell_type": "code",
      "metadata": {
        "id": "aBsYs-mKEPc6",
        "colab_type": "code",
        "colab": {
          "base_uri": "https://localhost:8080/",
          "height": 34
        },
        "outputId": "9f2347c0-a133-4886-9dd6-ab94b5f8b0c9"
      },
      "source": [
        "tf.__version__"
      ],
      "execution_count": 5,
      "outputs": [
        {
          "output_type": "execute_result",
          "data": {
            "text/plain": [
              "'2.0.0-rc2'"
            ]
          },
          "metadata": {
            "tags": []
          },
          "execution_count": 5
        }
      ]
    },
    {
      "cell_type": "code",
      "metadata": {
        "id": "ebPccIH8OU3U",
        "colab_type": "code",
        "colab": {}
      },
      "source": [
        "TRAIN_DATA_URL = \"https://s3.amazonaws.com/google-landmark/metadata/train.csv\"\n",
        "TRAIN_ATTRIBUTION_DATA_URL = \"https://s3.amazonaws.com/google-landmark/metadata/train_attribution.csv\"\n",
        "TRAIN_LABEL_TO_CATEGORY_DATA_URL = \"https://s3.amazonaws.com/google-landmark/metadata/train_label_to_category.csv\"\n",
        "TRAIN_IMAGES_DATA_TAR_URL = \"https://s3.amazonaws.com/google-landmark/train/images_000.tar\""
      ],
      "execution_count": 0,
      "outputs": []
    },
    {
      "cell_type": "code",
      "metadata": {
        "id": "ijR2OVInE05O",
        "colab_type": "code",
        "colab": {
          "base_uri": "https://localhost:8080/",
          "height": 51
        },
        "outputId": "80e6df92-1a67-41d2-92b6-6a48ee7583cf"
      },
      "source": [
        "train_file_csv = tf.keras.utils.get_file(\"train.csv\", TRAIN_DATA_URL)\n",
        "train_attribution_csv= tf.keras.utils.get_file(\"train_attribution.csv\", TRAIN_ATTRIBUTION_DATA_URL)\n",
        "train_label_to_category_csv = tf.keras.utils.get_file(\"train_label_to_category.csv\",TRAIN_LABEL_TO_CATEGORY_DATA_URL)\n",
        "\n",
        "train_images_data_dir = tf.keras.utils.get_file(origin=TRAIN_IMAGES_DATA_TAR_URL, fname='0', untar=True)\n",
        "train_images_data_dir = pathlib.Path(train_images_data_dir)"
      ],
      "execution_count": 21,
      "outputs": [
        {
          "output_type": "stream",
          "text": [
            "Downloading data from https://s3.amazonaws.com/google-landmark/train/images_000.tar\n",
            "1067024384/1067018752 [==============================] - 16s 0us/step\n"
          ],
          "name": "stdout"
        }
      ]
    },
    {
      "cell_type": "code",
      "metadata": {
        "id": "6efwek1zMbNz",
        "colab_type": "code",
        "colab": {}
      },
      "source": [
        "TEST_DATA_CSV_URL = \"https://s3.amazonaws.com/google-landmark/metadata/test.csv\"\n",
        "TEST_DATA_RECOGNITION_SOLUTION_V2_URL = \"https://s3.amazonaws.com/google-landmark/ground_truth/recognition_solution_v2.1.csv\"\n",
        "TEST_DATA_RETRIEVAL_SOLUTION_V2_URL = \"https://s3.amazonaws.com/google-landmark/ground_truth/retrieval_solution_v2.1.csv\"\n",
        "TEST_IMAGES_DATA_TAR_URL = \"https://s3.amazonaws.com/google-landmark/test/images_000.tar\""
      ],
      "execution_count": 0,
      "outputs": []
    },
    {
      "cell_type": "code",
      "metadata": {
        "id": "12Vgo8-MPFiY",
        "colab_type": "code",
        "colab": {}
      },
      "source": [
        "test_file_csv = tf.keras.utils.get_file(\"test.csv\", TEST_DATA_CSV_URL)\n",
        "test_image_recognition_solution_csv= tf.keras.utils.get_file(\"test_images_recognition_solution.csv\", TEST_DATA_RECOGNITION_SOLUTION_V2_URL)\n",
        "test_image_retrieval_solution_csv = tf.keras.utils.get_file(\"test_images_retrieval_solution.csv\",TEST_DATA_RETRIEVAL_SOLUTION_V2_URL)\n",
        "\n",
        "test_images_data_dir = tf.keras.utils.get_file(origin=TEST_IMAGES_DATA_TAR_URL, fname='0', untar=True)\n",
        "test_images_data_dir = pathlib.Path(test_images_data_dir)"
      ],
      "execution_count": 0,
      "outputs": []
    },
    {
      "cell_type": "code",
      "metadata": {
        "id": "l3AUPdsERUo1",
        "colab_type": "code",
        "colab": {
          "base_uri": "https://localhost:8080/",
          "height": 51
        },
        "outputId": "eb828f4f-7c06-4cca-d4b3-ea628667bf7b"
      },
      "source": [
        "!ls -l"
      ],
      "execution_count": 10,
      "outputs": [
        {
          "output_type": "stream",
          "text": [
            "total 4\n",
            "drwxr-xr-x 1 root root 4096 Aug 27 16:17 sample_data\n"
          ],
          "name": "stdout"
        }
      ]
    },
    {
      "cell_type": "code",
      "metadata": {
        "id": "lHwXmehgEUQm",
        "colab_type": "code",
        "colab": {}
      },
      "source": [
        "train_file_csv_df = pd.read_csv(train_file_csv)\n",
        "train_attribution_csv_df = pd.read_csv(train_attribution_csv)\n",
        "train_label_to_category_csv_df = pd.read_csv(train_label_to_category_csv)"
      ],
      "execution_count": 0,
      "outputs": []
    },
    {
      "cell_type": "code",
      "metadata": {
        "id": "l3l3_fawSir5",
        "colab_type": "code",
        "colab": {}
      },
      "source": [
        "test_file_csv_df = pd.read_csv(test_file_csv)\n",
        "test_image_recognition_solution_csv_df = pd.read_csv(test_image_recognition_solution_csv)\n",
        "test_image_retrieval_solution_csv_csv_df = pd.read_csv(test_image_retrieval_solution_csv)"
      ],
      "execution_count": 0,
      "outputs": []
    },
    {
      "cell_type": "code",
      "metadata": {
        "id": "XDosciVWHlaD",
        "colab_type": "code",
        "colab": {
          "base_uri": "https://localhost:8080/",
          "height": 80
        },
        "outputId": "1a462948-adb9-4aaf-afdd-0e719299a76a"
      },
      "source": [
        "train_file_csv_df.head(1)"
      ],
      "execution_count": 43,
      "outputs": [
        {
          "output_type": "execute_result",
          "data": {
            "text/html": [
              "<div>\n",
              "<style scoped>\n",
              "    .dataframe tbody tr th:only-of-type {\n",
              "        vertical-align: middle;\n",
              "    }\n",
              "\n",
              "    .dataframe tbody tr th {\n",
              "        vertical-align: top;\n",
              "    }\n",
              "\n",
              "    .dataframe thead th {\n",
              "        text-align: right;\n",
              "    }\n",
              "</style>\n",
              "<table border=\"1\" class=\"dataframe\">\n",
              "  <thead>\n",
              "    <tr style=\"text-align: right;\">\n",
              "      <th></th>\n",
              "      <th>id</th>\n",
              "      <th>url</th>\n",
              "      <th>landmark_id</th>\n",
              "    </tr>\n",
              "  </thead>\n",
              "  <tbody>\n",
              "    <tr>\n",
              "      <th>0</th>\n",
              "      <td>6e158a47eb2ca3f6</td>\n",
              "      <td>https://upload.wikimedia.org/wikipedia/commons...</td>\n",
              "      <td>142820</td>\n",
              "    </tr>\n",
              "  </tbody>\n",
              "</table>\n",
              "</div>"
            ],
            "text/plain": [
              "                 id  ... landmark_id\n",
              "0  6e158a47eb2ca3f6  ...      142820\n",
              "\n",
              "[1 rows x 3 columns]"
            ]
          },
          "metadata": {
            "tags": []
          },
          "execution_count": 43
        }
      ]
    },
    {
      "cell_type": "code",
      "metadata": {
        "id": "0NkBtqZ3TZI3",
        "colab_type": "code",
        "colab": {
          "base_uri": "https://localhost:8080/",
          "height": 80
        },
        "outputId": "f1e29f06-45a1-45fa-f37a-dd5ba6c3fbed"
      },
      "source": [
        "train_attribution_csv_df.head(1)"
      ],
      "execution_count": 44,
      "outputs": [
        {
          "output_type": "execute_result",
          "data": {
            "text/html": [
              "<div>\n",
              "<style scoped>\n",
              "    .dataframe tbody tr th:only-of-type {\n",
              "        vertical-align: middle;\n",
              "    }\n",
              "\n",
              "    .dataframe tbody tr th {\n",
              "        vertical-align: top;\n",
              "    }\n",
              "\n",
              "    .dataframe thead th {\n",
              "        text-align: right;\n",
              "    }\n",
              "</style>\n",
              "<table border=\"1\" class=\"dataframe\">\n",
              "  <thead>\n",
              "    <tr style=\"text-align: right;\">\n",
              "      <th></th>\n",
              "      <th>id</th>\n",
              "      <th>url</th>\n",
              "      <th>author</th>\n",
              "      <th>license</th>\n",
              "      <th>title</th>\n",
              "    </tr>\n",
              "  </thead>\n",
              "  <tbody>\n",
              "    <tr>\n",
              "      <th>0</th>\n",
              "      <td>6e158a47eb2ca3f6</td>\n",
              "      <td>http://commons.wikimedia.org/wiki/File:Observa...</td>\n",
              "      <td>Holger.Ellgaard</td>\n",
              "      <td>CC BY-SA 3.0(http://creativecommons.org/licens...</td>\n",
              "      <td>File:Observatoriet väderkammer 2013a.jpg</td>\n",
              "    </tr>\n",
              "  </tbody>\n",
              "</table>\n",
              "</div>"
            ],
            "text/plain": [
              "                 id  ...                                     title\n",
              "0  6e158a47eb2ca3f6  ...  File:Observatoriet väderkammer 2013a.jpg\n",
              "\n",
              "[1 rows x 5 columns]"
            ]
          },
          "metadata": {
            "tags": []
          },
          "execution_count": 44
        }
      ]
    },
    {
      "cell_type": "code",
      "metadata": {
        "id": "ylvhgCwCTZsf",
        "colab_type": "code",
        "colab": {
          "base_uri": "https://localhost:8080/",
          "height": 80
        },
        "outputId": "6d5b6cbc-33b5-4fa9-bf6b-5f3c33b5c1d1"
      },
      "source": [
        "train_label_to_category_csv_df.head(1)"
      ],
      "execution_count": 46,
      "outputs": [
        {
          "output_type": "execute_result",
          "data": {
            "text/html": [
              "<div>\n",
              "<style scoped>\n",
              "    .dataframe tbody tr th:only-of-type {\n",
              "        vertical-align: middle;\n",
              "    }\n",
              "\n",
              "    .dataframe tbody tr th {\n",
              "        vertical-align: top;\n",
              "    }\n",
              "\n",
              "    .dataframe thead th {\n",
              "        text-align: right;\n",
              "    }\n",
              "</style>\n",
              "<table border=\"1\" class=\"dataframe\">\n",
              "  <thead>\n",
              "    <tr style=\"text-align: right;\">\n",
              "      <th></th>\n",
              "      <th>landmark_id</th>\n",
              "      <th>category</th>\n",
              "    </tr>\n",
              "  </thead>\n",
              "  <tbody>\n",
              "    <tr>\n",
              "      <th>0</th>\n",
              "      <td>0</td>\n",
              "      <td>http://commons.wikimedia.org/wiki/Category:Hap...</td>\n",
              "    </tr>\n",
              "  </tbody>\n",
              "</table>\n",
              "</div>"
            ],
            "text/plain": [
              "   landmark_id                                           category\n",
              "0            0  http://commons.wikimedia.org/wiki/Category:Hap..."
            ]
          },
          "metadata": {
            "tags": []
          },
          "execution_count": 46
        }
      ]
    },
    {
      "cell_type": "code",
      "metadata": {
        "id": "EZeD8HI-TZ0b",
        "colab_type": "code",
        "colab": {
          "base_uri": "https://localhost:8080/",
          "height": 80
        },
        "outputId": "64461c6b-7191-4e08-bfba-9a5a388969db"
      },
      "source": [
        "test_file_csv_df.head(1)"
      ],
      "execution_count": 47,
      "outputs": [
        {
          "output_type": "execute_result",
          "data": {
            "text/html": [
              "<div>\n",
              "<style scoped>\n",
              "    .dataframe tbody tr th:only-of-type {\n",
              "        vertical-align: middle;\n",
              "    }\n",
              "\n",
              "    .dataframe tbody tr th {\n",
              "        vertical-align: top;\n",
              "    }\n",
              "\n",
              "    .dataframe thead th {\n",
              "        text-align: right;\n",
              "    }\n",
              "</style>\n",
              "<table border=\"1\" class=\"dataframe\">\n",
              "  <thead>\n",
              "    <tr style=\"text-align: right;\">\n",
              "      <th></th>\n",
              "      <th>id</th>\n",
              "    </tr>\n",
              "  </thead>\n",
              "  <tbody>\n",
              "    <tr>\n",
              "      <th>0</th>\n",
              "      <td>00016575233bc956</td>\n",
              "    </tr>\n",
              "  </tbody>\n",
              "</table>\n",
              "</div>"
            ],
            "text/plain": [
              "                 id\n",
              "0  00016575233bc956"
            ]
          },
          "metadata": {
            "tags": []
          },
          "execution_count": 47
        }
      ]
    },
    {
      "cell_type": "code",
      "metadata": {
        "id": "69H2pUR4TeEp",
        "colab_type": "code",
        "colab": {
          "base_uri": "https://localhost:8080/",
          "height": 80
        },
        "outputId": "6b43602b-9c44-4311-bcba-6a855157218c"
      },
      "source": [
        "test_image_recognition_solution_csv_df.head(1)"
      ],
      "execution_count": 48,
      "outputs": [
        {
          "output_type": "execute_result",
          "data": {
            "text/html": [
              "<div>\n",
              "<style scoped>\n",
              "    .dataframe tbody tr th:only-of-type {\n",
              "        vertical-align: middle;\n",
              "    }\n",
              "\n",
              "    .dataframe tbody tr th {\n",
              "        vertical-align: top;\n",
              "    }\n",
              "\n",
              "    .dataframe thead th {\n",
              "        text-align: right;\n",
              "    }\n",
              "</style>\n",
              "<table border=\"1\" class=\"dataframe\">\n",
              "  <thead>\n",
              "    <tr style=\"text-align: right;\">\n",
              "      <th></th>\n",
              "      <th>id</th>\n",
              "      <th>landmarks</th>\n",
              "      <th>Usage</th>\n",
              "    </tr>\n",
              "  </thead>\n",
              "  <tbody>\n",
              "    <tr>\n",
              "      <th>0</th>\n",
              "      <td>e324e0f3e6d9e504</td>\n",
              "      <td>NaN</td>\n",
              "      <td>Private</td>\n",
              "    </tr>\n",
              "  </tbody>\n",
              "</table>\n",
              "</div>"
            ],
            "text/plain": [
              "                 id landmarks    Usage\n",
              "0  e324e0f3e6d9e504       NaN  Private"
            ]
          },
          "metadata": {
            "tags": []
          },
          "execution_count": 48
        }
      ]
    },
    {
      "cell_type": "code",
      "metadata": {
        "id": "vuCkYQ4LTki3",
        "colab_type": "code",
        "colab": {
          "base_uri": "https://localhost:8080/",
          "height": 80
        },
        "outputId": "2ed52327-fa31-40e8-a8ec-fbcd7ad9c276"
      },
      "source": [
        "test_image_retrieval_solution_csv_csv_df.head(1)"
      ],
      "execution_count": 49,
      "outputs": [
        {
          "output_type": "execute_result",
          "data": {
            "text/html": [
              "<div>\n",
              "<style scoped>\n",
              "    .dataframe tbody tr th:only-of-type {\n",
              "        vertical-align: middle;\n",
              "    }\n",
              "\n",
              "    .dataframe tbody tr th {\n",
              "        vertical-align: top;\n",
              "    }\n",
              "\n",
              "    .dataframe thead th {\n",
              "        text-align: right;\n",
              "    }\n",
              "</style>\n",
              "<table border=\"1\" class=\"dataframe\">\n",
              "  <thead>\n",
              "    <tr style=\"text-align: right;\">\n",
              "      <th></th>\n",
              "      <th>id</th>\n",
              "      <th>images</th>\n",
              "      <th>Usage</th>\n",
              "    </tr>\n",
              "  </thead>\n",
              "  <tbody>\n",
              "    <tr>\n",
              "      <th>0</th>\n",
              "      <td>a1788046694b0213</td>\n",
              "      <td>None</td>\n",
              "      <td>Ignored</td>\n",
              "    </tr>\n",
              "  </tbody>\n",
              "</table>\n",
              "</div>"
            ],
            "text/plain": [
              "                 id images    Usage\n",
              "0  a1788046694b0213   None  Ignored"
            ]
          },
          "metadata": {
            "tags": []
          },
          "execution_count": 49
        }
      ]
    },
    {
      "cell_type": "code",
      "metadata": {
        "id": "6K904CyLH_l1",
        "colab_type": "code",
        "colab": {
          "base_uri": "https://localhost:8080/",
          "height": 34
        },
        "outputId": "9299fd18-99c7-452a-ce49-78ccc9cdb1b4"
      },
      "source": [
        "train_image_count = len(list(train_images_data_dir.glob('**/*.jpg')))\n",
        "print(train_image_count)"
      ],
      "execution_count": 28,
      "outputs": [
        {
          "output_type": "stream",
          "text": [
            "14145\n"
          ],
          "name": "stdout"
        }
      ]
    },
    {
      "cell_type": "code",
      "metadata": {
        "id": "d__xZ4cqnxWl",
        "colab_type": "code",
        "colab": {
          "base_uri": "https://localhost:8080/",
          "height": 51
        },
        "outputId": "153ce774-24a9-4d17-d0b2-3b8abf8d7d20"
      },
      "source": [
        "from PIL import Image\n",
        "counter = 0\n",
        "imagesSizes = []\n",
        "for image in train_images_data_dir.glob('**/*.jpg'):\n",
        "#   print(image)\n",
        "  with Image.open(str(image)) as img:\n",
        "    imagesSizes.append(img.size)\n",
        "    counter = counter + 1\n",
        "print(counter)\n",
        "print(len(imagesSizes))"
      ],
      "execution_count": 41,
      "outputs": [
        {
          "output_type": "stream",
          "text": [
            "14145\n",
            "14145\n"
          ],
          "name": "stdout"
        }
      ]
    },
    {
      "cell_type": "code",
      "metadata": {
        "id": "m0KogqydtKL-",
        "colab_type": "code",
        "colab": {
          "base_uri": "https://localhost:8080/",
          "height": 34
        },
        "outputId": "2db3d4e1-47d1-41ab-ea65-51e91c18fae8"
      },
      "source": [
        "min(imagesSizes)"
      ],
      "execution_count": 43,
      "outputs": [
        {
          "output_type": "execute_result",
          "data": {
            "text/plain": [
              "(48, 48)"
            ]
          },
          "metadata": {
            "tags": []
          },
          "execution_count": 43
        }
      ]
    },
    {
      "cell_type": "code",
      "metadata": {
        "id": "FW0wuAUOuDAs",
        "colab_type": "code",
        "colab": {}
      },
      "source": [
        "import imageio"
      ],
      "execution_count": 0,
      "outputs": []
    },
    {
      "cell_type": "code",
      "metadata": {
        "id": "zkeabwePVsUJ",
        "colab_type": "code",
        "colab": {
          "base_uri": "https://localhost:8080/",
          "height": 51
        },
        "outputId": "73afec0c-73a2-42f5-d180-54f9e45e2618"
      },
      "source": [
        "counter1 = 0\n",
        "imagesSizesScipy = []\n",
        "for image in train_images_data_dir.glob('**/*.jpg'):\n",
        "#   print(image)\n",
        "  imagesSizesScipy.append(imageio.imread(str(image)).shape)\n",
        "  counter1 = counter1 + 1\n",
        "print(counter1)\n",
        "print(len(imagesSizesScipy))"
      ],
      "execution_count": 47,
      "outputs": [
        {
          "output_type": "stream",
          "text": [
            "14145\n",
            "14145\n"
          ],
          "name": "stdout"
        }
      ]
    },
    {
      "cell_type": "code",
      "metadata": {
        "id": "RGikkR34vXeY",
        "colab_type": "code",
        "colab": {
          "base_uri": "https://localhost:8080/",
          "height": 34
        },
        "outputId": "de0227af-9988-4918-fca4-e78da57eba28"
      },
      "source": [
        "min(imagesSizesScipy)"
      ],
      "execution_count": 49,
      "outputs": [
        {
          "output_type": "execute_result",
          "data": {
            "text/plain": [
              "(48, 48, 3)"
            ]
          },
          "metadata": {
            "tags": []
          },
          "execution_count": 49
        }
      ]
    },
    {
      "cell_type": "code",
      "metadata": {
        "id": "oHw15i7fWLn8",
        "colab_type": "code",
        "colab": {
          "base_uri": "https://localhost:8080/",
          "height": 34
        },
        "outputId": "4abb946c-c08a-47f1-8ad7-a68eee9736f2"
      },
      "source": [
        "train_images_data_dir.absolute()"
      ],
      "execution_count": 77,
      "outputs": [
        {
          "output_type": "execute_result",
          "data": {
            "text/plain": [
              "PosixPath('/root/.keras/datasets/train_landmark_photos')"
            ]
          },
          "metadata": {
            "tags": []
          },
          "execution_count": 77
        }
      ]
    },
    {
      "cell_type": "code",
      "metadata": {
        "id": "xc9pn9WEYe8L",
        "colab_type": "code",
        "colab": {}
      },
      "source": [
        ""
      ],
      "execution_count": 0,
      "outputs": []
    }
  ]
}