{
 "cells": [
  {
   "cell_type": "code",
   "execution_count": 29,
   "metadata": {},
   "outputs": [
    {
     "name": "stdout",
     "output_type": "stream",
     "text": [
      "/cygdrive/c/Apps/jupyter/jupyterWorkspace/google_landmark_detection\n"
     ]
    }
   ],
   "source": [
    "!pwd"
   ]
  },
  {
   "cell_type": "code",
   "execution_count": 1,
   "metadata": {},
   "outputs": [],
   "source": [
    "import pandas as pd\n",
    "import os\n",
    "import shutil\n",
    "import cv2\n",
    "import time\n",
    "import gc\n",
    "import matplotlib.pyplot as plt\n",
    "import random\n",
    "import zipfile"
   ]
  },
  {
   "cell_type": "code",
   "execution_count": 2,
   "metadata": {},
   "outputs": [
    {
     "ename": "NameError",
     "evalue": "name 'greater_than_10' is not defined",
     "output_type": "error",
     "traceback": [
      "\u001b[1;31m---------------------------------------------------------------------------\u001b[0m",
      "\u001b[1;31mNameError\u001b[0m                                 Traceback (most recent call last)",
      "\u001b[1;32m<ipython-input-2-4352525bef52>\u001b[0m in \u001b[0;36m<module>\u001b[1;34m\u001b[0m\n\u001b[1;32m----> 1\u001b[1;33m \u001b[0mgreater_than_10\u001b[0m\u001b[1;33m.\u001b[0m\u001b[0mlandmark_id\u001b[0m\u001b[1;33m.\u001b[0m\u001b[0mcount\u001b[0m\u001b[1;33m(\u001b[0m\u001b[1;33m)\u001b[0m\u001b[1;33m\u001b[0m\u001b[1;33m\u001b[0m\u001b[0m\n\u001b[0m",
      "\u001b[1;31mNameError\u001b[0m: name 'greater_than_10' is not defined"
     ]
    }
   ],
   "source": [
    "greater_than_10.landmark_id.count()"
   ]
  },
  {
   "cell_type": "code",
   "execution_count": 3,
   "metadata": {},
   "outputs": [
    {
     "data": {
      "text/plain": [
       "['set_128_1.zip',\n",
       " 'set_128_2.zip',\n",
       " 'set_128_3.zip',\n",
       " 'set_128_4.zip',\n",
       " 'set_128_5.zip',\n",
       " 'set_128_6.zip',\n",
       " 'set_128_7.zip',\n",
       " 'set_128_8.zip',\n",
       " 'set_128_9.zip',\n",
       " 'set_128_10.zip',\n",
       " 'set_128_11.zip',\n",
       " 'set_128_12.zip',\n",
       " 'set_128_13.zip',\n",
       " 'set_128_14.zip',\n",
       " 'set_128_15.zip',\n",
       " 'set_128_16.zip',\n",
       " 'set_128_17.zip',\n",
       " 'set_128_18.zip',\n",
       " 'set_128_19.zip',\n",
       " 'set_128_20.zip']"
      ]
     },
     "execution_count": 3,
     "metadata": {},
     "output_type": "execute_result"
    }
   ],
   "source": [
    "zip_files_list = list()\n",
    "for i in range(1,21):\n",
    "    zip_files_list.append(\"set_128_\" + str(i) + \".zip\")\n",
    "zip_files_list"
   ]
  },
  {
   "cell_type": "code",
   "execution_count": null,
   "metadata": {},
   "outputs": [],
   "source": []
  },
  {
   "cell_type": "code",
   "execution_count": 11,
   "metadata": {
    "collapsed": true
   },
   "outputs": [
    {
     "name": "stdout",
     "output_type": "stream",
     "text": [
      "datasets/set_128_1.zip\n",
      "datasets/set_128_1/\n",
      "datasets/set_128_2.zip\n",
      "datasets/set_128_2/\n",
      "datasets/set_128_3.zip\n",
      "datasets/set_128_3/\n",
      "datasets/set_128_4.zip\n",
      "datasets/set_128_4/\n",
      "datasets/set_128_5.zip\n",
      "datasets/set_128_5/\n",
      "datasets/set_128_6.zip\n",
      "datasets/set_128_6/\n",
      "datasets/set_128_7.zip\n",
      "datasets/set_128_7/\n",
      "datasets/set_128_8.zip\n",
      "datasets/set_128_8/\n",
      "datasets/set_128_9.zip\n",
      "datasets/set_128_9/\n",
      "datasets/set_128_10.zip\n",
      "datasets/set_128_10/\n",
      "datasets/set_128_11.zip\n",
      "datasets/set_128_11/\n",
      "datasets/set_128_12.zip\n",
      "datasets/set_128_12/\n",
      "datasets/set_128_13.zip\n",
      "datasets/set_128_13/\n",
      "datasets/set_128_14.zip\n",
      "datasets/set_128_14/\n",
      "datasets/set_128_15.zip\n",
      "datasets/set_128_15/\n",
      "datasets/set_128_16.zip\n",
      "datasets/set_128_16/\n",
      "datasets/set_128_17.zip\n",
      "datasets/set_128_17/\n",
      "datasets/set_128_18.zip\n",
      "datasets/set_128_18/\n",
      "datasets/set_128_19.zip\n",
      "datasets/set_128_19/\n",
      "datasets/set_128_20.zip\n",
      "datasets/set_128_20/\n"
     ]
    }
   ],
   "source": [
    "for zip_file in zip_files_list:\n",
    "    local_zip = 'datasets/' + zip_file\n",
    "    print(local_zip)\n",
    "    zip_ref = zipfile.ZipFile(local_zip, 'r')\n",
    "    location_to_zip = 'datasets/' + zip_file.split('.')[0] + '/'\n",
    "    print(location_to_zip)\n",
    "    zip_ref.extractall(location_to_zip)\n",
    "    zip_ref.close()"
   ]
  },
  {
   "cell_type": "code",
   "execution_count": 4,
   "metadata": {},
   "outputs": [
    {
     "data": {
      "text/plain": [
       "['set_128_1.zip', 'set_128_2.zip']"
      ]
     },
     "execution_count": 4,
     "metadata": {},
     "output_type": "execute_result"
    }
   ],
   "source": [
    "zip_files_list[:2]"
   ]
  },
  {
   "cell_type": "code",
   "execution_count": 13,
   "metadata": {},
   "outputs": [
    {
     "name": "stdout",
     "output_type": "stream",
     "text": [
      "datasets/set_128_1.zip\n",
      "datasets/group1_set_128/\n",
      "datasets/set_128_2.zip\n",
      "datasets/group1_set_128/\n"
     ]
    }
   ],
   "source": [
    "for zip_file in zip_files_list[:2]:\n",
    "    local_zip = 'datasets/' + zip_file\n",
    "    print(local_zip)\n",
    "    zip_ref = zipfile.ZipFile(local_zip, 'r')\n",
    "    location_to_zip = 'datasets/group1_set_128/'\n",
    "    print(location_to_zip)\n",
    "    zip_ref.extractall(location_to_zip)\n",
    "    zip_ref.close()"
   ]
  },
  {
   "cell_type": "code",
   "execution_count": 6,
   "metadata": {},
   "outputs": [
    {
     "name": "stdout",
     "output_type": "stream",
     "text": [
      "datasets/set_128_3.zip\n",
      "datasets/group2_set_128/\n",
      "datasets/set_128_4.zip\n",
      "datasets/group2_set_128/\n",
      "datasets/set_128_5.zip\n",
      "datasets/group2_set_128/\n",
      "datasets/set_128_6.zip\n",
      "datasets/group3_set_128/\n",
      "datasets/set_128_7.zip\n",
      "datasets/group3_set_128/\n",
      "datasets/set_128_8.zip\n",
      "datasets/group3_set_128/\n",
      "datasets/set_128_9.zip\n",
      "datasets/group4_set_128/\n",
      "datasets/set_128_10.zip\n",
      "datasets/group4_set_128/\n",
      "datasets/set_128_11.zip\n",
      "datasets/group4_set_128/\n",
      "datasets/set_128_12.zip\n",
      "datasets/group5_set_128/\n",
      "datasets/set_128_13.zip\n",
      "datasets/group5_set_128/\n",
      "datasets/set_128_14.zip\n",
      "datasets/group5_set_128/\n",
      "datasets/set_128_15.zip\n",
      "datasets/group6_set_128/\n",
      "datasets/set_128_16.zip\n",
      "datasets/group6_set_128/\n",
      "datasets/set_128_17.zip\n",
      "datasets/group6_set_128/\n",
      "datasets/set_128_18.zip\n",
      "datasets/group7_set_128/\n",
      "datasets/set_128_19.zip\n",
      "datasets/group7_set_128/\n",
      "datasets/set_128_20.zip\n",
      "datasets/group7_set_128/\n"
     ]
    }
   ],
   "source": [
    "groups = [(1,2),(3,5),(6,8),(9,11),(12,14),(15,17),(18,20)]\n",
    "for index, group in enumerate(groups[1:]):\n",
    "    for zip_file in zip_files_list[group[0]-1:group[1]]:\n",
    "        local_zip = 'datasets/' + zip_file\n",
    "        print(local_zip)\n",
    "        zip_ref = zipfile.ZipFile(local_zip, 'r')\n",
    "        location_to_zip = 'datasets/group' + str(index+2) +'_set_128/'\n",
    "        print(location_to_zip)\n",
    "        zip_ref.extractall(location_to_zip)\n",
    "        zip_ref.close()"
   ]
  },
  {
   "cell_type": "code",
   "execution_count": null,
   "metadata": {},
   "outputs": [],
   "source": []
  }
 ],
 "metadata": {
  "kernelspec": {
   "display_name": "Python 3",
   "language": "python",
   "name": "python3"
  },
  "language_info": {
   "codemirror_mode": {
    "name": "ipython",
    "version": 3
   },
   "file_extension": ".py",
   "mimetype": "text/x-python",
   "name": "python",
   "nbconvert_exporter": "python",
   "pygments_lexer": "ipython3",
   "version": "3.7.6"
  }
 },
 "nbformat": 4,
 "nbformat_minor": 4
}
