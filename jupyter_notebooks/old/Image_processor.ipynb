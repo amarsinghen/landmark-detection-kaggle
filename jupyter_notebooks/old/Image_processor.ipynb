{
 "cells": [
  {
   "cell_type": "code",
   "execution_count": null,
   "metadata": {},
   "outputs": [],
   "source": [
    "import cv2\n",
    "import numpy as np\n",
    "from matplotlib import pyplot as plt"
   ]
  },
  {
   "cell_type": "code",
   "execution_count": null,
   "metadata": {},
   "outputs": [],
   "source": [
    "org = cv2.imread(\"image/ec1m_00010003.jpg\")"
   ]
  },
  {
   "cell_type": "code",
   "execution_count": null,
   "metadata": {},
   "outputs": [],
   "source": [
    "img_to_compare = cv2.imread(\"image/ec1m_00170069.jpg\")"
   ]
  },
  {
   "cell_type": "code",
   "execution_count": null,
   "metadata": {},
   "outputs": [],
   "source": [
    "sift = cv2.xfeatures2d.SIFT_create()\n",
    "kp_1, desc_1 = sift.detectAndCompute(org, None)\n",
    "kp_2, desc_2 = sift.detectAndCompute(img_to_compare, None)\n",
    "print (\"key point of 1st image: \", len(kp_1))\n",
    "print (\"key point of 2nd image: \", len(kp_2))"
   ]
  },
  {
   "cell_type": "code",
   "execution_count": null,
   "metadata": {},
   "outputs": [],
   "source": [
    "desc_1.shape"
   ]
  },
  {
   "cell_type": "code",
   "execution_count": null,
   "metadata": {},
   "outputs": [],
   "source": [
    "index_params = dict(algorithm=0, trees=5)\n",
    "search_params = dict()\n",
    "flann = cv2.FlannBasedMatcher(index_params, search_params)\n",
    "\n",
    "matches = flann.knnMatch(desc_1, desc_2, k=2)"
   ]
  },
  {
   "cell_type": "code",
   "execution_count": null,
   "metadata": {},
   "outputs": [],
   "source": []
  },
  {
   "cell_type": "code",
   "execution_count": null,
   "metadata": {},
   "outputs": [],
   "source": [
    "good_points = []\n",
    "ratio = 0.6\n",
    "for m, n in matches:\n",
    "    if m.distance < ratio*n.distance:\n",
    "        good_points.append(m)\n",
    "print(\"Good matches => \", len(good_points))\n",
    "no_kp =0\n",
    "if len(kp_1) <= len(kp_2):\n",
    "    no_kp = len(kp_1)\n",
    "else:\n",
    "    no_kp = len(kp_2)\n",
    "    \n",
    "print (\"How good is the match : \", len(good_points)/no_kp)\n",
    "result = cv2.drawMatches(org, kp_1, img_to_compare, kp_2, good_points, None)"
   ]
  },
  {
   "cell_type": "code",
   "execution_count": null,
   "metadata": {},
   "outputs": [],
   "source": [
    "plt.imshow(org[:,:,::-1])"
   ]
  },
  {
   "cell_type": "code",
   "execution_count": null,
   "metadata": {},
   "outputs": [],
   "source": [
    "plt.imshow(img_to_compare[:,:,::-1])"
   ]
  },
  {
   "cell_type": "code",
   "execution_count": null,
   "metadata": {},
   "outputs": [],
   "source": [
    "plt.figure(figsize = (40,40))\n",
    "plt.imshow(result[:,:,::-1], aspect='auto')"
   ]
  },
  {
   "cell_type": "code",
   "execution_count": null,
   "metadata": {},
   "outputs": [],
   "source": []
  },
  {
   "cell_type": "code",
   "execution_count": null,
   "metadata": {},
   "outputs": [],
   "source": [
    "x=5\n",
    "x"
   ]
  },
  {
   "cell_type": "code",
   "execution_count": null,
   "metadata": {},
   "outputs": [],
   "source": [
    "from multiprocessing import Pool\n",
    "import os\n",
    "import time\n",
    "\n",
    "def main():\n",
    "    work1 = [[\"A\", 20], [\"B\", 10], [\"C\", 1], [\"D\", 3]]\n",
    "    work2 = [[\"X\", 10], [\"Y\", 10]]\n",
    "    work3 = [[\"X\", 10], [\"Y\", 10]]\n",
    "    work4 = [[\"X\", 10], [\"Y\", 10]]\n",
    "    work5 = {\"a\":\"bikas\", \"b\":2.0}\n",
    "\n",
    "    work = (work1, work2, work3, work4, work5)\n",
    "    pool_handler(work)\n",
    "    \n",
    "def work_log(work_data):\n",
    "    if type(work_data) == dict:\n",
    "        print (work_data)\n",
    "    else:\n",
    "        print(\" Process %s waiting %s seconds\" % (work_data[0][1], work_data[1][1]))\n",
    "        time.sleep(int(work_data[1][1]))\n",
    "        print(\" Process %s Finished.\" % work_data[0])\n",
    "\n",
    "\n",
    "def pool_handler(work):\n",
    "    p = Pool(3)\n",
    "    p.map(work_log, work)\n",
    "    p.close()\n",
    "\n",
    "if __name__ == '__main__':\n",
    "    main()\n"
   ]
  },
  {
   "cell_type": "code",
   "execution_count": null,
   "metadata": {},
   "outputs": [],
   "source": []
  }
 ],
 "metadata": {
  "kernelspec": {
   "display_name": "Python 3",
   "language": "python",
   "name": "python3"
  },
  "language_info": {
   "codemirror_mode": {
    "name": "ipython",
    "version": 3
   },
   "file_extension": ".py",
   "mimetype": "text/x-python",
   "name": "python",
   "nbconvert_exporter": "python",
   "pygments_lexer": "ipython3",
   "version": "3.7.6"
  }
 },
 "nbformat": 4,
 "nbformat_minor": 2
}
