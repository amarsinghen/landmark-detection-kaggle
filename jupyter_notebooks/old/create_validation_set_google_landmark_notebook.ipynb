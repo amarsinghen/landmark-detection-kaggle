{
 "cells": [
  {
   "cell_type": "code",
   "execution_count": 2,
   "metadata": {},
   "outputs": [],
   "source": [
    "import pandas as pd\n",
    "import os\n",
    "import shutil\n",
    "import cv2\n",
    "from multiprocessing import Pool\n",
    "import time\n",
    "import process_images_448_448\n",
    "import process_images_128_128\n",
    "import gc\n",
    "import matplotlib.pyplot as plt\n",
    "import random\n",
    "import tarfile"
   ]
  },
  {
   "cell_type": "code",
   "execution_count": 3,
   "metadata": {},
   "outputs": [
    {
     "name": "stdout",
     "output_type": "stream",
     "text": [
      "/cygdrive/c/Apps/jupyterWorkspace/google_landmark_detection\n"
     ]
    }
   ],
   "source": [
    "!pwd"
   ]
  },
  {
   "cell_type": "code",
   "execution_count": 4,
   "metadata": {},
   "outputs": [
    {
     "data": {
      "text/plain": [
       "['datasets/group1_set_128/set_128/train',\n",
       " 'datasets/group2_set_128/set_128/train',\n",
       " 'datasets/group3_set_128/set_128/train',\n",
       " 'datasets/group4_set_128/set_128/train',\n",
       " 'datasets/group5_set_128/set_128/train',\n",
       " 'datasets/group6_set_128/set_128/train',\n",
       " 'datasets/group7_set_128/set_128/train']"
      ]
     },
     "execution_count": 4,
     "metadata": {},
     "output_type": "execute_result"
    }
   ],
   "source": [
    "dir_name_list = [\"datasets/group{}_set_128/set_128/train\".format(i) for i in range(1,5)]\n",
    "dir_name_list"
   ]
  },
  {
   "cell_type": "code",
   "execution_count": 5,
   "metadata": {},
   "outputs": [
    {
     "data": {
      "text/plain": [
       "{'datasets/group1_set_128/set_128/train': 10,\n",
       " 'datasets/group2_set_128/set_128/train': 7,\n",
       " 'datasets/group3_set_128/set_128/train': 4,\n",
       " 'datasets/group4_set_128/set_128/train': 3,\n",
       " 'datasets/group5_set_128/set_128/train': 3,\n",
       " 'datasets/group6_set_128/set_128/train': 2,\n",
       " 'datasets/group7_set_128/set_128/train': 2}"
      ]
     },
     "execution_count": 5,
     "metadata": {},
     "output_type": "execute_result"
    }
   ],
   "source": [
    "number_of_images = [10,7,4,3,2]\n",
    "dict_of_groups = dict(zip(dir_name_list,number_of_images))\n",
    "dict_of_groups"
   ]
  },
  {
   "cell_type": "code",
   "execution_count": 13,
   "metadata": {},
   "outputs": [
    {
     "name": "stdout",
     "output_type": "stream",
     "text": [
      "datasets/group1_set_128/set_128/train\n",
      "\n",
      "Time to move images in each group :  62.8026487827301\n",
      "datasets/group2_set_128/set_128/train\n",
      "\n",
      "Time to move images in each group :  70.9232108592987\n",
      "datasets/group3_set_128/set_128/train\n",
      "\n",
      "Time to move images in each group :  53.85739350318909\n",
      "datasets/group4_set_128/set_128/train\n",
      "\n",
      "Time to move images in each group :  41.481268644332886\n",
      "datasets/group5_set_128/set_128/train\n",
      "\n",
      "Time to move images in each group :  44.39012908935547\n",
      "datasets/group6_set_128/set_128/train\n",
      "\n",
      "Time to move images in each group :  33.59876871109009\n",
      "datasets/group7_set_128/set_128/train\n",
      "\n",
      "Time to move images in each group :  34.83370566368103\n"
     ]
    }
   ],
   "source": [
    "dictionary = {'datasets/group7_set_128_1/set_128/train': 2}\n",
    "\n",
    "for group_name_folder, random_image_number in dict_of_groups.items():\n",
    "    move_files_start_time = time.time()\n",
    "    def move_files(group_name_folder):\n",
    "        # create a list of file and sub directories \n",
    "        # names in the given directory \n",
    "        listOfFolders = os.listdir(group_name_folder)\n",
    "        for folder in listOfFolders:\n",
    "            path_to_images = os.path.join(group_name_folder,folder)\n",
    "            list_of_images = os.listdir(path_to_images)\n",
    "            list_of_images = random.sample(list_of_images,random_image_number)\n",
    "            for entry in list_of_images:\n",
    "                src_full_path = os.path.join(path_to_images,entry)\n",
    "#                 print(src_full_path)\n",
    "                dest_full_path = src_full_path.replace('train','validation')\n",
    "                dest_folder = dest_full_path.split(str(entry))[0]\n",
    "                if not os.path.isdir(dest_folder):\n",
    "                    try:\n",
    "                        os.makedirs(dest_folder)\n",
    "                    except:\n",
    "                        pass\n",
    "                os.rename(src_full_path,dest_full_path)\n",
    "    print(group_name_folder)\n",
    "    move_files(group_name_folder)\n",
    "    print(\"\\nTime to move images in each group : \", (time.time() - move_files_start_time))"
   ]
  },
  {
   "cell_type": "code",
   "execution_count": null,
   "metadata": {},
   "outputs": [],
   "source": []
  },
  {
   "cell_type": "code",
   "execution_count": null,
   "metadata": {},
   "outputs": [],
   "source": []
  }
 ],
 "metadata": {
  "kernelspec": {
   "display_name": "Python 3",
   "language": "python",
   "name": "python3"
  },
  "language_info": {
   "codemirror_mode": {
    "name": "ipython",
    "version": 3
   },
   "file_extension": ".py",
   "mimetype": "text/x-python",
   "name": "python",
   "nbconvert_exporter": "python",
   "pygments_lexer": "ipython3",
   "version": "3.7.6"
  }
 },
 "nbformat": 4,
 "nbformat_minor": 4
}
