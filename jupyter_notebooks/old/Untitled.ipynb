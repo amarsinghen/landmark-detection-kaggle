{
 "cells": [
  {
   "cell_type": "code",
   "execution_count": 1,
   "metadata": {},
   "outputs": [
    {
     "name": "stdout",
     "output_type": "stream",
     "text": [
      "https://s3.amazonaws.com/google-landmark/test/images_000.tar\n",
      "https://s3.amazonaws.com/google-landmark/test/images_001.tar\n"
     ]
    },
    {
     "name": "stderr",
     "output_type": "stream",
     "text": [
      "'wget' is not recognized as an internal or external command,\n",
      "operable program or batch file.\n"
     ]
    },
    {
     "name": "stdout",
     "output_type": "stream",
     "text": [
      "https://s3.amazonaws.com/google-landmark/test/images_002.tar\n"
     ]
    },
    {
     "name": "stderr",
     "output_type": "stream",
     "text": [
      "'wget' is not recognized as an internal or external command,\n",
      "operable program or batch file.\n"
     ]
    },
    {
     "name": "stdout",
     "output_type": "stream",
     "text": [
      "https://s3.amazonaws.com/google-landmark/test/images_003.tar\n"
     ]
    },
    {
     "name": "stderr",
     "output_type": "stream",
     "text": [
      "'wget' is not recognized as an internal or external command,\n",
      "operable program or batch file.\n"
     ]
    },
    {
     "name": "stdout",
     "output_type": "stream",
     "text": [
      "https://s3.amazonaws.com/google-landmark/test/images_004.tar\n"
     ]
    },
    {
     "name": "stderr",
     "output_type": "stream",
     "text": [
      "'wget' is not recognized as an internal or external command,\n",
      "operable program or batch file.\n"
     ]
    },
    {
     "name": "stdout",
     "output_type": "stream",
     "text": [
      "https://s3.amazonaws.com/google-landmark/test/images_005.tar\n"
     ]
    },
    {
     "name": "stderr",
     "output_type": "stream",
     "text": [
      "'wget' is not recognized as an internal or external command,\n",
      "operable program or batch file.\n"
     ]
    },
    {
     "name": "stdout",
     "output_type": "stream",
     "text": [
      "https://s3.amazonaws.com/google-landmark/test/images_006.tar\n"
     ]
    },
    {
     "name": "stderr",
     "output_type": "stream",
     "text": [
      "'wget' is not recognized as an internal or external command,\n",
      "operable program or batch file.\n"
     ]
    },
    {
     "name": "stdout",
     "output_type": "stream",
     "text": [
      "https://s3.amazonaws.com/google-landmark/test/images_007.tar\n"
     ]
    },
    {
     "name": "stderr",
     "output_type": "stream",
     "text": [
      "'wget' is not recognized as an internal or external command,\n",
      "operable program or batch file.\n"
     ]
    },
    {
     "name": "stdout",
     "output_type": "stream",
     "text": [
      "https://s3.amazonaws.com/google-landmark/test/images_008.tar\n"
     ]
    },
    {
     "name": "stderr",
     "output_type": "stream",
     "text": [
      "'wget' is not recognized as an internal or external command,\n",
      "operable program or batch file.\n"
     ]
    },
    {
     "name": "stdout",
     "output_type": "stream",
     "text": [
      "https://s3.amazonaws.com/google-landmark/test/images_009.tar\n"
     ]
    },
    {
     "name": "stderr",
     "output_type": "stream",
     "text": [
      "'wget' is not recognized as an internal or external command,\n",
      "operable program or batch file.\n"
     ]
    },
    {
     "name": "stdout",
     "output_type": "stream",
     "text": [
      "https://s3.amazonaws.com/google-landmark/test/images_010.tar\n"
     ]
    },
    {
     "name": "stderr",
     "output_type": "stream",
     "text": [
      "'wget' is not recognized as an internal or external command,\n",
      "operable program or batch file.\n"
     ]
    },
    {
     "name": "stdout",
     "output_type": "stream",
     "text": [
      "https://s3.amazonaws.com/google-landmark/test/images_011.tar\n"
     ]
    },
    {
     "name": "stderr",
     "output_type": "stream",
     "text": [
      "'wget' is not recognized as an internal or external command,\n",
      "operable program or batch file.\n"
     ]
    },
    {
     "name": "stdout",
     "output_type": "stream",
     "text": [
      "https://s3.amazonaws.com/google-landmark/test/images_012.tar\n"
     ]
    },
    {
     "name": "stderr",
     "output_type": "stream",
     "text": [
      "'wget' is not recognized as an internal or external command,\n",
      "operable program or batch file.\n"
     ]
    },
    {
     "name": "stdout",
     "output_type": "stream",
     "text": [
      "https://s3.amazonaws.com/google-landmark/test/images_013.tar\n"
     ]
    },
    {
     "name": "stderr",
     "output_type": "stream",
     "text": [
      "'wget' is not recognized as an internal or external command,\n",
      "operable program or batch file.\n"
     ]
    },
    {
     "name": "stdout",
     "output_type": "stream",
     "text": [
      "https://s3.amazonaws.com/google-landmark/test/images_014.tar\n"
     ]
    },
    {
     "name": "stderr",
     "output_type": "stream",
     "text": [
      "'wget' is not recognized as an internal or external command,\n",
      "operable program or batch file.\n"
     ]
    },
    {
     "name": "stdout",
     "output_type": "stream",
     "text": [
      "https://s3.amazonaws.com/google-landmark/test/images_015.tar\n"
     ]
    },
    {
     "name": "stderr",
     "output_type": "stream",
     "text": [
      "'wget' is not recognized as an internal or external command,\n",
      "operable program or batch file.\n"
     ]
    },
    {
     "name": "stdout",
     "output_type": "stream",
     "text": [
      "https://s3.amazonaws.com/google-landmark/test/images_016.tar\n"
     ]
    },
    {
     "name": "stderr",
     "output_type": "stream",
     "text": [
      "'wget' is not recognized as an internal or external command,\n",
      "operable program or batch file.\n"
     ]
    },
    {
     "name": "stdout",
     "output_type": "stream",
     "text": [
      "https://s3.amazonaws.com/google-landmark/test/images_017.tar\n"
     ]
    },
    {
     "name": "stderr",
     "output_type": "stream",
     "text": [
      "'wget' is not recognized as an internal or external command,\n",
      "operable program or batch file.\n",
      "'wget' is not recognized as an internal or external command,\n",
      "operable program or batch file.\n"
     ]
    },
    {
     "name": "stdout",
     "output_type": "stream",
     "text": [
      "https://s3.amazonaws.com/google-landmark/test/images_018.tar\n",
      "https://s3.amazonaws.com/google-landmark/test/images_019.tar\n"
     ]
    },
    {
     "name": "stderr",
     "output_type": "stream",
     "text": [
      "'wget' is not recognized as an internal or external command,\n",
      "operable program or batch file.\n",
      "'wget' is not recognized as an internal or external command,\n",
      "operable program or batch file.\n"
     ]
    }
   ],
   "source": [
    "for i in range(0,20):\n",
    "    if i<10:\n",
    "        download_url = \"https://s3.amazonaws.com/google-landmark/test/images_00\"+str(i)+\".tar\"\n",
    "        save_url = \"test/images_00\"+str(i)+\".tar\"\n",
    "    else:\n",
    "        download_url = \"https://s3.amazonaws.com/google-landmark/test/images_0\"+str(i)+\".tar\"\n",
    "        save_url = \"test/images_0\"+str(i)+\".tar\"\n",
    "    print(download_url)\n",
    "    !wget --no-check-certificate {download_url} -O {save_url}"
   ]
  },
  {
   "cell_type": "code",
   "execution_count": 1,
   "metadata": {},
   "outputs": [],
   "source": [
    "temp = None\n",
    "temp = [[12],[1]]"
   ]
  },
  {
   "cell_type": "code",
   "execution_count": 2,
   "metadata": {},
   "outputs": [
    {
     "name": "stdout",
     "output_type": "stream",
     "text": [
      "[[12], [1]]\n"
     ]
    }
   ],
   "source": [
    "print(temp)"
   ]
  },
  {
   "cell_type": "code",
   "execution_count": 4,
   "metadata": {},
   "outputs": [
    {
     "ename": "SyntaxError",
     "evalue": "EOL while scanning string literal (<ipython-input-4-e90b841508bf>, line 1)",
     "output_type": "error",
     "traceback": [
      "\u001b[1;36m  File \u001b[1;32m\"<ipython-input-4-e90b841508bf>\"\u001b[1;36m, line \u001b[1;32m1\u001b[0m\n\u001b[1;33m    dict = {\"datasets\\\\raw_data\\\\train\\\\226\\\\015b884b6a081c7d.jpg\": 8, \"datasets\\\\raw_data\\\\train\\\\226\\\\04addc073bba2714.jpg\": 6, \"datasets\\\\raw_data\\\\train\\\\226\\\\0818ce27527c\u001b[0m\n\u001b[1;37m                                                                                                                                                                               ^\u001b[0m\n\u001b[1;31mSyntaxError\u001b[0m\u001b[1;31m:\u001b[0m EOL while scanning string literal\n"
     ]
    }
   ],
   "source": [
    "dict = {\"datasets\\\\raw_data\\\\train\\\\226\\\\015b884b6a081c7d.jpg\": 8, \n",
    "        \"datasets\\\\raw_data\\\\train\\\\226\\\\04addc073bba2714.jpg\": 6, \n",
    "        \"datasets\\\\raw_data\\\\train\\\\226\\\\0818ce27527c44be.jpg\": 10, \"datasets\\\\raw_data\\\\train\\\\226\\\\094abc81e67b7cd6.jpg\": 7, \"datasets\\\\raw_data\\\\train\\\\226\\\\0a1dbf035405214c.jpg\": 10, \"datasets\\\\raw_data\\\\train\\\\226\n",
    "\\\\0ae9e7611b7375f9.jpg\": 4, \"datasets\\\\raw_data\\\\train\\\\226\\\\0bd84742ebcd7093.jpg\": 8, \"datasets\\\\raw_data\\\\train\\\\226\\\\0e35de786d523502.jpg\": 7, \"datasets\\\\raw_data\n",
    "\\\\train\\\\226\\\\0e947a2f79bbc84d.jpg\": 5, \"datasets\\\\raw_data\\\\train\\\\226\\\\13a26dfc2270b72d.jpg\": 6, \"datasets\\\\raw_data\\\\train\\\\226\\\\14a343ff2301dd43.jpg\": 6, \"datase\n",
    "ts\\\\raw_data\\\\train\\\\226\\\\16143ea254ea9537.jpg\": 9, \"datasets\\\\raw_data\\\\train\\\\226\\\\1641c79ba5cad128.jpg\": 0, \"datasets\\\\raw_data\\\\train\\\\226\\\\1819006760fa2a54.jpg\"\n",
    ": 5, \"datasets\\\\raw_data\\\\train\\\\226\\\\1a8b22fceaf9811c.jpg\": 7, \"datasets\\\\raw_data\\\\train\\\\226\\\\1ae5618dd56bf602.jpg\": 6, \"datasets\\\\raw_data\\\\train\\\\226\\\\1c4c1fa89\n",
    "35db3c8.jpg\": 6, \"datasets\\\\raw_data\\\\train\\\\226\\\\1d23480ee3f4b503.jpg\": 8, \"datasets\\\\raw_data\\\\train\\\\226\\\\1eff60dbd00e93b9.jpg\": 8, \"datasets\\\\raw_data\\\\train\\\\22\n",
    "6\\\\1f2520c3870caea6.jpg\": 6, \"datasets\\\\raw_data\\\\train\\\\226\\\\251ead550b39c0ae.jpg\": 5, \"datasets\\\\raw_data\\\\train\\\\226\\\\27124b2e4018abc7.jpg\": 8, \"datasets\\\\raw_dat\n",
    "a\\\\train\\\\226\\\\2c3611d136e75dc3.jpg\": 9, \"datasets\\\\raw_data\\\\train\\\\226\\\\2c78596d57e9a32d.jpg\": 7, \"datasets\\\\raw_data\\\\train\\\\226\\\\2ce10f36f9e54e73.jpg\": 9, \"datas\n",
    "ets\\\\raw_data\\\\train\\\\226\\\\2d13d5c7d3a9f533.jpg\": 7, \"datasets\\\\raw_data\\\\train\\\\226\\\\2dc2b132ce040ea8.jpg\": 6, \"datasets\\\\raw_data\\\\train\\\\226\\\\300964ad1710bdbb.jpg\n",
    "\": 8, \"datasets\\\\raw_data\\\\train\\\\226\\\\311e91738edc4f3a.jpg\": 6, \"datasets\\\\raw_data\\\\train\\\\226\\\\314c10cb6e8a8b10.jpg\": 9, \"datasets\\\\raw_data\\\\train\\\\226\\\\3171fc26\n",
    "98031ba6.jpg\": 9, \"datasets\\\\raw_data\\\\train\\\\226\\\\317775dc8adc59ce.jpg\": 8, \"datasets\\\\raw_data\\\\train\\\\226\\\\3254ee2b83ba2456.jpg\": 9, \"datasets\\\\raw_data\\\\train\\\\2\n",
    "26\\\\3412b7098ba1e794.jpg\": 9, \"datasets\\\\raw_data\\\\train\\\\226\\\\3697d89776982de5.jpg\": 9, \"datasets\\\\raw_data\\\\train\\\\226\\\\3777918d5667902c.jpg\": 8, \"datasets\\\\raw_da\n",
    "ta\\\\train\\\\226\\\\3831dbd81ca0bfa9.jpg\": 10, \"datasets\\\\raw_data\\\\train\\\\226\\\\403cb1299488c96f.jpg\": 8, \"datasets\\\\raw_data\\\\train\\\\226\\\\453ddca87b824744.jpg\": 10, \"da\n",
    "tasets\\\\raw_data\\\\train\\\\226\\\\46c711c4c6022edb.jpg\": 10, \"datasets\\\\raw_data\\\\train\\\\226\\\\478fc47dfd74968d.jpg\": 7, \"datasets\\\\raw_data\\\\train\\\\226\\\\48aa4f7baa54810b\n",
    ".jpg\": 10, \"datasets\\\\raw_data\\\\train\\\\226\\\\4ae3025abc885b6d.jpg\": 6, \"datasets\\\\raw_data\\\\train\\\\226\\\\4cd654feff29a3e7.jpg\": 4, \"datasets\\\\raw_data\\\\train\\\\226\\\\50e\n",
    "1a5f43c4909bc.jpg\": 4, \"datasets\\\\raw_data\\\\train\\\\226\\\\57d8e1158dcbd26a.jpg\": 10, \"datasets\\\\raw_data\\\\train\\\\226\\\\58f88d98025f6b1d.jpg\": 8, \"datasets\\\\raw_data\\\\tr\n",
    "ain\\\\226\\\\5971b06969cbab17.jpg\": 5, \"datasets\\\\raw_data\\\\train\\\\226\\\\5b5d01ed1845f4ab.jpg\": 8, \"datasets\\\\raw_data\\\\train\\\\226\\\\5e8975df833ff3a9.jpg\": 10, \"datasets\\\n",
    "\\raw_data\\\\train\\\\226\\\\5f338ab9de3c4ce4.jpg\": 9, \"datasets\\\\raw_data\\\\train\\\\226\\\\6006189be8d4d3ca.jpg\": 10, \"datasets\\\\raw_data\\\\train\\\\226\\\\65f3e12d0ceffbd7.jpg\":\n",
    "10, \"datasets\\\\raw_data\\\\train\\\\226\\\\66147607b6fcf4f7.jpg\": 4, \"datasets\\\\raw_data\\\\train\\\\226\\\\68d6abaff252c079.jpg\": 8, \"datasets\\\\raw_data\\\\train\\\\226\\\\699b30b2d7\n",
    "6f673c.jpg\": 6, \"datasets\\\\raw_data\\\\train\\\\226\\\\6a554fa7b2911ecf.jpg\": 7, \"datasets\\\\raw_data\\\\train\\\\226\\\\6caef3c27abc8fbd.jpg\": 6, \"datasets\\\\raw_data\\\\train\\\\226\n",
    "\\\\6e2058bf748fe48d.jpg\": 10, \"datasets\\\\raw_data\\\\train\\\\226\\\\6e3bafec9686bb2b.jpg\": 5, \"datasets\\\\raw_data\\\\train\\\\226\\\\6e8fe888792f0a0d.jpg\": 5, \"datasets\\\\raw_dat\n",
    "a\\\\train\\\\226\\\\6f8f38246ba81c32.jpg\": 6, \"datasets\\\\raw_data\\\\train\\\\226\\\\6fc602f62a3cac67.jpg\": 9, \"datasets\\\\raw_data\\\\train\\\\226\\\\724bd421101e3c6e.jpg\": 9, \"datas\n",
    "ets\\\\raw_data\\\\train\\\\226\\\\726db4383704bc56.jpg\": 10, \"datasets\\\\raw_data\\\\train\\\\226\\\\72bb9bff1df8b819.jpg\": 5, \"datasets\\\\raw_data\\\\train\\\\226\\\\7ac25df5155d83a0.jp\n",
    "g\": 10, \"datasets\\\\raw_data\\\\train\\\\226\\\\7b43e8a6059c492e.jpg\": 10, \"datasets\\\\raw_data\\\\train\\\\226\\\\7c22c5cad6e00e1b.jpg\": 10, \"datasets\\\\raw_data\\\\train\\\\226\\\\7eb6\n",
    "ba6a91006250.jpg\": 9, \"datasets\\\\raw_data\\\\train\\\\226\\\\823854f962e3d149.jpg\": 9, \"datasets\\\\raw_data\\\\train\\\\226\\\\86750af03d196f67.jpg\": 3, \"datasets\\\\raw_data\\\\trai\n",
    "n\\\\226\\\\886d9d608c1bce26.jpg\": 8, \"datasets\\\\raw_data\\\\train\\\\226\\\\8b3e6f78a99bc85d.jpg\": 8, \"datasets\\\\raw_data\\\\train\\\\226\\\\8ef662c2a15193ce.jpg\": 9, \"datasets\\\\ra\n",
    "w_data\\\\train\\\\226\\\\90ef8a8e41ed094f.jpg\": 8, \"datasets\\\\raw_data\\\\train\\\\226\\\\91edd97d26916320.jpg\": 10, \"datasets\\\\raw_data\\\\train\\\\226\\\\94f1c0f48cad29d7.jpg\": 6,\n",
    "\"datasets\\\\raw_data\\\\train\\\\226\\\\9cab3259e02369e7.jpg\": 10, \"datasets\\\\raw_data\\\\train\\\\226\\\\a4807055aae919de.jpg\": 9, \"datasets\\\\raw_data\\\\train\\\\226\\\\a77ba826a7e83\n",
    "39f.jpg\": 4, \"datasets\\\\raw_data\\\\train\\\\226\\\\a8c06b77fcc1be4b.jpg\": 7, \"datasets\\\\raw_data\\\\train\\\\226\\\\aa1a76b75f866f1c.jpg\": 9, \"datasets\\\\raw_data\\\\train\\\\226\\\\b\n",
    "0595f9a546dc27b.jpg\": 8, \"datasets\\\\raw_data\\\\train\\\\226\\\\b16928f55e289939.jpg\": 0, \"datasets\\\\raw_data\\\\train\\\\226\\\\b3a0bb02966fc32d.jpg\": 9, \"datasets\\\\raw_data\\\\t\n",
    "rain\\\\226\\\\b79a1d77983b9857.jpg\": 10, \"datasets\\\\raw_data\\\\train\\\\226\\\\b8c61224bedca1e3.jpg\": 6, \"datasets\\\\raw_data\\\\train\\\\226\\\\bb1e7758db2fdad9.jpg\": 8, \"datasets\n",
    "\\\\raw_data\\\\train\\\\226\\\\bc369ebf4eb902f3.jpg\": 8, \"datasets\\\\raw_data\\\\train\\\\226\\\\bc9b91b67f5db2ed.jpg\": 10, \"datasets\\\\raw_data\\\\train\\\\226\\\\bf78b84eabf68f0d.jpg\":\n",
    " 9, \"datasets\\\\raw_data\\\\train\\\\226\\\\bff583599474190f.jpg\": 9, \"datasets\\\\raw_data\\\\train\\\\226\\\\c22d9f58221e53f6.jpg\": 8, \"datasets\\\\raw_data\\\\train\\\\226\\\\c26a040997\n",
    "d8e070.jpg\": 9, \"datasets\\\\raw_data\\\\train\\\\226\\\\c3fd9c0ac4cf9262.jpg\": 5, \"datasets\\\\raw_data\\\\train\\\\226\\\\cd9178c662563728.jpg\": 0, \"datasets\\\\raw_data\\\\train\\\\226\n",
    "\\\\d19f95dc48a03457.jpg\": 8, \"datasets\\\\raw_data\\\\train\\\\226\\\\d1d5c81319162c28.jpg\": 7, \"datasets\\\\raw_data\\\\train\\\\226\\\\d2e359a1c99033c2.jpg\": 5, \"datasets\\\\raw_data\n",
    "\\\\train\\\\226\\\\d5c0a033c2935307.jpg\": 4, \"datasets\\\\raw_data\\\\train\\\\226\\\\dd14d53e1b2fc558.jpg\": 6, \"datasets\\\\raw_data\\\\train\\\\226\\\\e09c9c3ba3653297.jpg\": 7, \"datase\n",
    "ts\\\\raw_data\\\\train\\\\226\\\\e579cebc412c1474.jpg\": 6, \"datasets\\\\raw_data\\\\train\\\\226\\\\ee365fa9830b7381.jpg\": 7, \"datasets\\\\raw_data\\\\train\\\\226\\\\f1c0d0efb7eedc7b.jpg\"\n",
    ": 8, \"datasets\\\\raw_data\\\\train\\\\226\\\\f2958e319c6907b6.jpg\": 9, \"datasets\\\\raw_data\\\\train\\\\226\\\\f9a4a64c43277682.jpg\": 9, \"datasets\\\\raw_data\\\\train\\\\226\\\\fa19deded\n",
    "10e3ea9.jpg\": 10, \"datasets\\\\raw_data\\\\train\\\\226\\\\fac69b6458073607.jpg\": 3, \"datasets\\\\raw_data\\\\train\\\\226\\\\fb051aa2d6e53b82.jpg\": 8}]\n",
    "{\"datasets\\\\raw_data\\\\train\\\\226\\\\015b884b6a081c7d.jpg\": 8, \"datasets\\\\raw_data\\\\train\\\\226\\\\04addc073bba2714.jpg\": 6, \"datasets\\\\raw_data\\\\train\\\\226\\\\0818ce27527c4\n",
    "4be.jpg\": 10, \"datasets\\\\raw_data\\\\train\\\\226\\\\094abc81e67b7cd6.jpg\": 7, \"datasets\\\\raw_data\\\\train\\\\226\\\\0a1dbf035405214c.jpg\": 10, \"datasets\\\\raw_data\\\\train\\\\226\\\n",
    "\\0ae9e7611b7375f9.jpg\": 4, \"datasets\\\\raw_data\\\\train\\\\226\\\\0bd84742ebcd7093.jpg\": 8, \"datasets\\\\raw_data\\\\train\\\\226\\\\0e35de786d523502.jpg\": 7, \"datasets\\\\raw_data\\\n",
    "\\train\\\\226\\\\0e947a2f79bbc84d.jpg\": 5, \"datasets\\\\raw_data\\\\train\\\\226\\\\13a26dfc2270b72d.jpg\": 6, \"datasets\\\\raw_data\\\\train\\\\226\\\\14a343ff2301dd43.jpg\": 6, \"dataset\n",
    "s\\\\raw_data\\\\train\\\\226\\\\16143ea254ea9537.jpg\": 9, \"datasets\\\\raw_data\\\\train\\\\226\\\\1641c79ba5cad128.jpg\": 0, \"datasets\\\\raw_data\\\\train\\\\226\\\\1819006760fa2a54.jpg\":\n",
    " 5, \"datasets\\\\raw_data\\\\train\\\\226\\\\1a8b22fceaf9811c.jpg\": 7, \"datasets\\\\raw_data\\\\train\\\\226\\\\1ae5618dd56bf602.jpg\": 6, \"datasets\\\\raw_data\\\\train\\\\226\\\\1c4c1fa893\n",
    "5db3c8.jpg\": 6, \"datasets\\\\raw_data\\\\train\\\\226\\\\1d23480ee3f4b503.jpg\": 8, \"datasets\\\\raw_data\\\\train\\\\226\\\\1eff60dbd00e93b9.jpg\": 8, \"datasets\\\\raw_data\\\\train\\\\226\n",
    "\\\\1f2520c3870caea6.jpg\": 6, \"datasets\\\\raw_data\\\\train\\\\226\\\\251ead550b39c0ae.jpg\": 5, \"datasets\\\\raw_data\\\\train\\\\226\\\\27124b2e4018abc7.jpg\": 8, \"datasets\\\\raw_data\n",
    "\\\\train\\\\226\\\\2c3611d136e75dc3.jpg\": 9, \"datasets\\\\raw_data\\\\train\\\\226\\\\2c78596d57e9a32d.jpg\": 7, \"datasets\\\\raw_data\\\\train\\\\226\\\\2ce10f36f9e54e73.jpg\": 9, \"datase\n",
    "ts\\\\raw_data\\\\train\\\\226\\\\2d13d5c7d3a9f533.jpg\": 7, \"datasets\\\\raw_data\\\\train\\\\226\\\\2dc2b132ce040ea8.jpg\": 6, \"datasets\\\\raw_data\\\\train\\\\226\\\\300964ad1710bdbb.jpg\"\n",
    ": 8, \"datasets\\\\raw_data\\\\train\\\\226\\\\311e91738edc4f3a.jpg\": 6, \"datasets\\\\raw_data\\\\train\\\\226\\\\314c10cb6e8a8b10.jpg\": 9, \"datasets\\\\raw_data\\\\train\\\\226\\\\3171fc269\n",
    "8031ba6.jpg\": 9, \"datasets\\\\raw_data\\\\train\\\\226\\\\317775dc8adc59ce.jpg\": 8, \"datasets\\\\raw_data\\\\train\\\\226\\\\3254ee2b83ba2456.jpg\": 9, \"datasets\\\\raw_data\\\\train\\\\22\n",
    "6\\\\3412b7098ba1e794.jpg\": 9, \"datasets\\\\raw_data\\\\train\\\\226\\\\3697d89776982de5.jpg\": 9, \"datasets\\\\raw_data\\\\train\\\\226\\\\3777918d5667902c.jpg\": 8, \"datasets\\\\raw_dat\n",
    "a\\\\train\\\\226\\\\3831dbd81ca0bfa9.jpg\": 10, \"datasets\\\\raw_data\\\\train\\\\226\\\\403cb1299488c96f.jpg\": 8, \"datasets\\\\raw_data\\\\train\\\\226\\\\453ddca87b824744.jpg\": 10, \"dat\n",
    "asets\\\\raw_data\\\\train\\\\226\\\\46c711c4c6022edb.jpg\": 10, \"datasets\\\\raw_data\\\\train\\\\226\\\\478fc47dfd74968d.jpg\": 7, \"datasets\\\\raw_data\\\\train\\\\226\\\\48aa4f7baa54810b.\n",
    "jpg\": 10, \"datasets\\\\raw_data\\\\train\\\\226\\\\4ae3025abc885b6d.jpg\": 6, \"datasets\\\\raw_data\\\\train\\\\226\\\\4cd654feff29a3e7.jpg\": 4, \"datasets\\\\raw_data\\\\train\\\\226\\\\50e1\n",
    "a5f43c4909bc.jpg\": 4, \"datasets\\\\raw_data\\\\train\\\\226\\\\57d8e1158dcbd26a.jpg\": 10, \"datasets\\\\raw_data\\\\train\\\\226\\\\58f88d98025f6b1d.jpg\": 8, \"datasets\\\\raw_data\\\\tra\n",
    "in\\\\226\\\\5971b06969cbab17.jpg\": 5, \"datasets\\\\raw_data\\\\train\\\\226\\\\5b5d01ed1845f4ab.jpg\": 8, \"datasets\\\\raw_data\\\\train\\\\226\\\\5e8975df833ff3a9.jpg\": 10, \"datasets\\\\\n",
    "raw_data\\\\train\\\\226\\\\5f338ab9de3c4ce4.jpg\": 9, \"datasets\\\\raw_data\\\\train\\\\226\\\\6006189be8d4d3ca.jpg\": 10, \"datasets\\\\raw_data\\\\train\\\\226\\\\65f3e12d0ceffbd7.jpg\": 1\n",
    "0, \"datasets\\\\raw_data\\\\train\\\\226\\\\66147607b6fcf4f7.jpg\": 4, \"datasets\\\\raw_data\\\\train\\\\226\\\\68d6abaff252c079.jpg\": 8, \"datasets\\\\raw_data\\\\train\\\\226\\\\699b30b2d76\n",
    "f673c.jpg\": 6, \"datasets\\\\raw_data\\\\train\\\\226\\\\6a554fa7b2911ecf.jpg\": 7, \"datasets\\\\raw_data\\\\train\\\\226\\\\6caef3c27abc8fbd.jpg\": 6, \"datasets\\\\raw_data\\\\train\\\\226\\\n",
    "\\6e2058bf748fe48d.jpg\": 10, \"datasets\\\\raw_data\\\\train\\\\226\\\\6e3bafec9686bb2b.jpg\": 5, \"datasets\\\\raw_data\\\\train\\\\226\\\\6e8fe888792f0a0d.jpg\": 5, \"datasets\\\\raw_data\n",
    "\\\\train\\\\226\\\\6f8f38246ba81c32.jpg\": 6, \"datasets\\\\raw_data\\\\train\\\\226\\\\6fc602f62a3cac67.jpg\": 9, \"datasets\\\\raw_data\\\\train\\\\226\\\\724bd421101e3c6e.jpg\": 9, \"datase\n",
    "ts\\\\raw_data\\\\train\\\\226\\\\726db4383704bc56.jpg\": 10, \"datasets\\\\raw_data\\\\train\\\\226\\\\72bb9bff1df8b819.jpg\": 5, \"datasets\\\\raw_data\\\\train\\\\226\\\\7ac25df5155d83a0.jpg\n",
    "\": 10, \"datasets\\\\raw_data\\\\train\\\\226\\\\7b43e8a6059c492e.jpg\": 10, \"datasets\\\\raw_data\\\\train\\\\226\\\\7c22c5cad6e00e1b.jpg\": 10, \"datasets\\\\raw_data\\\\train\\\\226\\\\7eb6b\n",
    "a6a91006250.jpg\": 9, \"datasets\\\\raw_data\\\\train\\\\226\\\\823854f962e3d149.jpg\": 9, \"datasets\\\\raw_data\\\\train\\\\226\\\\86750af03d196f67.jpg\": 3, \"datasets\\\\raw_data\\\\train\n",
    "\\\\226\\\\886d9d608c1bce26.jpg\": 8, \"datasets\\\\raw_data\\\\train\\\\226\\\\8b3e6f78a99bc85d.jpg\": 8, \"datasets\\\\raw_data\\\\train\\\\226\\\\8ef662c2a15193ce.jpg\": 9, \"datasets\\\\raw\n",
    "_data\\\\train\\\\226\\\\90ef8a8e41ed094f.jpg\": 8, \"datasets\\\\raw_data\\\\train\\\\226\\\\91edd97d26916320.jpg\": 10, \"datasets\\\\raw_data\\\\train\\\\226\\\\94f1c0f48cad29d7.jpg\": 6, \"\n",
    "datasets\\\\raw_data\\\\train\\\\226\\\\9cab3259e02369e7.jpg\": 10, \"datasets\\\\raw_data\\\\train\\\\226\\\\a4807055aae919de.jpg\": 9, \"datasets\\\\raw_data\\\\train\\\\226\\\\a77ba826a7e833\n",
    "9f.jpg\": 4, \"datasets\\\\raw_data\\\\train\\\\226\\\\a8c06b77fcc1be4b.jpg\": 7, \"datasets\\\\raw_data\\\\train\\\\226\\\\aa1a76b75f866f1c.jpg\": 9, \"datasets\\\\raw_data\\\\train\\\\226\\\\b0\n",
    "595f9a546dc27b.jpg\": 8, \"datasets\\\\raw_data\\\\train\\\\226\\\\b16928f55e289939.jpg\": 0, \"datasets\\\\raw_data\\\\train\\\\226\\\\b3a0bb02966fc32d.jpg\": 9, \"datasets\\\\raw_data\\\\tr\n",
    "ain\\\\226\\\\b79a1d77983b9857.jpg\": 10, \"datasets\\\\raw_data\\\\train\\\\226\\\\b8c61224bedca1e3.jpg\": 6, \"datasets\\\\raw_data\\\\train\\\\226\\\\bb1e7758db2fdad9.jpg\": 8, \"datasets\\\n",
    "\\raw_data\\\\train\\\\226\\\\bc369ebf4eb902f3.jpg\": 8, \"datasets\\\\raw_data\\\\train\\\\226\\\\bc9b91b67f5db2ed.jpg\": 10, \"datasets\\\\raw_data\\\\train\\\\226\\\\bf78b84eabf68f0d.jpg\":\n",
    "9, \"datasets\\\\raw_data\\\\train\\\\226\\\\bff583599474190f.jpg\": 9, \"datasets\\\\raw_data\\\\train\\\\226\\\\c22d9f58221e53f6.jpg\": 8, \"datasets\\\\raw_data\\\\train\\\\226\\\\c26a040997d\n",
    "8e070.jpg\": 9, \"datasets\\\\raw_data\\\\train\\\\226\\\\c3fd9c0ac4cf9262.jpg\": 5, \"datasets\\\\raw_data\\\\train\\\\226\\\\cd9178c662563728.jpg\": 0, \"datasets\\\\raw_data\\\\train\\\\226\\\n",
    "\\d19f95dc48a03457.jpg\": 8, \"datasets\\\\raw_data\\\\train\\\\226\\\\d1d5c81319162c28.jpg\": 7, \"datasets\\\\raw_data\\\\train\\\\226\\\\d2e359a1c99033c2.jpg\": 5, \"datasets\\\\raw_data\\\n",
    "\\train\\\\226\\\\d5c0a033c2935307.jpg\": 4, \"datasets\\\\raw_data\\\\train\\\\226\\\\dd14d53e1b2fc558.jpg\": 6, \"datasets\\\\raw_data\\\\train\\\\226\\\\e09c9c3ba3653297.jpg\": 7, \"dataset\n",
    "s\\\\raw_data\\\\train\\\\226\\\\e579cebc412c1474.jpg\": 6, \"datasets\\\\raw_data\\\\train\\\\226\\\\ee365fa9830b7381.jpg\": 7, \"datasets\\\\raw_data\\\\train\\\\226\\\\f1c0d0efb7eedc7b.jpg\":\n",
    " 8, \"datasets\\\\raw_data\\\\train\\\\226\\\\f2958e319c6907b6.jpg\": 9, \"datasets\\\\raw_data\\\\train\\\\226\\\\f9a4a64c43277682.jpg\": 9, \"datasets\\\\raw_data\\\\train\\\\226\\\\fa19deded1\n",
    "0e3ea9.jpg\": 10, \"datasets\\\\raw_data\\\\train\\\\226\\\\fac69b6458073607.jpg\": 3, \"datasets\\\\raw_data\\\\train\\\\226\\\\fb051aa2d6e53b82.jpg\": 8}"
   ]
  },
  {
   "cell_type": "code",
   "execution_count": 1,
   "metadata": {},
   "outputs": [
    {
     "ename": "SyntaxError",
     "evalue": "invalid syntax (<string>, line 1)",
     "output_type": "error",
     "traceback": [
      "Traceback \u001b[1;36m(most recent call last)\u001b[0m:\n",
      "  File \u001b[0;32m\"c:\\users\\adrsi\\appdata\\local\\programs\\python\\python37\\lib\\site-packages\\IPython\\core\\interactiveshell.py\"\u001b[0m, line \u001b[0;32m3331\u001b[0m, in \u001b[0;35mrun_code\u001b[0m\n    exec(code_obj, self.user_global_ns, self.user_ns)\n",
      "\u001b[1;36m  File \u001b[1;32m\"<ipython-input-1-6c83f445914f>\"\u001b[1;36m, line \u001b[1;32m3\u001b[1;36m, in \u001b[1;35m<module>\u001b[1;36m\u001b[0m\n\u001b[1;33m    contents = eval(file.read())\u001b[0m\n",
      "\u001b[1;36m  File \u001b[1;32m\"<string>\"\u001b[1;36m, line \u001b[1;32m1\u001b[0m\n\u001b[1;33m    {0: [{'scores': <tf.Tensor: shape=(170, 1), dtype=float32, numpy=\u001b[0m\n\u001b[1;37m                    ^\u001b[0m\n\u001b[1;31mSyntaxError\u001b[0m\u001b[1;31m:\u001b[0m invalid syntax\n"
     ]
    }
   ],
   "source": [
    "import ast\n",
    "file = open(\"landmark_ids_images_delf_features_dict.txt\", \"r\")\n",
    "contents = eval(file.read())\n",
    "file.close()"
   ]
  },
  {
   "cell_type": "code",
   "execution_count": 3,
   "metadata": {},
   "outputs": [
    {
     "name": "stderr",
     "output_type": "stream",
     "text": [
      "c:\\users\\adrsi\\appdata\\local\\programs\\python\\python37\\lib\\site-packages\\ipykernel_launcher.py:3: YAMLLoadWarning: calling yaml.load() without Loader=... is deprecated, as the default Loader is unsafe. Please read https://msg.pyyaml.org/load for full details.\n",
      "  This is separate from the ipykernel package so we can avoid doing imports until\n"
     ]
    },
    {
     "ename": "ParserError",
     "evalue": "while parsing a flow mapping\n  in \"landmark_ids_images_delf_features_dict.txt\", line 1, column 6\nexpected ',' or '}', but got ':'\n  in \"landmark_ids_images_delf_features_dict.txt\", line 1, column 27",
     "output_type": "error",
     "traceback": [
      "\u001b[1;31m---------------------------------------------------------------------------\u001b[0m",
      "\u001b[1;31mParserError\u001b[0m                               Traceback (most recent call last)",
      "\u001b[1;32m<ipython-input-3-69ba33b1ea9d>\u001b[0m in \u001b[0;36m<module>\u001b[1;34m\u001b[0m\n\u001b[0;32m      1\u001b[0m \u001b[1;32mimport\u001b[0m \u001b[0myaml\u001b[0m\u001b[1;33m\u001b[0m\u001b[1;33m\u001b[0m\u001b[0m\n\u001b[0;32m      2\u001b[0m \u001b[0mfile\u001b[0m \u001b[1;33m=\u001b[0m \u001b[0mopen\u001b[0m\u001b[1;33m(\u001b[0m\u001b[1;34m\"landmark_ids_images_delf_features_dict.txt\"\u001b[0m\u001b[1;33m,\u001b[0m \u001b[1;34m\"r\"\u001b[0m\u001b[1;33m)\u001b[0m\u001b[1;33m\u001b[0m\u001b[1;33m\u001b[0m\u001b[0m\n\u001b[1;32m----> 3\u001b[1;33m \u001b[0mcontents\u001b[0m \u001b[1;33m=\u001b[0m \u001b[0myaml\u001b[0m\u001b[1;33m.\u001b[0m\u001b[0mload\u001b[0m\u001b[1;33m(\u001b[0m\u001b[0mfile\u001b[0m\u001b[1;33m)\u001b[0m\u001b[1;33m\u001b[0m\u001b[1;33m\u001b[0m\u001b[0m\n\u001b[0m\u001b[0;32m      4\u001b[0m \u001b[0mfile\u001b[0m\u001b[1;33m.\u001b[0m\u001b[0mclose\u001b[0m\u001b[1;33m(\u001b[0m\u001b[1;33m)\u001b[0m\u001b[1;33m\u001b[0m\u001b[1;33m\u001b[0m\u001b[0m\n",
      "\u001b[1;32mc:\\users\\adrsi\\appdata\\local\\programs\\python\\python37\\lib\\site-packages\\yaml\\__init__.py\u001b[0m in \u001b[0;36mload\u001b[1;34m(stream, Loader)\u001b[0m\n\u001b[0;32m    112\u001b[0m     \u001b[0mloader\u001b[0m \u001b[1;33m=\u001b[0m \u001b[0mLoader\u001b[0m\u001b[1;33m(\u001b[0m\u001b[0mstream\u001b[0m\u001b[1;33m)\u001b[0m\u001b[1;33m\u001b[0m\u001b[1;33m\u001b[0m\u001b[0m\n\u001b[0;32m    113\u001b[0m     \u001b[1;32mtry\u001b[0m\u001b[1;33m:\u001b[0m\u001b[1;33m\u001b[0m\u001b[1;33m\u001b[0m\u001b[0m\n\u001b[1;32m--> 114\u001b[1;33m         \u001b[1;32mreturn\u001b[0m \u001b[0mloader\u001b[0m\u001b[1;33m.\u001b[0m\u001b[0mget_single_data\u001b[0m\u001b[1;33m(\u001b[0m\u001b[1;33m)\u001b[0m\u001b[1;33m\u001b[0m\u001b[1;33m\u001b[0m\u001b[0m\n\u001b[0m\u001b[0;32m    115\u001b[0m     \u001b[1;32mfinally\u001b[0m\u001b[1;33m:\u001b[0m\u001b[1;33m\u001b[0m\u001b[1;33m\u001b[0m\u001b[0m\n\u001b[0;32m    116\u001b[0m         \u001b[0mloader\u001b[0m\u001b[1;33m.\u001b[0m\u001b[0mdispose\u001b[0m\u001b[1;33m(\u001b[0m\u001b[1;33m)\u001b[0m\u001b[1;33m\u001b[0m\u001b[1;33m\u001b[0m\u001b[0m\n",
      "\u001b[1;32mc:\\users\\adrsi\\appdata\\local\\programs\\python\\python37\\lib\\site-packages\\yaml\\constructor.py\u001b[0m in \u001b[0;36mget_single_data\u001b[1;34m(self)\u001b[0m\n\u001b[0;32m     47\u001b[0m     \u001b[1;32mdef\u001b[0m \u001b[0mget_single_data\u001b[0m\u001b[1;33m(\u001b[0m\u001b[0mself\u001b[0m\u001b[1;33m)\u001b[0m\u001b[1;33m:\u001b[0m\u001b[1;33m\u001b[0m\u001b[1;33m\u001b[0m\u001b[0m\n\u001b[0;32m     48\u001b[0m         \u001b[1;31m# Ensure that the stream contains a single document and construct it.\u001b[0m\u001b[1;33m\u001b[0m\u001b[1;33m\u001b[0m\u001b[1;33m\u001b[0m\u001b[0m\n\u001b[1;32m---> 49\u001b[1;33m         \u001b[0mnode\u001b[0m \u001b[1;33m=\u001b[0m \u001b[0mself\u001b[0m\u001b[1;33m.\u001b[0m\u001b[0mget_single_node\u001b[0m\u001b[1;33m(\u001b[0m\u001b[1;33m)\u001b[0m\u001b[1;33m\u001b[0m\u001b[1;33m\u001b[0m\u001b[0m\n\u001b[0m\u001b[0;32m     50\u001b[0m         \u001b[1;32mif\u001b[0m \u001b[0mnode\u001b[0m \u001b[1;32mis\u001b[0m \u001b[1;32mnot\u001b[0m \u001b[1;32mNone\u001b[0m\u001b[1;33m:\u001b[0m\u001b[1;33m\u001b[0m\u001b[1;33m\u001b[0m\u001b[0m\n\u001b[0;32m     51\u001b[0m             \u001b[1;32mreturn\u001b[0m \u001b[0mself\u001b[0m\u001b[1;33m.\u001b[0m\u001b[0mconstruct_document\u001b[0m\u001b[1;33m(\u001b[0m\u001b[0mnode\u001b[0m\u001b[1;33m)\u001b[0m\u001b[1;33m\u001b[0m\u001b[1;33m\u001b[0m\u001b[0m\n",
      "\u001b[1;32mc:\\users\\adrsi\\appdata\\local\\programs\\python\\python37\\lib\\site-packages\\yaml\\composer.py\u001b[0m in \u001b[0;36mget_single_node\u001b[1;34m(self)\u001b[0m\n\u001b[0;32m     34\u001b[0m         \u001b[0mdocument\u001b[0m \u001b[1;33m=\u001b[0m \u001b[1;32mNone\u001b[0m\u001b[1;33m\u001b[0m\u001b[1;33m\u001b[0m\u001b[0m\n\u001b[0;32m     35\u001b[0m         \u001b[1;32mif\u001b[0m \u001b[1;32mnot\u001b[0m \u001b[0mself\u001b[0m\u001b[1;33m.\u001b[0m\u001b[0mcheck_event\u001b[0m\u001b[1;33m(\u001b[0m\u001b[0mStreamEndEvent\u001b[0m\u001b[1;33m)\u001b[0m\u001b[1;33m:\u001b[0m\u001b[1;33m\u001b[0m\u001b[1;33m\u001b[0m\u001b[0m\n\u001b[1;32m---> 36\u001b[1;33m             \u001b[0mdocument\u001b[0m \u001b[1;33m=\u001b[0m \u001b[0mself\u001b[0m\u001b[1;33m.\u001b[0m\u001b[0mcompose_document\u001b[0m\u001b[1;33m(\u001b[0m\u001b[1;33m)\u001b[0m\u001b[1;33m\u001b[0m\u001b[1;33m\u001b[0m\u001b[0m\n\u001b[0m\u001b[0;32m     37\u001b[0m \u001b[1;33m\u001b[0m\u001b[0m\n\u001b[0;32m     38\u001b[0m         \u001b[1;31m# Ensure that the stream contains no more documents.\u001b[0m\u001b[1;33m\u001b[0m\u001b[1;33m\u001b[0m\u001b[1;33m\u001b[0m\u001b[0m\n",
      "\u001b[1;32mc:\\users\\adrsi\\appdata\\local\\programs\\python\\python37\\lib\\site-packages\\yaml\\composer.py\u001b[0m in \u001b[0;36mcompose_document\u001b[1;34m(self)\u001b[0m\n\u001b[0;32m     53\u001b[0m \u001b[1;33m\u001b[0m\u001b[0m\n\u001b[0;32m     54\u001b[0m         \u001b[1;31m# Compose the root node.\u001b[0m\u001b[1;33m\u001b[0m\u001b[1;33m\u001b[0m\u001b[1;33m\u001b[0m\u001b[0m\n\u001b[1;32m---> 55\u001b[1;33m         \u001b[0mnode\u001b[0m \u001b[1;33m=\u001b[0m \u001b[0mself\u001b[0m\u001b[1;33m.\u001b[0m\u001b[0mcompose_node\u001b[0m\u001b[1;33m(\u001b[0m\u001b[1;32mNone\u001b[0m\u001b[1;33m,\u001b[0m \u001b[1;32mNone\u001b[0m\u001b[1;33m)\u001b[0m\u001b[1;33m\u001b[0m\u001b[1;33m\u001b[0m\u001b[0m\n\u001b[0m\u001b[0;32m     56\u001b[0m \u001b[1;33m\u001b[0m\u001b[0m\n\u001b[0;32m     57\u001b[0m         \u001b[1;31m# Drop the DOCUMENT-END event.\u001b[0m\u001b[1;33m\u001b[0m\u001b[1;33m\u001b[0m\u001b[1;33m\u001b[0m\u001b[0m\n",
      "\u001b[1;32mc:\\users\\adrsi\\appdata\\local\\programs\\python\\python37\\lib\\site-packages\\yaml\\composer.py\u001b[0m in \u001b[0;36mcompose_node\u001b[1;34m(self, parent, index)\u001b[0m\n\u001b[0;32m     82\u001b[0m             \u001b[0mnode\u001b[0m \u001b[1;33m=\u001b[0m \u001b[0mself\u001b[0m\u001b[1;33m.\u001b[0m\u001b[0mcompose_sequence_node\u001b[0m\u001b[1;33m(\u001b[0m\u001b[0manchor\u001b[0m\u001b[1;33m)\u001b[0m\u001b[1;33m\u001b[0m\u001b[1;33m\u001b[0m\u001b[0m\n\u001b[0;32m     83\u001b[0m         \u001b[1;32melif\u001b[0m \u001b[0mself\u001b[0m\u001b[1;33m.\u001b[0m\u001b[0mcheck_event\u001b[0m\u001b[1;33m(\u001b[0m\u001b[0mMappingStartEvent\u001b[0m\u001b[1;33m)\u001b[0m\u001b[1;33m:\u001b[0m\u001b[1;33m\u001b[0m\u001b[1;33m\u001b[0m\u001b[0m\n\u001b[1;32m---> 84\u001b[1;33m             \u001b[0mnode\u001b[0m \u001b[1;33m=\u001b[0m \u001b[0mself\u001b[0m\u001b[1;33m.\u001b[0m\u001b[0mcompose_mapping_node\u001b[0m\u001b[1;33m(\u001b[0m\u001b[0manchor\u001b[0m\u001b[1;33m)\u001b[0m\u001b[1;33m\u001b[0m\u001b[1;33m\u001b[0m\u001b[0m\n\u001b[0m\u001b[0;32m     85\u001b[0m         \u001b[0mself\u001b[0m\u001b[1;33m.\u001b[0m\u001b[0mascend_resolver\u001b[0m\u001b[1;33m(\u001b[0m\u001b[1;33m)\u001b[0m\u001b[1;33m\u001b[0m\u001b[1;33m\u001b[0m\u001b[0m\n\u001b[0;32m     86\u001b[0m         \u001b[1;32mreturn\u001b[0m \u001b[0mnode\u001b[0m\u001b[1;33m\u001b[0m\u001b[1;33m\u001b[0m\u001b[0m\n",
      "\u001b[1;32mc:\\users\\adrsi\\appdata\\local\\programs\\python\\python37\\lib\\site-packages\\yaml\\composer.py\u001b[0m in \u001b[0;36mcompose_mapping_node\u001b[1;34m(self, anchor)\u001b[0m\n\u001b[0;32m    131\u001b[0m             \u001b[1;31m#    raise ComposerError(\"while composing a mapping\", start_event.start_mark,\u001b[0m\u001b[1;33m\u001b[0m\u001b[1;33m\u001b[0m\u001b[1;33m\u001b[0m\u001b[0m\n\u001b[0;32m    132\u001b[0m             \u001b[1;31m#            \"found duplicate key\", key_event.start_mark)\u001b[0m\u001b[1;33m\u001b[0m\u001b[1;33m\u001b[0m\u001b[1;33m\u001b[0m\u001b[0m\n\u001b[1;32m--> 133\u001b[1;33m             \u001b[0mitem_value\u001b[0m \u001b[1;33m=\u001b[0m \u001b[0mself\u001b[0m\u001b[1;33m.\u001b[0m\u001b[0mcompose_node\u001b[0m\u001b[1;33m(\u001b[0m\u001b[0mnode\u001b[0m\u001b[1;33m,\u001b[0m \u001b[0mitem_key\u001b[0m\u001b[1;33m)\u001b[0m\u001b[1;33m\u001b[0m\u001b[1;33m\u001b[0m\u001b[0m\n\u001b[0m\u001b[0;32m    134\u001b[0m             \u001b[1;31m#node.value[item_key] = item_value\u001b[0m\u001b[1;33m\u001b[0m\u001b[1;33m\u001b[0m\u001b[1;33m\u001b[0m\u001b[0m\n\u001b[0;32m    135\u001b[0m             \u001b[0mnode\u001b[0m\u001b[1;33m.\u001b[0m\u001b[0mvalue\u001b[0m\u001b[1;33m.\u001b[0m\u001b[0mappend\u001b[0m\u001b[1;33m(\u001b[0m\u001b[1;33m(\u001b[0m\u001b[0mitem_key\u001b[0m\u001b[1;33m,\u001b[0m \u001b[0mitem_value\u001b[0m\u001b[1;33m)\u001b[0m\u001b[1;33m)\u001b[0m\u001b[1;33m\u001b[0m\u001b[1;33m\u001b[0m\u001b[0m\n",
      "\u001b[1;32mc:\\users\\adrsi\\appdata\\local\\programs\\python\\python37\\lib\\site-packages\\yaml\\composer.py\u001b[0m in \u001b[0;36mcompose_node\u001b[1;34m(self, parent, index)\u001b[0m\n\u001b[0;32m     80\u001b[0m             \u001b[0mnode\u001b[0m \u001b[1;33m=\u001b[0m \u001b[0mself\u001b[0m\u001b[1;33m.\u001b[0m\u001b[0mcompose_scalar_node\u001b[0m\u001b[1;33m(\u001b[0m\u001b[0manchor\u001b[0m\u001b[1;33m)\u001b[0m\u001b[1;33m\u001b[0m\u001b[1;33m\u001b[0m\u001b[0m\n\u001b[0;32m     81\u001b[0m         \u001b[1;32melif\u001b[0m \u001b[0mself\u001b[0m\u001b[1;33m.\u001b[0m\u001b[0mcheck_event\u001b[0m\u001b[1;33m(\u001b[0m\u001b[0mSequenceStartEvent\u001b[0m\u001b[1;33m)\u001b[0m\u001b[1;33m:\u001b[0m\u001b[1;33m\u001b[0m\u001b[1;33m\u001b[0m\u001b[0m\n\u001b[1;32m---> 82\u001b[1;33m             \u001b[0mnode\u001b[0m \u001b[1;33m=\u001b[0m \u001b[0mself\u001b[0m\u001b[1;33m.\u001b[0m\u001b[0mcompose_sequence_node\u001b[0m\u001b[1;33m(\u001b[0m\u001b[0manchor\u001b[0m\u001b[1;33m)\u001b[0m\u001b[1;33m\u001b[0m\u001b[1;33m\u001b[0m\u001b[0m\n\u001b[0m\u001b[0;32m     83\u001b[0m         \u001b[1;32melif\u001b[0m \u001b[0mself\u001b[0m\u001b[1;33m.\u001b[0m\u001b[0mcheck_event\u001b[0m\u001b[1;33m(\u001b[0m\u001b[0mMappingStartEvent\u001b[0m\u001b[1;33m)\u001b[0m\u001b[1;33m:\u001b[0m\u001b[1;33m\u001b[0m\u001b[1;33m\u001b[0m\u001b[0m\n\u001b[0;32m     84\u001b[0m             \u001b[0mnode\u001b[0m \u001b[1;33m=\u001b[0m \u001b[0mself\u001b[0m\u001b[1;33m.\u001b[0m\u001b[0mcompose_mapping_node\u001b[0m\u001b[1;33m(\u001b[0m\u001b[0manchor\u001b[0m\u001b[1;33m)\u001b[0m\u001b[1;33m\u001b[0m\u001b[1;33m\u001b[0m\u001b[0m\n",
      "\u001b[1;32mc:\\users\\adrsi\\appdata\\local\\programs\\python\\python37\\lib\\site-packages\\yaml\\composer.py\u001b[0m in \u001b[0;36mcompose_sequence_node\u001b[1;34m(self, anchor)\u001b[0m\n\u001b[0;32m    109\u001b[0m         \u001b[0mindex\u001b[0m \u001b[1;33m=\u001b[0m \u001b[1;36m0\u001b[0m\u001b[1;33m\u001b[0m\u001b[1;33m\u001b[0m\u001b[0m\n\u001b[0;32m    110\u001b[0m         \u001b[1;32mwhile\u001b[0m \u001b[1;32mnot\u001b[0m \u001b[0mself\u001b[0m\u001b[1;33m.\u001b[0m\u001b[0mcheck_event\u001b[0m\u001b[1;33m(\u001b[0m\u001b[0mSequenceEndEvent\u001b[0m\u001b[1;33m)\u001b[0m\u001b[1;33m:\u001b[0m\u001b[1;33m\u001b[0m\u001b[1;33m\u001b[0m\u001b[0m\n\u001b[1;32m--> 111\u001b[1;33m             \u001b[0mnode\u001b[0m\u001b[1;33m.\u001b[0m\u001b[0mvalue\u001b[0m\u001b[1;33m.\u001b[0m\u001b[0mappend\u001b[0m\u001b[1;33m(\u001b[0m\u001b[0mself\u001b[0m\u001b[1;33m.\u001b[0m\u001b[0mcompose_node\u001b[0m\u001b[1;33m(\u001b[0m\u001b[0mnode\u001b[0m\u001b[1;33m,\u001b[0m \u001b[0mindex\u001b[0m\u001b[1;33m)\u001b[0m\u001b[1;33m)\u001b[0m\u001b[1;33m\u001b[0m\u001b[1;33m\u001b[0m\u001b[0m\n\u001b[0m\u001b[0;32m    112\u001b[0m             \u001b[0mindex\u001b[0m \u001b[1;33m+=\u001b[0m \u001b[1;36m1\u001b[0m\u001b[1;33m\u001b[0m\u001b[1;33m\u001b[0m\u001b[0m\n\u001b[0;32m    113\u001b[0m         \u001b[0mend_event\u001b[0m \u001b[1;33m=\u001b[0m \u001b[0mself\u001b[0m\u001b[1;33m.\u001b[0m\u001b[0mget_event\u001b[0m\u001b[1;33m(\u001b[0m\u001b[1;33m)\u001b[0m\u001b[1;33m\u001b[0m\u001b[1;33m\u001b[0m\u001b[0m\n",
      "\u001b[1;32mc:\\users\\adrsi\\appdata\\local\\programs\\python\\python37\\lib\\site-packages\\yaml\\composer.py\u001b[0m in \u001b[0;36mcompose_node\u001b[1;34m(self, parent, index)\u001b[0m\n\u001b[0;32m     82\u001b[0m             \u001b[0mnode\u001b[0m \u001b[1;33m=\u001b[0m \u001b[0mself\u001b[0m\u001b[1;33m.\u001b[0m\u001b[0mcompose_sequence_node\u001b[0m\u001b[1;33m(\u001b[0m\u001b[0manchor\u001b[0m\u001b[1;33m)\u001b[0m\u001b[1;33m\u001b[0m\u001b[1;33m\u001b[0m\u001b[0m\n\u001b[0;32m     83\u001b[0m         \u001b[1;32melif\u001b[0m \u001b[0mself\u001b[0m\u001b[1;33m.\u001b[0m\u001b[0mcheck_event\u001b[0m\u001b[1;33m(\u001b[0m\u001b[0mMappingStartEvent\u001b[0m\u001b[1;33m)\u001b[0m\u001b[1;33m:\u001b[0m\u001b[1;33m\u001b[0m\u001b[1;33m\u001b[0m\u001b[0m\n\u001b[1;32m---> 84\u001b[1;33m             \u001b[0mnode\u001b[0m \u001b[1;33m=\u001b[0m \u001b[0mself\u001b[0m\u001b[1;33m.\u001b[0m\u001b[0mcompose_mapping_node\u001b[0m\u001b[1;33m(\u001b[0m\u001b[0manchor\u001b[0m\u001b[1;33m)\u001b[0m\u001b[1;33m\u001b[0m\u001b[1;33m\u001b[0m\u001b[0m\n\u001b[0m\u001b[0;32m     85\u001b[0m         \u001b[0mself\u001b[0m\u001b[1;33m.\u001b[0m\u001b[0mascend_resolver\u001b[0m\u001b[1;33m(\u001b[0m\u001b[1;33m)\u001b[0m\u001b[1;33m\u001b[0m\u001b[1;33m\u001b[0m\u001b[0m\n\u001b[0;32m     86\u001b[0m         \u001b[1;32mreturn\u001b[0m \u001b[0mnode\u001b[0m\u001b[1;33m\u001b[0m\u001b[1;33m\u001b[0m\u001b[0m\n",
      "\u001b[1;32mc:\\users\\adrsi\\appdata\\local\\programs\\python\\python37\\lib\\site-packages\\yaml\\composer.py\u001b[0m in \u001b[0;36mcompose_mapping_node\u001b[1;34m(self, anchor)\u001b[0m\n\u001b[0;32m    125\u001b[0m         \u001b[1;32mif\u001b[0m \u001b[0manchor\u001b[0m \u001b[1;32mis\u001b[0m \u001b[1;32mnot\u001b[0m \u001b[1;32mNone\u001b[0m\u001b[1;33m:\u001b[0m\u001b[1;33m\u001b[0m\u001b[1;33m\u001b[0m\u001b[0m\n\u001b[0;32m    126\u001b[0m             \u001b[0mself\u001b[0m\u001b[1;33m.\u001b[0m\u001b[0manchors\u001b[0m\u001b[1;33m[\u001b[0m\u001b[0manchor\u001b[0m\u001b[1;33m]\u001b[0m \u001b[1;33m=\u001b[0m \u001b[0mnode\u001b[0m\u001b[1;33m\u001b[0m\u001b[1;33m\u001b[0m\u001b[0m\n\u001b[1;32m--> 127\u001b[1;33m         \u001b[1;32mwhile\u001b[0m \u001b[1;32mnot\u001b[0m \u001b[0mself\u001b[0m\u001b[1;33m.\u001b[0m\u001b[0mcheck_event\u001b[0m\u001b[1;33m(\u001b[0m\u001b[0mMappingEndEvent\u001b[0m\u001b[1;33m)\u001b[0m\u001b[1;33m:\u001b[0m\u001b[1;33m\u001b[0m\u001b[1;33m\u001b[0m\u001b[0m\n\u001b[0m\u001b[0;32m    128\u001b[0m             \u001b[1;31m#key_event = self.peek_event()\u001b[0m\u001b[1;33m\u001b[0m\u001b[1;33m\u001b[0m\u001b[1;33m\u001b[0m\u001b[0m\n\u001b[0;32m    129\u001b[0m             \u001b[0mitem_key\u001b[0m \u001b[1;33m=\u001b[0m \u001b[0mself\u001b[0m\u001b[1;33m.\u001b[0m\u001b[0mcompose_node\u001b[0m\u001b[1;33m(\u001b[0m\u001b[0mnode\u001b[0m\u001b[1;33m,\u001b[0m \u001b[1;32mNone\u001b[0m\u001b[1;33m)\u001b[0m\u001b[1;33m\u001b[0m\u001b[1;33m\u001b[0m\u001b[0m\n",
      "\u001b[1;32mc:\\users\\adrsi\\appdata\\local\\programs\\python\\python37\\lib\\site-packages\\yaml\\parser.py\u001b[0m in \u001b[0;36mcheck_event\u001b[1;34m(self, *choices)\u001b[0m\n\u001b[0;32m     96\u001b[0m         \u001b[1;32mif\u001b[0m \u001b[0mself\u001b[0m\u001b[1;33m.\u001b[0m\u001b[0mcurrent_event\u001b[0m \u001b[1;32mis\u001b[0m \u001b[1;32mNone\u001b[0m\u001b[1;33m:\u001b[0m\u001b[1;33m\u001b[0m\u001b[1;33m\u001b[0m\u001b[0m\n\u001b[0;32m     97\u001b[0m             \u001b[1;32mif\u001b[0m \u001b[0mself\u001b[0m\u001b[1;33m.\u001b[0m\u001b[0mstate\u001b[0m\u001b[1;33m:\u001b[0m\u001b[1;33m\u001b[0m\u001b[1;33m\u001b[0m\u001b[0m\n\u001b[1;32m---> 98\u001b[1;33m                 \u001b[0mself\u001b[0m\u001b[1;33m.\u001b[0m\u001b[0mcurrent_event\u001b[0m \u001b[1;33m=\u001b[0m \u001b[0mself\u001b[0m\u001b[1;33m.\u001b[0m\u001b[0mstate\u001b[0m\u001b[1;33m(\u001b[0m\u001b[1;33m)\u001b[0m\u001b[1;33m\u001b[0m\u001b[1;33m\u001b[0m\u001b[0m\n\u001b[0m\u001b[0;32m     99\u001b[0m         \u001b[1;32mif\u001b[0m \u001b[0mself\u001b[0m\u001b[1;33m.\u001b[0m\u001b[0mcurrent_event\u001b[0m \u001b[1;32mis\u001b[0m \u001b[1;32mnot\u001b[0m \u001b[1;32mNone\u001b[0m\u001b[1;33m:\u001b[0m\u001b[1;33m\u001b[0m\u001b[1;33m\u001b[0m\u001b[0m\n\u001b[0;32m    100\u001b[0m             \u001b[1;32mif\u001b[0m \u001b[1;32mnot\u001b[0m \u001b[0mchoices\u001b[0m\u001b[1;33m:\u001b[0m\u001b[1;33m\u001b[0m\u001b[1;33m\u001b[0m\u001b[0m\n",
      "\u001b[1;32mc:\\users\\adrsi\\appdata\\local\\programs\\python\\python37\\lib\\site-packages\\yaml\\parser.py\u001b[0m in \u001b[0;36mparse_flow_mapping_key\u001b[1;34m(self, first)\u001b[0m\n\u001b[0;32m    548\u001b[0m                     \u001b[0mtoken\u001b[0m \u001b[1;33m=\u001b[0m \u001b[0mself\u001b[0m\u001b[1;33m.\u001b[0m\u001b[0mpeek_token\u001b[0m\u001b[1;33m(\u001b[0m\u001b[1;33m)\u001b[0m\u001b[1;33m\u001b[0m\u001b[1;33m\u001b[0m\u001b[0m\n\u001b[0;32m    549\u001b[0m                     raise ParserError(\"while parsing a flow mapping\", self.marks[-1],\n\u001b[1;32m--> 550\u001b[1;33m                             \"expected ',' or '}', but got %r\" % token.id, token.start_mark)\n\u001b[0m\u001b[0;32m    551\u001b[0m             \u001b[1;32mif\u001b[0m \u001b[0mself\u001b[0m\u001b[1;33m.\u001b[0m\u001b[0mcheck_token\u001b[0m\u001b[1;33m(\u001b[0m\u001b[0mKeyToken\u001b[0m\u001b[1;33m)\u001b[0m\u001b[1;33m:\u001b[0m\u001b[1;33m\u001b[0m\u001b[1;33m\u001b[0m\u001b[0m\n\u001b[0;32m    552\u001b[0m                 \u001b[0mtoken\u001b[0m \u001b[1;33m=\u001b[0m \u001b[0mself\u001b[0m\u001b[1;33m.\u001b[0m\u001b[0mget_token\u001b[0m\u001b[1;33m(\u001b[0m\u001b[1;33m)\u001b[0m\u001b[1;33m\u001b[0m\u001b[1;33m\u001b[0m\u001b[0m\n",
      "\u001b[1;31mParserError\u001b[0m: while parsing a flow mapping\n  in \"landmark_ids_images_delf_features_dict.txt\", line 1, column 6\nexpected ',' or '}', but got ':'\n  in \"landmark_ids_images_delf_features_dict.txt\", line 1, column 27"
     ]
    }
   ],
   "source": [
    "import yaml\n",
    "file = open(\"landmark_ids_images_delf_features_dict.txt\", \"r\")\n",
    "contents = yaml.load(file)\n",
    "file.close()"
   ]
  },
  {
   "cell_type": "code",
   "execution_count": 1,
   "metadata": {},
   "outputs": [],
   "source": [
    "import pickle\n",
    "pickle_off = open(\"landmark_ids_images_delf_locations_descriptors_dict.pkl\",\"rb\")\n",
    "emp = pickle.load(pickle_off)"
   ]
  },
  {
   "cell_type": "code",
   "execution_count": 3,
   "metadata": {},
   "outputs": [
    {
     "name": "stdout",
     "output_type": "stream",
     "text": [
      "<class 'dict'>\n",
      "<class 'list'>\n",
      "<class 'dict'>\n",
      "dict_keys(['locations', 'descriptors'])\n",
      "[[180.99548  180.99548 ]\n",
      " [192.       192.      ]\n",
      " [192.         0.      ]\n",
      " [224.        96.      ]\n",
      " [192.         0.      ]\n",
      " [240.        32.      ]\n",
      " [192.        16.      ]\n",
      " [208.       240.      ]\n",
      " [ 45.255264  45.255264]\n",
      " [ 45.255272 158.39345 ]\n",
      " [240.        80.      ]\n",
      " [128.       192.      ]\n",
      " [112.        96.      ]\n",
      " [224.       192.      ]\n",
      " [240.       192.      ]\n",
      " [181.02109    0.      ]\n",
      " [135.76581  226.27635 ]\n",
      " [203.64871  203.64871 ]\n",
      " [224.        64.      ]\n",
      " [208.       208.      ]\n",
      " [112.       160.      ]\n",
      " [224.        32.      ]\n",
      " [ 48.       160.      ]\n",
      " [ 32.        32.      ]\n",
      " [192.        64.      ]\n",
      " [ 80.       144.      ]\n",
      " [112.       192.      ]\n",
      " [112.       240.      ]\n",
      " [208.       224.      ]\n",
      " [ 64.       192.      ]\n",
      " [ 90.49774  180.99548 ]\n",
      " [240.        96.      ]\n",
      " [240.       112.      ]\n",
      " [ 80.        16.      ]\n",
      " [192.       240.      ]\n",
      " [181.02109   22.627632]\n",
      " [176.         0.      ]\n",
      " [203.64871  226.27635 ]\n",
      " [192.        64.      ]\n",
      " [113.138176  90.51054 ]\n",
      " [ 22.627632  45.255272]\n",
      " [181.02107  226.27635 ]\n",
      " [128.       224.      ]\n",
      " [208.        48.      ]\n",
      " [ 64.        64.      ]\n",
      " [203.64871   45.255272]\n",
      " [192.        32.      ]\n",
      " [ 22.627632  22.627632]\n",
      " [ 64.        32.      ]\n",
      " [ 22.627632  90.51054 ]\n",
      " [176.       192.      ]\n",
      " [112.       176.      ]\n",
      " [160.         0.      ]]\n"
     ]
    }
   ],
   "source": [
    "landmark_id = 62798\n",
    "print(type(emp))\n",
    "# print(emp[landmark_id])\n",
    "print(type(emp[landmark_id]))\n",
    "print(type(emp[landmark_id][1]))\n",
    "print(emp[landmark_id][1].keys())\n",
    "print(emp[landmark_id][1]['locations'])"
   ]
  },
  {
   "cell_type": "markdown",
   "metadata": {},
   "source": [
    "<class 'dict'>\n",
    "<class 'list'>\n",
    "<class 'dict'>\n",
    "dict_keys(['locations', 'descriptors'])"
   ]
  },
  {
   "cell_type": "code",
   "execution_count": 4,
   "metadata": {},
   "outputs": [],
   "source": [
    "pickle_off.close()"
   ]
  },
  {
   "cell_type": "code",
   "execution_count": 4,
   "metadata": {},
   "outputs": [
    {
     "name": "stdout",
     "output_type": "stream",
     "text": [
      "time :  0.000997304916381836\n"
     ]
    }
   ],
   "source": [
    "import time\n",
    "start = time.time()\n",
    "for i in range(1,10000):\n",
    "    i = i+1\n",
    "print(\"te\")\n",
    "print(\"time : \", time.time()-start)"
   ]
  },
  {
   "cell_type": "code",
   "execution_count": 7,
   "metadata": {},
   "outputs": [
    {
     "name": "stdout",
     "output_type": "stream",
     "text": [
      "datasets\\0\\asdhgjaf.jpg\n",
      "<class 'str'>\n"
     ]
    }
   ],
   "source": [
    "import os\n",
    "a = 'datasets'\n",
    "b = '0'\n",
    "c = 'asdhgjaf'\n",
    "\n",
    "s = os.path.join(a,b,c + \".jpg\")\n",
    "\n",
    "print(s)\n",
    "print(type(s))"
   ]
  },
  {
   "cell_type": "code",
   "execution_count": 1,
   "metadata": {},
   "outputs": [
    {
     "ename": "AttributeError",
     "evalue": "'dict_keys' object has no attribute 'split'",
     "output_type": "error",
     "traceback": [
      "\u001b[1;31m---------------------------------------------------------------------------\u001b[0m",
      "\u001b[1;31mAttributeError\u001b[0m                            Traceback (most recent call last)",
      "\u001b[1;32m<ipython-input-1-3dde0e79f34b>\u001b[0m in \u001b[0;36m<module>\u001b[1;34m\u001b[0m\n\u001b[0;32m      1\u001b[0m \u001b[0mdict\u001b[0m \u001b[1;33m=\u001b[0m \u001b[1;33m{\u001b[0m\u001b[1;34m'datasets\\\\raw_data\\\\train\\\\0\\\\0ddc92c6353c019a.jpg'\u001b[0m\u001b[1;33m:\u001b[0m \u001b[1;36m0\u001b[0m\u001b[1;33m,\u001b[0m \u001b[1;34m'datasets\\\\raw_data\\\\train\\\\0\\\\2c8acb7c9958da08.jpg'\u001b[0m\u001b[1;33m:\u001b[0m \u001b[1;36m7\u001b[0m\u001b[1;33m,\u001b[0m \u001b[1;34m'datasets\\\\raw_data\\\\train\\\\0\\\\b5d8eb502833a58c.jpg'\u001b[0m\u001b[1;33m:\u001b[0m \u001b[1;36m5\u001b[0m\u001b[1;33m}\u001b[0m\u001b[1;33m\u001b[0m\u001b[1;33m\u001b[0m\u001b[0m\n\u001b[0;32m      2\u001b[0m \u001b[1;33m\u001b[0m\u001b[0m\n\u001b[1;32m----> 3\u001b[1;33m \u001b[0mdict\u001b[0m\u001b[1;33m.\u001b[0m\u001b[0mkeys\u001b[0m\u001b[1;33m(\u001b[0m\u001b[1;33m)\u001b[0m\u001b[1;33m.\u001b[0m\u001b[0msplit\u001b[0m\u001b[1;33m(\u001b[0m\u001b[1;34m\".jpg\"\u001b[0m\u001b[1;33m)\u001b[0m\u001b[1;33m\u001b[0m\u001b[1;33m\u001b[0m\u001b[0m\n\u001b[0m",
      "\u001b[1;31mAttributeError\u001b[0m: 'dict_keys' object has no attribute 'split'"
     ]
    }
   ],
   "source": [
    "dict = {'datasets\\\\raw_data\\\\train\\\\0\\\\0ddc92c6353c019a.jpg': 0, 'datasets\\\\raw_data\\\\train\\\\0\\\\2c8acb7c9958da08.jpg': 7, 'datasets\\\\raw_data\\\\train\\\\0\\\\b5d8eb502833a58c.jpg': 5}\n",
    "\n",
    "dict.keys().split(\".jpg\")"
   ]
  },
  {
   "cell_type": "code",
   "execution_count": 4,
   "metadata": {},
   "outputs": [
    {
     "name": "stdout",
     "output_type": "stream",
     "text": [
      "(0, 0)\n",
      "(0, 1)\n",
      "(0, 2)\n"
     ]
    }
   ],
   "source": [
    "indexes = [(0,0), (0,1), (0,2), (1,2)]\n",
    "for j in range(3):\n",
    "    if (0,j) in indexes or (j,0) in indexes:\n",
    "        print(indexes[j])"
   ]
  },
  {
   "cell_type": "code",
   "execution_count": 5,
   "metadata": {},
   "outputs": [
    {
     "data": {
      "text/plain": [
       "[1, 2, 3, 4, 5]"
      ]
     },
     "execution_count": 5,
     "metadata": {},
     "output_type": "execute_result"
    }
   ],
   "source": [
    "k = [1,2,3,4,5]\n",
    "k[:5]"
   ]
  },
  {
   "cell_type": "code",
   "execution_count": null,
   "metadata": {},
   "outputs": [],
   "source": []
  }
 ],
 "metadata": {
  "kernelspec": {
   "display_name": "Python 3",
   "language": "python",
   "name": "python3"
  },
  "language_info": {
   "codemirror_mode": {
    "name": "ipython",
    "version": 3
   },
   "file_extension": ".py",
   "mimetype": "text/x-python",
   "name": "python",
   "nbconvert_exporter": "python",
   "pygments_lexer": "ipython3",
   "version": "3.7.6"
  }
 },
 "nbformat": 4,
 "nbformat_minor": 4
}
