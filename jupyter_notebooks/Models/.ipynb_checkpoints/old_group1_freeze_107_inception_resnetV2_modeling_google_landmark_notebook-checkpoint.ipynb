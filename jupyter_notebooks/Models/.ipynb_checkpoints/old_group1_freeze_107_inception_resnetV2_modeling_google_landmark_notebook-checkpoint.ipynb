{
 "cells": [
  {
   "cell_type": "code",
   "execution_count": null,
   "metadata": {},
   "outputs": [],
   "source": [
    "import pandas as pd\n",
    "import os\n",
    "import matplotlib.pyplot as plt\n",
    "import numpy as np\n",
    "import tensorflow as tf\n",
    "import zipfile\n",
    "import matplotlib.image as mpimg\n",
    "from tensorflow.keras.preprocessing.image import ImageDataGenerator"
   ]
  },
  {
   "cell_type": "code",
   "execution_count": null,
   "metadata": {},
   "outputs": [],
   "source": [
    "tf.config.list_physical_devices('GPU')"
   ]
  },
  {
   "cell_type": "code",
   "execution_count": null,
   "metadata": {},
   "outputs": [],
   "source": [
    "Inception_ResNetV2_MODEL=tf.keras.applications.InceptionResNetV2(input_shape=(128,128,3),\n",
    "                                               include_top=False,\n",
    "                                               weights='imagenet')"
   ]
  },
  {
   "cell_type": "code",
   "execution_count": null,
   "metadata": {},
   "outputs": [],
   "source": [
    "Inception_ResNetV2_MODEL.layers[107].name"
   ]
  },
  {
   "cell_type": "code",
   "execution_count": null,
   "metadata": {},
   "outputs": [],
   "source": [
    "for layer in Inception_ResNetV2_MODEL.layers[:107]:\n",
    "    layer.trainable=False"
   ]
  },
  {
   "cell_type": "code",
   "execution_count": null,
   "metadata": {},
   "outputs": [],
   "source": [
    "Inception_ResNetV2_MODEL.summary()"
   ]
  },
  {
   "cell_type": "markdown",
   "metadata": {},
   "source": [
    "GROUP1 TRAINING"
   ]
  },
  {
   "cell_type": "code",
   "execution_count": null,
   "metadata": {},
   "outputs": [],
   "source": [
    "model_group1=tf.keras.models.Sequential([\n",
    "                                  Inception_ResNetV2_MODEL,\n",
    "                                  tf.keras.layers.GlobalAveragePooling2D(),\n",
    "                                  tf.keras.layers.Flatten(),\n",
    "                                  tf.keras.layers.Dense(2048, activation='relu'),\n",
    "                                  tf.keras.layers.Dropout(0.4, name='Dropout_Regularization'),\n",
    "                                  tf.keras.layers.Dense(9274, activation='softmax')\n",
    "])\n",
    "model_group1.summary()"
   ]
  },
  {
   "cell_type": "code",
   "execution_count": null,
   "metadata": {},
   "outputs": [],
   "source": [
    "!nvidia-smi"
   ]
  },
  {
   "cell_type": "code",
   "execution_count": null,
   "metadata": {
    "scrolled": true
   },
   "outputs": [],
   "source": [
    "optimizer = tf.keras.optimizers.Adam(learning_rate=0.00001)\n",
    "\n",
    "# Compiling\n",
    "model_group1.compile(optimizer=optimizer, loss='categorical_crossentropy', metrics=['acc'])\n",
    "\n",
    "data_dir = '../datasets/group1_set_128/set_128/train/'\n",
    "\n",
    "train_datagen_group1 = ImageDataGenerator(\n",
    "    rescale=1/255,\n",
    "    rotation_range=45,\n",
    "    width_shift_range=0.2,\n",
    "    height_shift_range=0.2,\n",
    "    shear_range=0.2,\n",
    "    zoom_range=0.2,\n",
    "    horizontal_flip=True,\n",
    "    fill_mode='nearest',\n",
    "    validation_split=0.4)\n",
    "\n",
    "#flow training images in batches of 256\n",
    "train_generator_group1 = train_datagen_group1.flow_from_directory(\n",
    "    data_dir,\n",
    "    target_size=(128,128),\n",
    "    batch_size=256,\n",
    "    class_mode='categorical',\n",
    "    subset='training'\n",
    ")"
   ]
  },
  {
   "cell_type": "code",
   "execution_count": null,
   "metadata": {},
   "outputs": [],
   "source": [
    "#flow validation images in batches of 256\n",
    "valid_generator_group1 = train_datagen_group1.flow_from_directory(\n",
    "    data_dir,\n",
    "    target_size=(128,128),\n",
    "    batch_size=256,\n",
    "    class_mode='categorical',\n",
    "    subset='validation'\n",
    ")"
   ]
  },
  {
   "cell_type": "code",
   "execution_count": null,
   "metadata": {},
   "outputs": [],
   "source": [
    "history_group1 = model_group1.fit_generator(\n",
    "    train_generator_group1,\n",
    "    validation_data = valid_generator_group1,\n",
    "    epochs = 100,\n",
    "    verbose=1\n",
    ")"
   ]
  },
  {
   "cell_type": "code",
   "execution_count": null,
   "metadata": {},
   "outputs": [],
   "source": [
    "acc_group1 = history_group1.history['acc']\n",
    "val_acc_group1 = history_group1.history['val_acc']\n",
    "loss_group1 = history_group1.history['loss']\n",
    "val_loss_group1 = history_group1.history['val_loss']\n",
    "epochs_group1 = range(len(acc))\n",
    "\n",
    "plt.plot(epochs_group1, acc_group1)\n",
    "plt.plot(epochs_group1, val_acc_group1)\n",
    "plt.title('Training  and Validation Accuracy')\n",
    "plt.figure()\n",
    "\n",
    "plt.plot(epochs_group1, loss_group1)\n",
    "plt.plot(epochs_group1, val_loss_group1)\n",
    "plt.title('Training and Validation Loss')\n",
    "plt.figure()"
   ]
  },
  {
   "cell_type": "code",
   "execution_count": null,
   "metadata": {},
   "outputs": [],
   "source": []
  }
 ],
 "metadata": {
  "kernelspec": {
   "display_name": "Python 3",
   "language": "python",
   "name": "python3"
  },
  "language_info": {
   "codemirror_mode": {
    "name": "ipython",
    "version": 3
   },
   "file_extension": ".py",
   "mimetype": "text/x-python",
   "name": "python",
   "nbconvert_exporter": "python",
   "pygments_lexer": "ipython3",
   "version": "3.7.6"
  }
 },
 "nbformat": 4,
 "nbformat_minor": 4
}
