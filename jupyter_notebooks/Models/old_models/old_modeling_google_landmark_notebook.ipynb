{
 "cells": [
  {
   "cell_type": "code",
   "execution_count": null,
   "metadata": {},
   "outputs": [],
   "source": [
    "!pwd"
   ]
  },
  {
   "cell_type": "code",
   "execution_count": 1,
   "metadata": {},
   "outputs": [],
   "source": [
    "import pandas as pd\n",
    "import os\n",
    "import shutil\n",
    "import cv2\n",
    "from multiprocessing import Pool\n",
    "import time\n",
    "import process_images_448_448\n",
    "import process_images_128_128\n",
    "import gc\n",
    "import matplotlib.pyplot as plt\n",
    "import numpy as np\n",
    "import pathlib\n",
    "import tensorflow as tf\n",
    "import PIL\n",
    "from PIL import Image\n",
    "import imageio\n",
    "import logging as log\n",
    "import tarfile\n",
    "import zipfile\n",
    "import matplotlib.pyplot as plt\n",
    "import matplotlib.image as mpimg"
   ]
  },
  {
   "cell_type": "code",
   "execution_count": null,
   "metadata": {},
   "outputs": [],
   "source": [
    "train_file_csv_df = pd.read_csv(\"train.csv\")"
   ]
  },
  {
   "cell_type": "code",
   "execution_count": null,
   "metadata": {},
   "outputs": [],
   "source": [
    "landmarks_greater_than_5_df = train_file_csv_df.landmark_id.value_counts().reset_index(name=\"count\").query('count>5')\n",
    "print(\"Sample of record in the train_file_csv_df dataframe : \\n\" + str(train_file_csv_df.head(1)))\n",
    "print(\"Total number of images in the training set : \" + str(train_file_csv_df['url'].count()))\n",
    "print(\"Total number of unique landmark_ids in the training dataset : \" + str(train_file_csv_df.landmark_id.value_counts()\n",
    "                                                                                 .reset_index(name=\"count\")[\"index\"].count()))\n",
    "print(\"Total number of landmarks with greater than 5 images in the dataset : \" + str(landmarks_greater_than_5_df[\"index\"].count()))"
   ]
  },
  {
   "cell_type": "code",
   "execution_count": null,
   "metadata": {},
   "outputs": [],
   "source": [
    "filtered_train_greater_than_5_df = train_file_csv_df[train_file_csv_df.landmark_id.isin(landmarks_greater_than_5_df['index'])]\n",
    "print(\"Total number of images for landmarks with image count of greater than 5 in the training set after filtering  : \" + str(filtered_train_greater_than_5_df[\"id\"].count()))\n",
    "print(filtered_train_greater_than_5_df.head(1))\n",
    "print(filtered_train_greater_than_5_df.iloc[1]['url'])"
   ]
  },
  {
   "cell_type": "code",
   "execution_count": null,
   "metadata": {},
   "outputs": [],
   "source": [
    "imageIds_landmarkIds_dict = filtered_train_greater_than_5_df.set_index('id')['landmark_id'].to_dict()\n",
    "len(imageIds_landmarkIds_dict)"
   ]
  },
  {
   "cell_type": "code",
   "execution_count": null,
   "metadata": {},
   "outputs": [],
   "source": [
    "# del train_file_csv_df\n",
    "gc.collect()"
   ]
  },
  {
   "cell_type": "code",
   "execution_count": null,
   "metadata": {},
   "outputs": [],
   "source": [
    "landmarkIds_counts_df = pd.DataFrame(filtered_train_greater_than_5_df.landmark_id.value_counts())\n",
    "landmarkIds_counts_df = landmarkIds_counts_df.rename(columns={'landmark_id':'counts'})\n",
    "landmarkIds_counts_df.reset_index(level=0, inplace=True)\n",
    "landmarkIds_counts_df = landmarkIds_counts_df.rename(columns={'index':'landmark_id'})\n",
    "landmarkIds_counts_df['landmark_id'] = landmarkIds_counts_df['landmark_id'].astype('str')\n",
    "print(len(landmarkIds_counts_df))\n",
    "landmarkIds_counts_dict = landmarkIds_counts_df.set_index('landmark_id')['counts'].to_dict()"
   ]
  },
  {
   "cell_type": "code",
   "execution_count": null,
   "metadata": {},
   "outputs": [],
   "source": [
    "landmarkIds_counts_df[:2]"
   ]
  },
  {
   "cell_type": "code",
   "execution_count": null,
   "metadata": {},
   "outputs": [],
   "source": [
    "plt.hist(landmarkIds_counts_df.counts[20000:100000])\n",
    "# plt.bar(df.landmark_id,df.counts)"
   ]
  },
  {
   "cell_type": "code",
   "execution_count": null,
   "metadata": {},
   "outputs": [],
   "source": [
    "# Now, filter out images where each landmark has only 500 or less images to prevent overfitting on larger set of landmark_ids.\n",
    "total_landmarks_less_than_100_count = landmarkIds_counts_df[landmarkIds_counts_df.counts<=100].count()\n",
    "total_landmarks_less_than_100_count"
   ]
  },
  {
   "cell_type": "code",
   "execution_count": null,
   "metadata": {},
   "outputs": [],
   "source": [
    "total_landmarks_less_than_10_count = landmarkIds_counts_df[landmarkIds_counts_df.counts<10]\n",
    "total_landmarks_less_than_10_count.count()"
   ]
  },
  {
   "cell_type": "code",
   "execution_count": null,
   "metadata": {},
   "outputs": [],
   "source": [
    "# total number of images where landmarks have less than 10 images\n",
    "total_images_less_than_10 = 0\n",
    "for item in total_landmarks_less_than_10_count.counts: \n",
    "    total_images_less_than_10 +=item\n",
    "total_images_less_than_10"
   ]
  },
  {
   "cell_type": "code",
   "execution_count": null,
   "metadata": {},
   "outputs": [],
   "source": [
    "greater_100 = landmarkIds_counts_df[landmarkIds_counts_df.counts>100]\n",
    "greater_100.count()"
   ]
  },
  {
   "cell_type": "code",
   "execution_count": null,
   "metadata": {},
   "outputs": [],
   "source": [
    "# Number of extra images over 100 for the landmarks where landmark has more than 100 images\n",
    "total_images_greater_than100 = 0\n",
    "for item in greater_100.counts:\n",
    "    diff = item-100\n",
    "    total_images_greater_than100 +=diff\n",
    "total_images_greater_than100"
   ]
  },
  {
   "cell_type": "code",
   "execution_count": null,
   "metadata": {},
   "outputs": [],
   "source": [
    "greater_than_10 = landmarkIds_counts_df[landmarkIds_counts_df.counts>=10]\n",
    "greater_than_10.count()"
   ]
  },
  {
   "cell_type": "code",
   "execution_count": null,
   "metadata": {},
   "outputs": [],
   "source": [
    "total_number_of_images_100orless = 0\n",
    "for item in greater_than_10.counts:\n",
    "    if item>100:\n",
    "        total_number_of_images_100orless += 100\n",
    "    else:\n",
    "        total_number_of_images_100orless += item\n",
    "print(total_number_of_images_100orless)\n",
    "    "
   ]
  },
  {
   "cell_type": "code",
   "execution_count": null,
   "metadata": {},
   "outputs": [],
   "source": [
    "# resize to 128 X 128 "
   ]
  },
  {
   "cell_type": "code",
   "execution_count": null,
   "metadata": {},
   "outputs": [],
   "source": [
    "for k, v in landmarkIds_counts_dict.items():\n",
    "    print(k,v)\n",
    "    break"
   ]
  },
  {
   "cell_type": "code",
   "execution_count": null,
   "metadata": {},
   "outputs": [],
   "source": [
    "greater_than_10.landmark_id.count()"
   ]
  },
  {
   "cell_type": "code",
   "execution_count": null,
   "metadata": {},
   "outputs": [],
   "source": [
    "!pwd"
   ]
  },
  {
   "cell_type": "code",
   "execution_count": null,
   "metadata": {},
   "outputs": [],
   "source": [
    "tf.test.is_gpu_available(\n",
    "    cuda_only=True\n",
    ")\n"
   ]
  },
  {
   "cell_type": "code",
   "execution_count": null,
   "metadata": {},
   "outputs": [],
   "source": [
    "tf.config.list_physical_devices('GPU')"
   ]
  },
  {
   "cell_type": "code",
   "execution_count": null,
   "metadata": {},
   "outputs": [],
   "source": [
    "from __future__ import absolute_import, division, print_function, unicode_literals\n",
    "\n",
    "print(\"Num GPUs Available: \", len(tf.config.experimental.list_physical_devices('GPU')))\n"
   ]
  },
  {
   "cell_type": "code",
   "execution_count": null,
   "metadata": {},
   "outputs": [],
   "source": [
    "tf.debugging.set_log_device_placement(True)\n",
    "with tf.device('/GPU:0'):\n",
    "  a = tf.constant([[1.0, 2.0, 3.0], [4.0, 5.0, 6.0]])\n",
    "  b = tf.constant([[1.0, 2.0], [3.0, 4.0], [5.0, 6.0]])\n",
    "\n",
    "c = tf.matmul(a, b)\n",
    "print(c)"
   ]
  },
  {
   "cell_type": "code",
   "execution_count": null,
   "metadata": {},
   "outputs": [],
   "source": [
    "# model=tf.keras.models.Sequential([\n",
    "#                                   tf.keras.layers.Conv2D(16, (3,3), activation='relu', input_shape=(128,128,3)),\n",
    "#                                   tf.keras.layers.MaxPooling2D(2,2),\n",
    "#                                   tf.keras.layers.BatchNormalization(),\n",
    "#                                   tf.keras.layers.Dropout(0.1),\n",
    "#                                   tf.keras.layers.Conv2D(32, (3,3), activation='relu'),\n",
    "#                                   tf.keras.layers.MaxPooling2D(2,2),\n",
    "#                                   tf.keras.layers.BatchNormalization(),\n",
    "#                                   tf.keras.layers.Dropout(0.1),\n",
    "#                                   tf.keras.layers.Conv2D(64, (3,3), activation='relu'),\n",
    "#                                   tf.keras.layers.MaxPooling2D(2,2),\n",
    "#                                   tf.keras.layers.BatchNormalization(),\n",
    "#                                   tf.keras.layers.Dropout(0.1),\n",
    "#                                   tf.keras.layers.Conv2D(64, (3,3), activation='relu'),\n",
    "#                                   tf.keras.layers.MaxPooling2D(2,2),\n",
    "#                                   tf.keras.layers.BatchNormalization(),\n",
    "#                                   tf.keras.layers.Dropout(0.1),\n",
    "#                                   tf.keras.layers.Conv2D(64, (3,3), activation='relu'),\n",
    "#                                   tf.keras.layers.MaxPooling2D(2,2),\n",
    "#                                   tf.keras.layers.BatchNormalization(),\n",
    "#                                   tf.keras.layers.Dropout(0.1),\n",
    "#                                   tf.keras.layers.Flatten(),\n",
    "#                                   tf.keras.layers.Dense(512, activation='relu'),\n",
    "#                                   tf.keras.layers.Dense(greater_than_10.landmark_id.count(), activation='softmax')\n",
    "# ])\n",
    "# model.summary()"
   ]
  },
  {
   "cell_type": "code",
   "execution_count": 2,
   "metadata": {},
   "outputs": [
    {
     "name": "stdout",
     "output_type": "stream",
     "text": [
      "Model: \"sequential\"\n",
      "_________________________________________________________________\n",
      "Layer (type)                 Output Shape              Param #   \n",
      "=================================================================\n",
      "conv2d (Conv2D)              (None, 126, 126, 16)      448       \n",
      "_________________________________________________________________\n",
      "max_pooling2d (MaxPooling2D) (None, 63, 63, 16)        0         \n",
      "_________________________________________________________________\n",
      "batch_normalization (BatchNo (None, 63, 63, 16)        64        \n",
      "_________________________________________________________________\n",
      "dropout (Dropout)            (None, 63, 63, 16)        0         \n",
      "_________________________________________________________________\n",
      "conv2d_1 (Conv2D)            (None, 61, 61, 32)        4640      \n",
      "_________________________________________________________________\n",
      "max_pooling2d_1 (MaxPooling2 (None, 30, 30, 32)        0         \n",
      "_________________________________________________________________\n",
      "batch_normalization_1 (Batch (None, 30, 30, 32)        128       \n",
      "_________________________________________________________________\n",
      "dropout_1 (Dropout)          (None, 30, 30, 32)        0         \n",
      "_________________________________________________________________\n",
      "conv2d_2 (Conv2D)            (None, 28, 28, 64)        18496     \n",
      "_________________________________________________________________\n",
      "max_pooling2d_2 (MaxPooling2 (None, 14, 14, 64)        0         \n",
      "_________________________________________________________________\n",
      "batch_normalization_2 (Batch (None, 14, 14, 64)        256       \n",
      "_________________________________________________________________\n",
      "dropout_2 (Dropout)          (None, 14, 14, 64)        0         \n",
      "_________________________________________________________________\n",
      "conv2d_3 (Conv2D)            (None, 12, 12, 32)        18464     \n",
      "_________________________________________________________________\n",
      "max_pooling2d_3 (MaxPooling2 (None, 6, 6, 32)          0         \n",
      "_________________________________________________________________\n",
      "batch_normalization_3 (Batch (None, 6, 6, 32)          128       \n",
      "_________________________________________________________________\n",
      "dropout_3 (Dropout)          (None, 6, 6, 32)          0         \n",
      "_________________________________________________________________\n",
      "flatten (Flatten)            (None, 1152)              0         \n",
      "_________________________________________________________________\n",
      "dense (Dense)                (None, 512)               590336    \n",
      "_________________________________________________________________\n",
      "dense_1 (Dense)              (None, 92740)             47575620  \n",
      "=================================================================\n",
      "Total params: 48,208,580\n",
      "Trainable params: 48,208,292\n",
      "Non-trainable params: 288\n",
      "_________________________________________________________________\n"
     ]
    }
   ],
   "source": [
    "model=tf.keras.models.Sequential([\n",
    "                                  tf.keras.layers.Conv2D(16, (3,3), activation='relu', input_shape=(128,128,3)),\n",
    "                                  tf.keras.layers.MaxPooling2D(2,2),\n",
    "                                  tf.keras.layers.BatchNormalization(),\n",
    "                                  tf.keras.layers.Dropout(0.1),\n",
    "                                  tf.keras.layers.Conv2D(32, (3,3), activation='relu'),\n",
    "                                  tf.keras.layers.MaxPooling2D(2,2),\n",
    "                                  tf.keras.layers.BatchNormalization(),\n",
    "                                  tf.keras.layers.Dropout(0.1),\n",
    "                                  tf.keras.layers.Conv2D(64, (3,3), activation='relu'),\n",
    "                                  tf.keras.layers.MaxPooling2D(2,2),\n",
    "                                  tf.keras.layers.BatchNormalization(),\n",
    "                                  tf.keras.layers.Dropout(0.1),\n",
    "                                  tf.keras.layers.Conv2D(32, (3,3), activation='relu'),\n",
    "                                  tf.keras.layers.MaxPooling2D(2,2),\n",
    "                                  tf.keras.layers.BatchNormalization(),\n",
    "                                  tf.keras.layers.Dropout(0.1),\n",
    "                                  tf.keras.layers.Flatten(),\n",
    "                                  tf.keras.layers.Dense(512, activation='relu'),\n",
    "                                  tf.keras.layers.Dense(92740, activation='softmax')\n",
    "])\n",
    "model.summary()"
   ]
  },
  {
   "cell_type": "code",
   "execution_count": 3,
   "metadata": {},
   "outputs": [],
   "source": [
    "model.compile(optimizer='adam', loss='categorical_crossentropy', metrics=['accuracy'])"
   ]
  },
  {
   "cell_type": "code",
   "execution_count": 4,
   "metadata": {
    "scrolled": true
   },
   "outputs": [
    {
     "name": "stdout",
     "output_type": "stream",
     "text": [
      "Found 3064239 images belonging to 92740 classes.\n",
      "WARNING:tensorflow:From <ipython-input-4-3fa8163880e1>:22: Model.fit_generator (from tensorflow.python.keras.engine.training) is deprecated and will be removed in a future version.\n",
      "Instructions for updating:\n",
      "Please use Model.fit, which supports generators.\n",
      "WARNING:tensorflow:sample_weight modes were coerced from\n",
      "  ...\n",
      "    to  \n",
      "  ['...']\n",
      "Train for 2993 steps\n",
      "Epoch 1/5\n",
      "2993/2993 [==============================] - 7943s 3s/step - loss: 10.7182 - accuracy: 0.0011\n",
      "Epoch 2/5\n",
      "2993/2993 [==============================] - 7655s 3s/step - loss: 9.8916 - accuracy: 0.0050\n",
      "Epoch 3/5\n",
      "2993/2993 [==============================] - 7667s 3s/step - loss: 9.3851 - accuracy: 0.0101\n",
      "Epoch 4/5\n",
      "2993/2993 [==============================] - 7647s 3s/step - loss: 9.0175 - accuracy: 0.0163\n",
      "Epoch 5/5\n",
      "2993/2993 [==============================] - 7642s 3s/step - loss: 8.6853 - accuracy: 0.0240\n"
     ]
    }
   ],
   "source": [
    "from tensorflow.keras.preprocessing.image import ImageDataGenerator\n",
    "train_datagen = ImageDataGenerator(\n",
    "    rescale=1/255,\n",
    "    rotation_range=40,\n",
    "    width_shift_range=0.2,\n",
    "    height_shift_range=0.2,\n",
    "    shear_range=0.2,\n",
    "    zoom_range=0.2,\n",
    "    horizontal_flip=True,\n",
    "    fill_mode='nearest')\n",
    "\n",
    "#flow training images in batches of 128\n",
    "train_generator = train_datagen.flow_from_directory(\n",
    "    'datasets/set_128/train/',\n",
    "    target_size=(128,128),\n",
    "    batch_size=1024,\n",
    "    class_mode='categorical'\n",
    ")\n",
    "history = model.fit_generator(\n",
    "    train_generator,\n",
    "    epochs = 5,\n",
    "    verbose=1\n",
    ")"
   ]
  },
  {
   "cell_type": "code",
   "execution_count": 5,
   "metadata": {},
   "outputs": [
    {
     "data": {
      "text/plain": [
       "<Figure size 432x288 with 0 Axes>"
      ]
     },
     "execution_count": 5,
     "metadata": {},
     "output_type": "execute_result"
    },
    {
     "data": {
      "image/png": "[encoded data removed]",
      "text/plain": [
       "<Figure size 432x288 with 1 Axes>"
      ]
     },
     "metadata": {
      "needs_background": "light"
     },
     "output_type": "display_data"
    },
    {
     "data": {
      "image/png": "[encoded data removed]",
      "text/plain": [
       "<Figure size 432x288 with 1 Axes>"
      ]
     },
     "metadata": {
      "needs_background": "light"
     },
     "output_type": "display_data"
    },
    {
     "data": {
      "text/plain": [
       "<Figure size 432x288 with 0 Axes>"
      ]
     },
     "metadata": {},
     "output_type": "display_data"
    }
   ],
   "source": [
    "acc = history.history['accuracy']\n",
    "loss = history.history['loss']\n",
    "epochs = range(len(acc))\n",
    "\n",
    "plt.plot(epochs, acc)\n",
    "plt.title('Training accuracy')\n",
    "plt.figure()\n",
    "\n",
    "plt.plot(epochs, loss)\n",
    "plt.title('Training Loss')\n",
    "plt.figure()"
   ]
  },
  {
   "cell_type": "code",
   "execution_count": null,
   "metadata": {},
   "outputs": [],
   "source": []
  }
 ],
 "metadata": {
  "kernelspec": {
   "display_name": "Python 3",
   "language": "python",
   "name": "python3"
  },
  "language_info": {
   "codemirror_mode": {
    "name": "ipython",
    "version": 3
   },
   "file_extension": ".py",
   "mimetype": "text/x-python",
   "name": "python",
   "nbconvert_exporter": "python",
   "pygments_lexer": "ipython3",
   "version": "3.7.6"
  }
 },
 "nbformat": 4,
 "nbformat_minor": 4
}
