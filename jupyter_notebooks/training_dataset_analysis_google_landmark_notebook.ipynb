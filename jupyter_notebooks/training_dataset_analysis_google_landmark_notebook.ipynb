{
 "cells": [
  {
   "cell_type": "code",
   "execution_count": 1,
   "metadata": {},
   "outputs": [],
   "source": [
    "import pandas as pd\n",
    "import os\n",
    "import shutil\n",
    "import cv2\n",
    "from multiprocessing import Pool\n",
    "import time\n",
    "import process_images_448_448\n",
    "import process_images_128_128\n",
    "import gc\n",
    "import matplotlib.pyplot as plt\n",
    "import random"
   ]
  },
  {
   "cell_type": "code",
   "execution_count": 2,
   "metadata": {},
   "outputs": [],
   "source": [
    "train_file_csv_df = pd.read_csv(\"train.csv\")"
   ]
  },
  {
   "cell_type": "code",
   "execution_count": 3,
   "metadata": {},
   "outputs": [
    {
     "name": "stdout",
     "output_type": "stream",
     "text": [
      "Sample of record in the train_file_csv_df dataframe : \n",
      "                 id                                                url  \\\n",
      "0  6e158a47eb2ca3f6  https://upload.wikimedia.org/wikipedia/commons...   \n",
      "\n",
      "   landmark_id  \n",
      "0       142820  \n",
      "Total number of images in the training set : 4132914\n",
      "Total number of unique landmark_ids in the training dataset : 203094\n",
      "Total number of landmarks with greater than 5 images in the dataset : 125731\n"
     ]
    }
   ],
   "source": [
    "landmarks_greater_than_5_df = train_file_csv_df.landmark_id.value_counts().reset_index(name=\"count\").query('count>5')\n",
    "print(\"Sample of record in the train_file_csv_df dataframe : \\n\" + str(train_file_csv_df.head(1)))\n",
    "print(\"Total number of images in the training set : \" + str(train_file_csv_df['url'].count()))\n",
    "print(\"Total number of unique landmark_ids in the training dataset : \" + str(train_file_csv_df.landmark_id.value_counts()\n",
    "                                                                                 .reset_index(name=\"count\")[\"index\"].count()))\n",
    "print(\"Total number of landmarks with greater than 5 images in the dataset : \" + str(landmarks_greater_than_5_df[\"index\"].count()))"
   ]
  },
  {
   "cell_type": "code",
   "execution_count": 4,
   "metadata": {},
   "outputs": [
    {
     "name": "stdout",
     "output_type": "stream",
     "text": [
      "Total number of images for landmarks with image count of greater than 5 in the training set after filtering  : 3920020\n",
      "                 id                                                url  \\\n",
      "0  6e158a47eb2ca3f6  https://upload.wikimedia.org/wikipedia/commons...   \n",
      "\n",
      "   landmark_id  \n",
      "0       142820  \n",
      "http://upload.wikimedia.org/wikipedia/commons/6/63/Ecosse200996-1.jpg\n"
     ]
    }
   ],
   "source": [
    "filtered_train_greater_than_5_df = train_file_csv_df[train_file_csv_df.landmark_id.isin(landmarks_greater_than_5_df['index'])]\n",
    "print(\"Total number of images for landmarks with image count of greater than 5 in the training set after filtering  : \" + str(filtered_train_greater_than_5_df[\"id\"].count()))\n",
    "print(filtered_train_greater_than_5_df.head(1))\n",
    "print(filtered_train_greater_than_5_df.iloc[1]['url'])"
   ]
  },
  {
   "cell_type": "code",
   "execution_count": 5,
   "metadata": {},
   "outputs": [
    {
     "data": {
      "text/plain": [
       "3920020"
      ]
     },
     "execution_count": 5,
     "metadata": {},
     "output_type": "execute_result"
    }
   ],
   "source": [
    "imageIds_landmarkIds_dict = filtered_train_greater_than_5_df.set_index('id')['landmark_id'].to_dict()\n",
    "len(imageIds_landmarkIds_dict)"
   ]
  },
  {
   "cell_type": "code",
   "execution_count": 6,
   "metadata": {},
   "outputs": [
    {
     "data": {
      "text/plain": [
       "40"
      ]
     },
     "execution_count": 6,
     "metadata": {},
     "output_type": "execute_result"
    }
   ],
   "source": [
    "# del train_file_csv_df\n",
    "gc.collect()"
   ]
  },
  {
   "cell_type": "code",
   "execution_count": 7,
   "metadata": {},
   "outputs": [
    {
     "name": "stdout",
     "output_type": "stream",
     "text": [
      "125731\n"
     ]
    }
   ],
   "source": [
    "landmarkIds_counts_df = pd.DataFrame(filtered_train_greater_than_5_df.landmark_id.value_counts())\n",
    "landmarkIds_counts_df = landmarkIds_counts_df.rename(columns={'landmark_id':'counts'})\n",
    "landmarkIds_counts_df.reset_index(level=0, inplace=True)\n",
    "landmarkIds_counts_df = landmarkIds_counts_df.rename(columns={'index':'landmark_id'})\n",
    "landmarkIds_counts_df['landmark_id'] = landmarkIds_counts_df['landmark_id'].astype('str')\n",
    "print(len(landmarkIds_counts_df))\n",
    "landmarkIds_counts_dict = landmarkIds_counts_df.set_index('landmark_id')['counts'].to_dict()"
   ]
  },
  {
   "cell_type": "code",
   "execution_count": 8,
   "metadata": {},
   "outputs": [
    {
     "data": {
      "text/html": [
       "<div>\n",
       "<style scoped>\n",
       "    .dataframe tbody tr th:only-of-type {\n",
       "        vertical-align: middle;\n",
       "    }\n",
       "\n",
       "    .dataframe tbody tr th {\n",
       "        vertical-align: top;\n",
       "    }\n",
       "\n",
       "    .dataframe thead th {\n",
       "        text-align: right;\n",
       "    }\n",
       "</style>\n",
       "<table border=\"1\" class=\"dataframe\">\n",
       "  <thead>\n",
       "    <tr style=\"text-align: right;\">\n",
       "      <th></th>\n",
       "      <th>landmark_id</th>\n",
       "      <th>counts</th>\n",
       "    </tr>\n",
       "  </thead>\n",
       "  <tbody>\n",
       "    <tr>\n",
       "      <th>0</th>\n",
       "      <td>138982</td>\n",
       "      <td>10247</td>\n",
       "    </tr>\n",
       "    <tr>\n",
       "      <th>1</th>\n",
       "      <td>62798</td>\n",
       "      <td>4333</td>\n",
       "    </tr>\n",
       "  </tbody>\n",
       "</table>\n",
       "</div>"
      ],
      "text/plain": [
       "  landmark_id  counts\n",
       "0      138982   10247\n",
       "1       62798    4333"
      ]
     },
     "execution_count": 8,
     "metadata": {},
     "output_type": "execute_result"
    }
   ],
   "source": [
    "landmarkIds_counts_df[:2]"
   ]
  },
  {
   "cell_type": "code",
   "execution_count": 10,
   "metadata": {},
   "outputs": [
    {
     "data": {
      "text/plain": [
       "(array([68977., 15913.,  6259.,  3175.,  1757.,  1178.,   744.,   464.,\n",
       "          298.,   235.]),\n",
       " array([  8.,  33.,  58.,  83., 108., 133., 158., 183., 208., 233., 258.]),\n",
       " <a list of 10 Patch objects>)"
      ]
     },
     "execution_count": 10,
     "metadata": {},
     "output_type": "execute_result"
    },
    {
     "data": {
      "image/png": "[encoded data removed]",
      "text/plain": [
       "<Figure size 432x288 with 1 Axes>"
      ]
     },
     "metadata": {
      "needs_background": "light"
     },
     "output_type": "display_data"
    }
   ],
   "source": [
    "plt.hist(landmarkIds_counts_df.counts[1000:100000])\n",
    "# plt.bar(df.landmark_id,df.counts)"
   ]
  },
  {
   "cell_type": "code",
   "execution_count": 11,
   "metadata": {},
   "outputs": [
    {
     "data": {
      "text/plain": [
       "landmark_id    119329\n",
       "counts         119329\n",
       "dtype: int64"
      ]
     },
     "execution_count": 11,
     "metadata": {},
     "output_type": "execute_result"
    }
   ],
   "source": [
    "# Now, filter out images where each landmark has only 500 or less images to prevent overfitting on larger set of landmark_ids.\n",
    "total_landmarks_less_than_100_count = landmarkIds_counts_df[landmarkIds_counts_df.counts<=100].count()\n",
    "total_landmarks_less_than_100_count"
   ]
  },
  {
   "cell_type": "code",
   "execution_count": 12,
   "metadata": {},
   "outputs": [
    {
     "data": {
      "text/plain": [
       "landmark_id    32991\n",
       "counts         32991\n",
       "dtype: int64"
      ]
     },
     "execution_count": 12,
     "metadata": {},
     "output_type": "execute_result"
    }
   ],
   "source": [
    "total_landmarks_less_than_10_count = landmarkIds_counts_df[landmarkIds_counts_df.counts<10]\n",
    "total_landmarks_less_than_10_count.count()"
   ]
  },
  {
   "cell_type": "code",
   "execution_count": 13,
   "metadata": {},
   "outputs": [
    {
     "data": {
      "text/plain": [
       "241819"
      ]
     },
     "execution_count": 13,
     "metadata": {},
     "output_type": "execute_result"
    }
   ],
   "source": [
    "# total number of images where landmarks have less than 10 images\n",
    "total_images_less_than_10 = 0\n",
    "for item in total_landmarks_less_than_10_count.counts: \n",
    "    total_images_less_than_10 +=item\n",
    "total_images_less_than_10"
   ]
  },
  {
   "cell_type": "code",
   "execution_count": 14,
   "metadata": {},
   "outputs": [
    {
     "data": {
      "text/plain": [
       "landmark_id    6402\n",
       "counts         6402\n",
       "dtype: int64"
      ]
     },
     "execution_count": 14,
     "metadata": {},
     "output_type": "execute_result"
    }
   ],
   "source": [
    "greater_100 = landmarkIds_counts_df[landmarkIds_counts_df.counts>100]\n",
    "greater_100.count()"
   ]
  },
  {
   "cell_type": "code",
   "execution_count": 15,
   "metadata": {},
   "outputs": [
    {
     "data": {
      "text/plain": [
       "613962"
      ]
     },
     "execution_count": 15,
     "metadata": {},
     "output_type": "execute_result"
    }
   ],
   "source": [
    "# Number of extra images over 100 for the landmarks where landmark has more than 100 images\n",
    "total_images_greater_than100 = 0\n",
    "for item in greater_100.counts:\n",
    "    diff = item-100\n",
    "    total_images_greater_than100 +=diff\n",
    "total_images_greater_than100"
   ]
  },
  {
   "cell_type": "code",
   "execution_count": 16,
   "metadata": {},
   "outputs": [
    {
     "data": {
      "text/plain": [
       "landmark_id    92740\n",
       "counts         92740\n",
       "dtype: int64"
      ]
     },
     "execution_count": 16,
     "metadata": {},
     "output_type": "execute_result"
    }
   ],
   "source": [
    "greater_than_10 = landmarkIds_counts_df[landmarkIds_counts_df.counts>=10]\n",
    "greater_than_10.count()"
   ]
  },
  {
   "cell_type": "code",
   "execution_count": 17,
   "metadata": {},
   "outputs": [
    {
     "name": "stdout",
     "output_type": "stream",
     "text": [
      "3064239\n"
     ]
    }
   ],
   "source": [
    "total_number_of_images_100orless = 0\n",
    "for item in greater_than_10.counts:\n",
    "    if item>100:\n",
    "        total_number_of_images_100orless += 100\n",
    "    else:\n",
    "        total_number_of_images_100orless += item\n",
    "print(total_number_of_images_100orless)\n",
    "    "
   ]
  },
  {
   "cell_type": "code",
   "execution_count": 47,
   "metadata": {},
   "outputs": [
    {
     "data": {
      "text/plain": [
       "92740"
      ]
     },
     "execution_count": 47,
     "metadata": {},
     "output_type": "execute_result"
    }
   ],
   "source": [
    "greater_than_10.landmark_id.count()"
   ]
  },
  {
   "cell_type": "code",
   "execution_count": 35,
   "metadata": {},
   "outputs": [
    {
     "name": "stdout",
     "output_type": "stream",
     "text": [
      "start (j) =  0 , end (l) =  4637\n",
      "Number of images :  463700\n",
      "start (j) =  4637 , end (l) =  9274\n",
      "Number of images :  433344\n",
      "start (j) =  9274 , end (l) =  13911\n",
      "Number of images :  323212\n",
      "start (j) =  13911 , end (l) =  18548\n",
      "Number of images :  253814\n",
      "start (j) =  18548 , end (l) =  23185\n",
      "Number of images :  209758\n",
      "start (j) =  23185 , end (l) =  27822\n",
      "Number of images :  178328\n",
      "start (j) =  27822 , end (l) =  32459\n",
      "Number of images :  154759\n",
      "start (j) =  32459 , end (l) =  37096\n",
      "Number of images :  136482\n",
      "start (j) =  37096 , end (l) =  41733\n",
      "Number of images :  121182\n",
      "start (j) =  41733 , end (l) =  46370\n",
      "Number of images :  108693\n",
      "start (j) =  46370 , end (l) =  51007\n",
      "Number of images :  98077\n",
      "start (j) =  51007 , end (l) =  55644\n",
      "Number of images :  89212\n",
      "start (j) =  55644 , end (l) =  60281\n",
      "Number of images :  81136\n",
      "start (j) =  60281 , end (l) =  64918\n",
      "Number of images :  74451\n",
      "start (j) =  64918 , end (l) =  69555\n",
      "Number of images :  68047\n",
      "start (j) =  69555 , end (l) =  74192\n",
      "Number of images :  62642\n",
      "start (j) =  74192 , end (l) =  78829\n",
      "Number of images :  57792\n",
      "start (j) =  78829 , end (l) =  83466\n",
      "Number of images :  53532\n",
      "start (j) =  83466 , end (l) =  88103\n",
      "Number of images :  49708\n",
      "start (j) =  88103 , end (l) =  92740\n",
      "Number of images :  46370\n",
      "Total :  3064239\n"
     ]
    }
   ],
   "source": [
    "j=0\n",
    "k=4637\n",
    "total = 0\n",
    "for i in range(1,21):\n",
    "    l = k*i\n",
    "    print(\"start (j) = \", j , \", end (l) = \", l)\n",
    "    total_number_of_images_100orless = 0\n",
    "    for item in greater_than_10.counts[j:l]:\n",
    "        if item>100:\n",
    "            total_number_of_images_100orless += 100\n",
    "        else:\n",
    "            total_number_of_images_100orless += item\n",
    "    total += total_number_of_images_100orless\n",
    "    print(\"Number of images : \", total_number_of_images_100orless)\n",
    "    j=l\n",
    "print(\"Total : \",total)\n"
   ]
  },
  {
   "cell_type": "code",
   "execution_count": 1,
   "metadata": {},
   "outputs": [
    {
     "data": {
      "text/plain": [
       "['set_128_1.zip',\n",
       " 'set_128_2.zip',\n",
       " 'set_128_3.zip',\n",
       " 'set_128_4.zip',\n",
       " 'set_128_5.zip',\n",
       " 'set_128_6.zip',\n",
       " 'set_128_7.zip',\n",
       " 'set_128_8.zip',\n",
       " 'set_128_9.zip',\n",
       " 'set_128_10.zip',\n",
       " 'set_128_11.zip',\n",
       " 'set_128_12.zip',\n",
       " 'set_128_13.zip',\n",
       " 'set_128_14.zip',\n",
       " 'set_128_15.zip',\n",
       " 'set_128_16.zip',\n",
       " 'set_128_17.zip',\n",
       " 'set_128_18.zip',\n",
       " 'set_128_19.zip',\n",
       " 'set_128_20.zip']"
      ]
     },
     "execution_count": 1,
     "metadata": {},
     "output_type": "execute_result"
    }
   ],
   "source": [
    "zip_files_list = list()\n",
    "for i in range(1,21):\n",
    "    zip_files_list.append(\"set_128_\" + str(i) + \".zip\")\n",
    "zip_files_list"
   ]
  },
  {
   "cell_type": "code",
   "execution_count": 4,
   "metadata": {},
   "outputs": [
    {
     "name": "stdout",
     "output_type": "stream",
     "text": [
      "3\n",
      "datasets/set_128_3.zip\n",
      "datasets/group2_set_128/\n",
      "datasets/set_128_4.zip\n",
      "datasets/group2_set_128/\n",
      "datasets/set_128_5.zip\n",
      "datasets/group2_set_128/\n",
      "6\n",
      "datasets/set_128_6.zip\n",
      "datasets/group3_set_128/\n",
      "datasets/set_128_7.zip\n",
      "datasets/group3_set_128/\n",
      "datasets/set_128_8.zip\n",
      "datasets/group3_set_128/\n",
      "9\n",
      "datasets/set_128_9.zip\n",
      "datasets/group4_set_128/\n",
      "datasets/set_128_10.zip\n",
      "datasets/group4_set_128/\n",
      "datasets/set_128_11.zip\n",
      "datasets/group4_set_128/\n",
      "12\n",
      "datasets/set_128_12.zip\n",
      "datasets/group5_set_128/\n",
      "datasets/set_128_13.zip\n",
      "datasets/group5_set_128/\n",
      "datasets/set_128_14.zip\n",
      "datasets/group5_set_128/\n",
      "15\n",
      "datasets/set_128_15.zip\n",
      "datasets/group6_set_128/\n",
      "datasets/set_128_16.zip\n",
      "datasets/group6_set_128/\n",
      "datasets/set_128_17.zip\n",
      "datasets/group6_set_128/\n",
      "18\n",
      "datasets/set_128_18.zip\n",
      "datasets/group7_set_128/\n",
      "datasets/set_128_19.zip\n",
      "datasets/group7_set_128/\n",
      "datasets/set_128_20.zip\n",
      "datasets/group7_set_128/\n"
     ]
    }
   ],
   "source": [
    "# Create 7 groups of data to train 7 different models based on the number of available smples for each label\n",
    "groups = [(1,2),(3,5),(6,8),(9,11),(12,14),(15,17),(18,20)]\n",
    "for index, group in enumerate(groups[1:]):\n",
    "    print(group[0])\n",
    "    for zip_file in zip_files_list[group[0]-1:group[1]]:\n",
    "        local_zip = 'datasets/' + zip_file\n",
    "        print(local_zip)\n",
    "#         zip_ref = zipfile.ZipFile(local_zip, 'r')\n",
    "        location_to_zip = 'datasets/group' + str(index+2) +'_set_128/'\n",
    "        print(location_to_zip)"
   ]
  },
  {
   "cell_type": "code",
   "execution_count": null,
   "metadata": {},
   "outputs": [],
   "source": []
  }
 ],
 "metadata": {
  "kernelspec": {
   "display_name": "Python 3",
   "language": "python",
   "name": "python3"
  },
  "language_info": {
   "codemirror_mode": {
    "name": "ipython",
    "version": 3
   },
   "file_extension": ".py",
   "mimetype": "text/x-python",
   "name": "python",
   "nbconvert_exporter": "python",
   "pygments_lexer": "ipython3",
   "version": "3.7.6"
  }
 },
 "nbformat": 4,
 "nbformat_minor": 4
}
