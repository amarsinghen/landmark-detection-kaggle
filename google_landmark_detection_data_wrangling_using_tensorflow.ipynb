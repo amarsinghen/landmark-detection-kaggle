{
  "nbformat": 4,
  "nbformat_minor": 0,
  "metadata": {
    "colab": {
      "name": "google_landmark_detection_data_wrangling_using_tensorflow.ipynb",
      "provenance": [],
      "collapsed_sections": [],
      "include_colab_link": true
    },
    "kernelspec": {
      "name": "python3",
      "display_name": "Python 3"
    },
    "accelerator": "GPU"
  },
  "cells": [
    {
      "cell_type": "markdown",
      "metadata": {
        "id": "view-in-github",
        "colab_type": "text"
      },
      "source": [
        "<a href=\"https://colab.research.google.com/github/amarsinghen/landmark-detection-kaggle/blob/master/google_landmark_detection_data_wrangling_using_tensorflow.ipynb\" target=\"_parent\"><img src=\"https://colab.research.google.com/assets/colab-badge.svg\" alt=\"Open In Colab\"/></a>"
      ]
    },
    {
      "cell_type": "code",
      "metadata": {
        "id": "5sS4q7b3EDtN",
        "colab_type": "code",
        "outputId": "2ba8ccc8-5603-4101-89a0-7557d40a8da1",
        "colab": {
          "base_uri": "https://localhost:8080/",
          "height": 34
        }
      },
      "source": [
        "try:\n",
        "  # %tensorflow_version only exists in Colab.\n",
        "  %tensorflow_version 2.x\n",
        "except Exception:\n",
        "  pass"
      ],
      "execution_count": 0,
      "outputs": [
        {
          "output_type": "stream",
          "text": [
            "TensorFlow 2.x selected.\n"
          ],
          "name": "stdout"
        }
      ]
    },
    {
      "cell_type": "code",
      "metadata": {
        "id": "AoRwAqH-EtTC",
        "colab_type": "code",
        "colab": {}
      },
      "source": [
        "from __future__ import absolute_import, division, print_function, unicode_literals\n",
        "import functools"
      ],
      "execution_count": 0,
      "outputs": []
    },
    {
      "cell_type": "code",
      "metadata": {
        "id": "5J_z9SCiEF61",
        "colab_type": "code",
        "colab": {}
      },
      "source": [
        "import numpy as np\n",
        "import pandas as pd\n",
        "import pathlib\n",
        "import tensorflow as tf\n",
        "from PIL import Image\n",
        "import imageio"
      ],
      "execution_count": 0,
      "outputs": []
    },
    {
      "cell_type": "code",
      "metadata": {
        "id": "aBsYs-mKEPc6",
        "colab_type": "code",
        "outputId": "1eb5ab94-efb6-47fc-8f13-f59cca28fe40",
        "colab": {
          "base_uri": "https://localhost:8080/",
          "height": 34
        }
      },
      "source": [
        "tf.__version__"
      ],
      "execution_count": 0,
      "outputs": [
        {
          "output_type": "execute_result",
          "data": {
            "text/plain": [
              "'2.0.0-rc2'"
            ]
          },
          "metadata": {
            "tags": []
          },
          "execution_count": 4
        }
      ]
    },
    {
      "cell_type": "code",
      "metadata": {
        "id": "ebPccIH8OU3U",
        "colab_type": "code",
        "colab": {}
      },
      "source": [
        "TRAIN_DATA_URL = \"https://s3.amazonaws.com/google-landmark/metadata/train.csv\"\n",
        "TRAIN_ATTRIBUTION_DATA_URL = \"https://s3.amazonaws.com/google-landmark/metadata/train_attribution.csv\"\n",
        "TRAIN_LABEL_TO_CATEGORY_DATA_URL = \"https://s3.amazonaws.com/google-landmark/metadata/train_label_to_category.csv\"\n",
        "TRAIN_IMAGES_DATA_TAR_URL = \"https://s3.amazonaws.com/google-landmark/train/images_001.tar\""
      ],
      "execution_count": 0,
      "outputs": []
    },
    {
      "cell_type": "code",
      "metadata": {
        "id": "ijR2OVInE05O",
        "colab_type": "code",
        "outputId": "15dbca42-85ee-4141-8776-bc0f78266e1b",
        "colab": {
          "base_uri": "https://localhost:8080/",
          "height": 51
        }
      },
      "source": [
        "train_file_csv = tf.keras.utils.get_file(\"train.csv\", TRAIN_DATA_URL)\n",
        "train_attribution_csv= tf.keras.utils.get_file(\"train_attribution.csv\", TRAIN_ATTRIBUTION_DATA_URL)\n",
        "train_label_to_category_csv = tf.keras.utils.get_file(\"train_label_to_category.csv\",TRAIN_LABEL_TO_CATEGORY_DATA_URL)\n",
        "\n",
        "train_images_data_dir = tf.keras.utils.get_file(origin=TRAIN_IMAGES_DATA_TAR_URL, fname='0 2', untar=True)\n",
        "train_images_data_dir = pathlib.Path(train_images_data_dir)"
      ],
      "execution_count": 0,
      "outputs": [
        {
          "output_type": "stream",
          "text": [
            "Downloading data from https://s3.amazonaws.com/google-landmark/train/images_001.tar\n",
            "1063731200/1063727616 [==============================] - 22s 0us/step\n"
          ],
          "name": "stdout"
        }
      ]
    },
    {
      "cell_type": "code",
      "metadata": {
        "id": "6efwek1zMbNz",
        "colab_type": "code",
        "colab": {}
      },
      "source": [
        "# TEST_DATA_CSV_URL = \"https://s3.amazonaws.com/google-landmark/metadata/test.csv\"\n",
        "# TEST_DATA_RECOGNITION_SOLUTION_V2_URL = \"https://s3.amazonaws.com/google-landmark/ground_truth/recognition_solution_v2.1.csv\"\n",
        "# TEST_DATA_RETRIEVAL_SOLUTION_V2_URL = \"https://s3.amazonaws.com/google-landmark/ground_truth/retrieval_solution_v2.1.csv\"\n",
        "# TEST_IMAGES_DATA_TAR_URL = \"https://s3.amazonaws.com/google-landmark/test/images_000.tar\""
      ],
      "execution_count": 0,
      "outputs": []
    },
    {
      "cell_type": "code",
      "metadata": {
        "id": "12Vgo8-MPFiY",
        "colab_type": "code",
        "colab": {}
      },
      "source": [
        "# test_file_csv = tf.keras.utils.get_file(\"test.csv\", TEST_DATA_CSV_URL)\n",
        "# test_image_recognition_solution_csv= tf.keras.utils.get_file(\"test_images_recognition_solution.csv\", TEST_DATA_RECOGNITION_SOLUTION_V2_URL)\n",
        "# test_image_retrieval_solution_csv = tf.keras.utils.get_file(\"test_images_retrieval_solution.csv\",TEST_DATA_RETRIEVAL_SOLUTION_V2_URL)\n",
        "\n",
        "# test_images_data_dir = tf.keras.utils.get_file(origin=TEST_IMAGES_DATA_TAR_URL, fname='0', untar=True)\n",
        "# test_images_data_dir = pathlib.Path(test_images_data_dir)"
      ],
      "execution_count": 0,
      "outputs": []
    },
    {
      "cell_type": "code",
      "metadata": {
        "id": "lHwXmehgEUQm",
        "colab_type": "code",
        "colab": {}
      },
      "source": [
        "train_file_csv_df = pd.read_csv(train_file_csv)\n",
        "train_attribution_csv_df = pd.read_csv(train_attribution_csv)\n",
        "train_label_to_category_csv_df = pd.read_csv(train_label_to_category_csv)"
      ],
      "execution_count": 0,
      "outputs": []
    },
    {
      "cell_type": "code",
      "metadata": {
        "id": "l3l3_fawSir5",
        "colab_type": "code",
        "colab": {}
      },
      "source": [
        "# test_file_csv_df = pd.read_csv(test_file_csv)\n",
        "# test_image_recognition_solution_csv_df = pd.read_csv(test_image_recognition_solution_csv)\n",
        "# test_image_retrieval_solution_csv_csv_df = pd.read_csv(test_image_retrieval_solution_csv)"
      ],
      "execution_count": 0,
      "outputs": []
    },
    {
      "cell_type": "code",
      "metadata": {
        "id": "XDosciVWHlaD",
        "colab_type": "code",
        "outputId": "c960fc23-cc62-4fd1-bd20-e9cad9622b94",
        "colab": {
          "base_uri": "https://localhost:8080/",
          "height": 80
        }
      },
      "source": [
        "train_file_csv_df.head(1)"
      ],
      "execution_count": 0,
      "outputs": [
        {
          "output_type": "execute_result",
          "data": {
            "text/html": [
              "<div>\n",
              "<style scoped>\n",
              "    .dataframe tbody tr th:only-of-type {\n",
              "        vertical-align: middle;\n",
              "    }\n",
              "\n",
              "    .dataframe tbody tr th {\n",
              "        vertical-align: top;\n",
              "    }\n",
              "\n",
              "    .dataframe thead th {\n",
              "        text-align: right;\n",
              "    }\n",
              "</style>\n",
              "<table border=\"1\" class=\"dataframe\">\n",
              "  <thead>\n",
              "    <tr style=\"text-align: right;\">\n",
              "      <th></th>\n",
              "      <th>id</th>\n",
              "      <th>url</th>\n",
              "      <th>landmark_id</th>\n",
              "    </tr>\n",
              "  </thead>\n",
              "  <tbody>\n",
              "    <tr>\n",
              "      <th>0</th>\n",
              "      <td>6e158a47eb2ca3f6</td>\n",
              "      <td>https://upload.wikimedia.org/wikipedia/commons...</td>\n",
              "      <td>142820</td>\n",
              "    </tr>\n",
              "  </tbody>\n",
              "</table>\n",
              "</div>"
            ],
            "text/plain": [
              "                 id  ... landmark_id\n",
              "0  6e158a47eb2ca3f6  ...      142820\n",
              "\n",
              "[1 rows x 3 columns]"
            ]
          },
          "metadata": {
            "tags": []
          },
          "execution_count": 74
        }
      ]
    },
    {
      "cell_type": "code",
      "metadata": {
        "id": "0NkBtqZ3TZI3",
        "colab_type": "code",
        "outputId": "7c292c52-c654-45bb-eb70-60d147fd9609",
        "colab": {
          "base_uri": "https://localhost:8080/",
          "height": 80
        }
      },
      "source": [
        "train_attribution_csv_df.head(1)"
      ],
      "execution_count": 0,
      "outputs": [
        {
          "output_type": "execute_result",
          "data": {
            "text/html": [
              "<div>\n",
              "<style scoped>\n",
              "    .dataframe tbody tr th:only-of-type {\n",
              "        vertical-align: middle;\n",
              "    }\n",
              "\n",
              "    .dataframe tbody tr th {\n",
              "        vertical-align: top;\n",
              "    }\n",
              "\n",
              "    .dataframe thead th {\n",
              "        text-align: right;\n",
              "    }\n",
              "</style>\n",
              "<table border=\"1\" class=\"dataframe\">\n",
              "  <thead>\n",
              "    <tr style=\"text-align: right;\">\n",
              "      <th></th>\n",
              "      <th>id</th>\n",
              "      <th>url</th>\n",
              "      <th>author</th>\n",
              "      <th>license</th>\n",
              "      <th>title</th>\n",
              "    </tr>\n",
              "  </thead>\n",
              "  <tbody>\n",
              "    <tr>\n",
              "      <th>0</th>\n",
              "      <td>6e158a47eb2ca3f6</td>\n",
              "      <td>http://commons.wikimedia.org/wiki/File:Observa...</td>\n",
              "      <td>Holger.Ellgaard</td>\n",
              "      <td>CC BY-SA 3.0(http://creativecommons.org/licens...</td>\n",
              "      <td>File:Observatoriet väderkammer 2013a.jpg</td>\n",
              "    </tr>\n",
              "  </tbody>\n",
              "</table>\n",
              "</div>"
            ],
            "text/plain": [
              "                 id  ...                                     title\n",
              "0  6e158a47eb2ca3f6  ...  File:Observatoriet väderkammer 2013a.jpg\n",
              "\n",
              "[1 rows x 5 columns]"
            ]
          },
          "metadata": {
            "tags": []
          },
          "execution_count": 75
        }
      ]
    },
    {
      "cell_type": "code",
      "metadata": {
        "id": "ylvhgCwCTZsf",
        "colab_type": "code",
        "outputId": "357f6f6d-2087-4fbd-be96-593526218ad1",
        "colab": {
          "base_uri": "https://localhost:8080/",
          "height": 80
        }
      },
      "source": [
        "train_label_to_category_csv_df.head(1)"
      ],
      "execution_count": 0,
      "outputs": [
        {
          "output_type": "execute_result",
          "data": {
            "text/html": [
              "<div>\n",
              "<style scoped>\n",
              "    .dataframe tbody tr th:only-of-type {\n",
              "        vertical-align: middle;\n",
              "    }\n",
              "\n",
              "    .dataframe tbody tr th {\n",
              "        vertical-align: top;\n",
              "    }\n",
              "\n",
              "    .dataframe thead th {\n",
              "        text-align: right;\n",
              "    }\n",
              "</style>\n",
              "<table border=\"1\" class=\"dataframe\">\n",
              "  <thead>\n",
              "    <tr style=\"text-align: right;\">\n",
              "      <th></th>\n",
              "      <th>landmark_id</th>\n",
              "      <th>category</th>\n",
              "    </tr>\n",
              "  </thead>\n",
              "  <tbody>\n",
              "    <tr>\n",
              "      <th>0</th>\n",
              "      <td>0</td>\n",
              "      <td>http://commons.wikimedia.org/wiki/Category:Hap...</td>\n",
              "    </tr>\n",
              "  </tbody>\n",
              "</table>\n",
              "</div>"
            ],
            "text/plain": [
              "   landmark_id                                           category\n",
              "0            0  http://commons.wikimedia.org/wiki/Category:Hap..."
            ]
          },
          "metadata": {
            "tags": []
          },
          "execution_count": 81
        }
      ]
    },
    {
      "cell_type": "code",
      "metadata": {
        "id": "EZeD8HI-TZ0b",
        "colab_type": "code",
        "colab": {}
      },
      "source": [
        "# test_file_csv_df.head(1)"
      ],
      "execution_count": 0,
      "outputs": []
    },
    {
      "cell_type": "code",
      "metadata": {
        "id": "69H2pUR4TeEp",
        "colab_type": "code",
        "colab": {}
      },
      "source": [
        "# test_image_recognition_solution_csv_df.head(1)"
      ],
      "execution_count": 0,
      "outputs": []
    },
    {
      "cell_type": "code",
      "metadata": {
        "id": "vuCkYQ4LTki3",
        "colab_type": "code",
        "colab": {}
      },
      "source": [
        "# test_image_retrieval_solution_csv_csv_df.head(1)"
      ],
      "execution_count": 0,
      "outputs": []
    },
    {
      "cell_type": "code",
      "metadata": {
        "id": "6K904CyLH_l1",
        "colab_type": "code",
        "outputId": "8b802bbe-c697-46b9-ac6f-e0d40582b2ee",
        "colab": {
          "base_uri": "https://localhost:8080/",
          "height": 34
        }
      },
      "source": [
        "train_image_count = len(list(train_images_data_dir.glob('**/*.jpg')))\n",
        "print(train_image_count)"
      ],
      "execution_count": 0,
      "outputs": [
        {
          "output_type": "stream",
          "text": [
            "0\n"
          ],
          "name": "stdout"
        }
      ]
    },
    {
      "cell_type": "code",
      "metadata": {
        "id": "d__xZ4cqnxWl",
        "colab_type": "code",
        "outputId": "84f6ef70-e1fd-49fa-a6c9-380d0d0083b8",
        "colab": {
          "base_uri": "https://localhost:8080/",
          "height": 51
        }
      },
      "source": [
        "counter = 0\n",
        "imagesSizes = []\n",
        "for image in train_images_data_dir.glob('**/*.jpg'):\n",
        "#   print(image)\n",
        "  with Image.open(str(image)) as img:\n",
        "    imagesSizes.append(img.size)\n",
        "    counter = counter + 1\n",
        "print(counter)\n",
        "print(len(imagesSizes))"
      ],
      "execution_count": 0,
      "outputs": [
        {
          "output_type": "stream",
          "text": [
            "8266\n",
            "8266\n"
          ],
          "name": "stdout"
        }
      ]
    },
    {
      "cell_type": "code",
      "metadata": {
        "id": "RGikkR34vXeY",
        "colab_type": "code",
        "outputId": "1e464288-3716-4046-cf59-6aa24adfe787",
        "colab": {
          "base_uri": "https://localhost:8080/",
          "height": 34
        }
      },
      "source": [
        "min(imagesSizes)"
      ],
      "execution_count": 0,
      "outputs": [
        {
          "output_type": "execute_result",
          "data": {
            "text/plain": [
              "(48, 48)"
            ]
          },
          "metadata": {
            "tags": []
          },
          "execution_count": 19
        }
      ]
    },
    {
      "cell_type": "code",
      "metadata": {
        "id": "oHw15i7fWLn8",
        "colab_type": "code",
        "colab": {}
      },
      "source": [
        "df = pd.DataFrame(imagesSizes)"
      ],
      "execution_count": 0,
      "outputs": []
    },
    {
      "cell_type": "code",
      "metadata": {
        "id": "xc9pn9WEYe8L",
        "colab_type": "code",
        "outputId": "3967fa2f-315f-4772-a81a-de5a1eeee620",
        "colab": {
          "base_uri": "https://localhost:8080/",
          "height": 297
        }
      },
      "source": [
        "df.describe()"
      ],
      "execution_count": 0,
      "outputs": [
        {
          "output_type": "execute_result",
          "data": {
            "text/html": [
              "<div>\n",
              "<style scoped>\n",
              "    .dataframe tbody tr th:only-of-type {\n",
              "        vertical-align: middle;\n",
              "    }\n",
              "\n",
              "    .dataframe tbody tr th {\n",
              "        vertical-align: top;\n",
              "    }\n",
              "\n",
              "    .dataframe thead th {\n",
              "        text-align: right;\n",
              "    }\n",
              "</style>\n",
              "<table border=\"1\" class=\"dataframe\">\n",
              "  <thead>\n",
              "    <tr style=\"text-align: right;\">\n",
              "      <th></th>\n",
              "      <th>0</th>\n",
              "      <th>1</th>\n",
              "    </tr>\n",
              "  </thead>\n",
              "  <tbody>\n",
              "    <tr>\n",
              "      <th>count</th>\n",
              "      <td>8266.000000</td>\n",
              "      <td>8266.000000</td>\n",
              "    </tr>\n",
              "    <tr>\n",
              "      <th>mean</th>\n",
              "      <td>736.518993</td>\n",
              "      <td>602.887612</td>\n",
              "    </tr>\n",
              "    <tr>\n",
              "      <th>std</th>\n",
              "      <td>110.776211</td>\n",
              "      <td>124.176485</td>\n",
              "    </tr>\n",
              "    <tr>\n",
              "      <th>min</th>\n",
              "      <td>48.000000</td>\n",
              "      <td>48.000000</td>\n",
              "    </tr>\n",
              "    <tr>\n",
              "      <th>25%</th>\n",
              "      <td>640.000000</td>\n",
              "      <td>533.000000</td>\n",
              "    </tr>\n",
              "    <tr>\n",
              "      <th>50%</th>\n",
              "      <td>800.000000</td>\n",
              "      <td>600.000000</td>\n",
              "    </tr>\n",
              "    <tr>\n",
              "      <th>75%</th>\n",
              "      <td>800.000000</td>\n",
              "      <td>612.000000</td>\n",
              "    </tr>\n",
              "    <tr>\n",
              "      <th>max</th>\n",
              "      <td>800.000000</td>\n",
              "      <td>800.000000</td>\n",
              "    </tr>\n",
              "  </tbody>\n",
              "</table>\n",
              "</div>"
            ],
            "text/plain": [
              "                 0            1\n",
              "count  8266.000000  8266.000000\n",
              "mean    736.518993   602.887612\n",
              "std     110.776211   124.176485\n",
              "min      48.000000    48.000000\n",
              "25%     640.000000   533.000000\n",
              "50%     800.000000   600.000000\n",
              "75%     800.000000   612.000000\n",
              "max     800.000000   800.000000"
            ]
          },
          "metadata": {
            "tags": []
          },
          "execution_count": 21
        }
      ]
    },
    {
      "cell_type": "code",
      "metadata": {
        "id": "awISwKySIOUV",
        "colab_type": "code",
        "outputId": "9785d7dd-8fa0-4e54-98d4-7135707f90d5",
        "colab": {
          "base_uri": "https://localhost:8080/",
          "height": 34
        }
      },
      "source": [
        "df[1].nunique()"
      ],
      "execution_count": 0,
      "outputs": [
        {
          "output_type": "execute_result",
          "data": {
            "text/plain": [
              "481"
            ]
          },
          "metadata": {
            "tags": []
          },
          "execution_count": 25
        }
      ]
    },
    {
      "cell_type": "code",
      "metadata": {
        "id": "oM1q08raDmYz",
        "colab_type": "code",
        "outputId": "408b5f7d-453f-42e1-c06b-2828e15dfb3e",
        "colab": {
          "base_uri": "https://localhost:8080/",
          "height": 34
        }
      },
      "source": [
        "train_images_data_dir.absolute"
      ],
      "execution_count": 0,
      "outputs": [
        {
          "output_type": "execute_result",
          "data": {
            "text/plain": [
              "<bound method Path.absolute of PosixPath('/root/.keras/datasets/0 2')>"
            ]
          },
          "metadata": {
            "tags": []
          },
          "execution_count": 38
        }
      ]
    },
    {
      "cell_type": "code",
      "metadata": {
        "id": "FbVuEHVYEbDB",
        "colab_type": "code",
        "outputId": "c048da66-ca25-425d-9121-270dd4ec9634",
        "colab": {
          "base_uri": "https://localhost:8080/",
          "height": 51
        }
      },
      "source": [
        "!ls \"/root/.keras/datasets/\""
      ],
      "execution_count": 0,
      "outputs": [
        {
          "output_type": "stream",
          "text": [
            " 0\t       0.tar.gz\t\t       train.csv\n",
            "'0 2.tar.gz'   train_attribution.csv   train_label_to_category.csv\n"
          ],
          "name": "stdout"
        }
      ]
    },
    {
      "cell_type": "code",
      "metadata": {
        "id": "zroJRX9QEhZi",
        "colab_type": "code",
        "outputId": "3ef05570-301a-4a87-86bd-d74e55aaa1c2",
        "colab": {
          "base_uri": "https://localhost:8080/",
          "height": 34
        }
      },
      "source": [
        "!ls \"/root/.keras/datasets/0 2/\""
      ],
      "execution_count": 0,
      "outputs": [
        {
          "output_type": "stream",
          "text": [
            "ls: cannot access '/root/.keras/datasets/0 2/': No such file or directory\n"
          ],
          "name": "stdout"
        }
      ]
    },
    {
      "cell_type": "code",
      "metadata": {
        "id": "9B1syRs-ErAm",
        "colab_type": "code",
        "colab": {}
      },
      "source": [
        "import tensorflow_datasets.public_api as tfds"
      ],
      "execution_count": 0,
      "outputs": []
    },
    {
      "cell_type": "code",
      "metadata": {
        "id": "BsduVS-oJqL5",
        "colab_type": "code",
        "outputId": "bdf7a97c-bbc9-4838-cb18-3e02738f669b",
        "colab": {
          "base_uri": "https://localhost:8080/",
          "height": 164
        }
      },
      "source": [
        "test = tfds.download.DownloadManager.download(TRAIN_IMAGES_DATA_TAR_URL)"
      ],
      "execution_count": 0,
      "outputs": [
        {
          "output_type": "error",
          "ename": "TypeError",
          "evalue": "ignored",
          "traceback": [
            "\u001b[0;31m---------------------------------------------------------------------------\u001b[0m",
            "\u001b[0;31mTypeError\u001b[0m                                 Traceback (most recent call last)",
            "\u001b[0;32m<ipython-input-72-872c532d09df>\u001b[0m in \u001b[0;36m<module>\u001b[0;34m()\u001b[0m\n\u001b[0;32m----> 1\u001b[0;31m \u001b[0mtest\u001b[0m \u001b[0;34m=\u001b[0m \u001b[0mtfds\u001b[0m\u001b[0;34m.\u001b[0m\u001b[0mdownload\u001b[0m\u001b[0;34m.\u001b[0m\u001b[0mDownloadManager\u001b[0m\u001b[0;34m.\u001b[0m\u001b[0mdownload\u001b[0m\u001b[0;34m(\u001b[0m\u001b[0mTRAIN_IMAGES_DATA_TAR_URL\u001b[0m\u001b[0;34m)\u001b[0m\u001b[0;34m\u001b[0m\u001b[0;34m\u001b[0m\u001b[0m\n\u001b[0m",
            "\u001b[0;31mTypeError\u001b[0m: download() missing 1 required positional argument: 'url_or_urls'"
          ]
        }
      ]
    },
    {
      "cell_type": "code",
      "metadata": {
        "id": "V_wGtLhtKOQl",
        "colab_type": "code",
        "outputId": "e52c9a64-26a5-4e8a-f381-1da79b831fc5",
        "colab": {
          "base_uri": "https://localhost:8080/",
          "height": 164
        }
      },
      "source": [
        "dl_manager.download(TRAIN_IMAGES_DATA_TAR_URL)"
      ],
      "execution_count": 0,
      "outputs": [
        {
          "output_type": "error",
          "ename": "NameError",
          "evalue": "ignored",
          "traceback": [
            "\u001b[0;31m---------------------------------------------------------------------------\u001b[0m",
            "\u001b[0;31mNameError\u001b[0m                                 Traceback (most recent call last)",
            "\u001b[0;32m<ipython-input-73-cbedc753d29b>\u001b[0m in \u001b[0;36m<module>\u001b[0;34m()\u001b[0m\n\u001b[0;32m----> 1\u001b[0;31m \u001b[0mdl_manager\u001b[0m\u001b[0;34m.\u001b[0m\u001b[0mdownload\u001b[0m\u001b[0;34m(\u001b[0m\u001b[0mTRAIN_IMAGES_DATA_TAR_URL\u001b[0m\u001b[0;34m)\u001b[0m\u001b[0;34m\u001b[0m\u001b[0;34m\u001b[0m\u001b[0m\n\u001b[0m",
            "\u001b[0;31mNameError\u001b[0m: name 'dl_manager' is not defined"
          ]
        }
      ]
    },
    {
      "cell_type": "code",
      "metadata": {
        "id": "tIn7vMrvNDpW",
        "colab_type": "code",
        "colab": {}
      },
      "source": [
        ""
      ],
      "execution_count": 0,
      "outputs": []
    }
  ]
}